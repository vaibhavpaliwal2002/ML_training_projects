{
 "cells": [
  {
   "cell_type": "code",
   "execution_count": 1,
   "id": "1f5b63b9",
   "metadata": {},
   "outputs": [],
   "source": [
    "import pandas as pd\n",
    "import numpy as np\n",
    "import matplotlib.pyplot as plt\n",
    "import seaborn as sns\n",
    "import tensorflow as tf\n",
    "from tensorflow import keras\n",
    "\n",
    "tf.random.set_seed = 77\n",
    "np.random.seed = 77"
   ]
  },
  {
   "cell_type": "code",
   "execution_count": 2,
   "id": "59020ea9",
   "metadata": {},
   "outputs": [],
   "source": [
    "from tensorflow.keras.preprocessing.image import ImageDataGenerator"
   ]
  },
  {
   "cell_type": "code",
   "execution_count": 3,
   "id": "cae11a6f",
   "metadata": {},
   "outputs": [],
   "source": [
    "train_dir = r\"/home/vaibhav/Downloads/covid/archive (1)/train\"\n",
    "test_dir = r\"/home/vaibhav/Downloads/covid/archive (1)/test\""
   ]
  },
  {
   "cell_type": "code",
   "execution_count": 4,
   "id": "09814626",
   "metadata": {},
   "outputs": [],
   "source": [
    "train_gen = ImageDataGenerator()\n",
    "test_gen = ImageDataGenerator(validation_split=0.4)"
   ]
  },
  {
   "cell_type": "code",
   "execution_count": 5,
   "id": "bc49970c",
   "metadata": {},
   "outputs": [
    {
     "name": "stdout",
     "output_type": "stream",
     "text": [
      "Found 2002 images belonging to 4 classes.\n",
      "Found 394 images belonging to 4 classes.\n"
     ]
    }
   ],
   "source": [
    "train = train_gen.flow_from_directory(train_dir,\n",
    "                                      (300,400),\n",
    "                                      \"grayscale\",\n",
    "                                      class_mode = 'sparse',\n",
    "                                      batch_size = 20)\n",
    "\n",
    "valid = test_gen.flow_from_directory(test_dir,\n",
    "                                      (300,400),\n",
    "                                      \"grayscale\",\n",
    "                                      class_mode = 'sparse',\n",
    "                                      batch_size = 20,\n",
    "                                     subset=\"validation\")"
   ]
  },
  {
   "cell_type": "markdown",
   "id": "d75fd64c",
   "metadata": {},
   "source": [
    " "
   ]
  },
  {
   "cell_type": "markdown",
   "id": "3d56e30c",
   "metadata": {},
   "source": [
    " "
   ]
  },
  {
   "cell_type": "code",
   "execution_count": 6,
   "id": "8224bc12",
   "metadata": {
    "scrolled": true
   },
   "outputs": [
    {
     "name": "stderr",
     "output_type": "stream",
     "text": [
      "2021-08-30 09:26:01.867347: I tensorflow/compiler/jit/xla_cpu_device.cc:41] Not creating XLA devices, tf_xla_enable_xla_devices not set\n",
      "2021-08-30 09:26:01.867537: I tensorflow/core/platform/cpu_feature_guard.cc:142] This TensorFlow binary is optimized with oneAPI Deep Neural Network Library (oneDNN) to use the following CPU instructions in performance-critical operations:  SSE4.1 SSE4.2 AVX AVX2 FMA\n",
      "To enable them in other operations, rebuild TensorFlow with the appropriate compiler flags.\n",
      "2021-08-30 09:26:01.868377: I tensorflow/core/common_runtime/process_util.cc:146] Creating new thread pool with default inter op setting: 2. Tune using inter_op_parallelism_threads for best performance.\n"
     ]
    }
   ],
   "source": [
    "model = keras.models.Sequential()"
   ]
  },
  {
   "cell_type": "code",
   "execution_count": 7,
   "id": "1d0be8eb",
   "metadata": {},
   "outputs": [],
   "source": [
    "from tensorflow.keras import layers"
   ]
  },
  {
   "cell_type": "code",
   "execution_count": 8,
   "id": "391beb41",
   "metadata": {},
   "outputs": [],
   "source": [
    "model.add(layers.Conv2D(32,(3,3),activation = \"relu\",input_shape=(300,400,1)))"
   ]
  },
  {
   "cell_type": "code",
   "execution_count": 9,
   "id": "35e83d07",
   "metadata": {},
   "outputs": [],
   "source": [
    "model.add(layers.MaxPooling2D((2,2)))\n",
    "\n",
    "model.add(layers.Conv2D(64,\n",
    "                        (3,3),\n",
    "                        activation = \"relu\"))\n",
    "model.add(layers.MaxPooling2D((2,2)))\n",
    "\n",
    "model.add(layers.Conv2D(128,\n",
    "                        (3,3),\n",
    "                        activation = \"relu\"))\n",
    "model.add(layers.MaxPooling2D((2,2)))\n",
    "\n",
    "model.add(layers.Conv2D(128,\n",
    "                        (3,3),\n",
    "                        activation = \"relu\"))\n",
    "model.add(layers.MaxPooling2D((2,2)))\n",
    "\n",
    "model.add(layers.MaxPooling2D((2,2)))\n",
    "\n",
    "\n",
    "model.add(layers.Flatten())\n",
    "\n",
    "model.add(layers.Dropout(0.4))\n",
    "\n",
    "model.add(layers.Dense(250,activation=\"relu\"))\n",
    "model.add(layers.Dense(200,activation=\"relu\"))\n",
    "\n",
    "model.add(layers.Dense(4,activation=\"softmax\"))"
   ]
  },
  {
   "cell_type": "code",
   "execution_count": 10,
   "id": "d7c6c66f",
   "metadata": {},
   "outputs": [
    {
     "name": "stdout",
     "output_type": "stream",
     "text": [
      "Model: \"sequential\"\n",
      "_________________________________________________________________\n",
      "Layer (type)                 Output Shape              Param #   \n",
      "=================================================================\n",
      "conv2d (Conv2D)              (None, 298, 398, 32)      320       \n",
      "_________________________________________________________________\n",
      "max_pooling2d (MaxPooling2D) (None, 149, 199, 32)      0         \n",
      "_________________________________________________________________\n",
      "conv2d_1 (Conv2D)            (None, 147, 197, 64)      18496     \n",
      "_________________________________________________________________\n",
      "max_pooling2d_1 (MaxPooling2 (None, 73, 98, 64)        0         \n",
      "_________________________________________________________________\n",
      "conv2d_2 (Conv2D)            (None, 71, 96, 128)       73856     \n",
      "_________________________________________________________________\n",
      "max_pooling2d_2 (MaxPooling2 (None, 35, 48, 128)       0         \n",
      "_________________________________________________________________\n",
      "conv2d_3 (Conv2D)            (None, 33, 46, 128)       147584    \n",
      "_________________________________________________________________\n",
      "max_pooling2d_3 (MaxPooling2 (None, 16, 23, 128)       0         \n",
      "_________________________________________________________________\n",
      "max_pooling2d_4 (MaxPooling2 (None, 8, 11, 128)        0         \n",
      "_________________________________________________________________\n",
      "flatten (Flatten)            (None, 11264)             0         \n",
      "_________________________________________________________________\n",
      "dropout (Dropout)            (None, 11264)             0         \n",
      "_________________________________________________________________\n",
      "dense (Dense)                (None, 250)               2816250   \n",
      "_________________________________________________________________\n",
      "dense_1 (Dense)              (None, 200)               50200     \n",
      "_________________________________________________________________\n",
      "dense_2 (Dense)              (None, 4)                 804       \n",
      "=================================================================\n",
      "Total params: 3,107,510\n",
      "Trainable params: 3,107,510\n",
      "Non-trainable params: 0\n",
      "_________________________________________________________________\n"
     ]
    }
   ],
   "source": [
    "model.summary()"
   ]
  },
  {
   "cell_type": "code",
   "execution_count": 11,
   "id": "4c6fdea8",
   "metadata": {},
   "outputs": [
    {
     "data": {
      "image/png": "[encoded data removed]",
      "text/plain": [
       "<IPython.core.display.Image object>"
      ]
     },
     "execution_count": 11,
     "metadata": {},
     "output_type": "execute_result"
    }
   ],
   "source": [
    "keras.utils.plot_model(model)"
   ]
  },
  {
   "cell_type": "code",
   "execution_count": 12,
   "id": "6c7d6780",
   "metadata": {},
   "outputs": [],
   "source": [
    "model.compile(keras.optimizers.RMSprop(lr=0.001),\"sparse_categorical_crossentropy\",[\"acc\"])"
   ]
  },
  {
   "cell_type": "code",
   "execution_count": 13,
   "id": "ed5d5feb",
   "metadata": {
    "scrolled": false
   },
   "outputs": [
    {
     "name": "stderr",
     "output_type": "stream",
     "text": [
      "/home/vaibhav/anaconda3/lib/python3.8/site-packages/tensorflow/python/keras/engine/training.py:1844: UserWarning: `Model.fit_generator` is deprecated and will be removed in a future version. Please use `Model.fit`, which supports generators.\n",
      "  warnings.warn('`Model.fit_generator` is deprecated and '\n",
      "2021-08-30 09:26:13.564059: I tensorflow/compiler/mlir/mlir_graph_optimization_pass.cc:116] None of the MLIR optimization passes are enabled (registered 2)\n",
      "2021-08-30 09:26:13.581091: I tensorflow/core/platform/profile_utils/cpu_utils.cc:112] CPU Frequency: 3593330000 Hz\n"
     ]
    },
    {
     "name": "stdout",
     "output_type": "stream",
     "text": [
      "Epoch 1/10\n",
      "100/100 [==============================] - 112s 1s/step - loss: 16.6544 - acc: 0.5140 - val_loss: 1.1549 - val_acc: 0.4263\n",
      "Epoch 2/10\n",
      "100/100 [==============================] - 112s 1s/step - loss: 0.7937 - acc: 0.6930 - val_loss: 1.8143 - val_acc: 0.6474\n",
      "Epoch 3/10\n",
      "100/100 [==============================] - 112s 1s/step - loss: 0.6897 - acc: 0.7282 - val_loss: 1.6324 - val_acc: 0.5237\n",
      "Epoch 4/10\n",
      "100/100 [==============================] - 111s 1s/step - loss: 0.6265 - acc: 0.7492 - val_loss: 1.4731 - val_acc: 0.5789\n",
      "Epoch 5/10\n",
      "100/100 [==============================] - 111s 1s/step - loss: 0.4952 - acc: 0.8063 - val_loss: 3.2683 - val_acc: 0.6000\n",
      "Epoch 6/10\n",
      "100/100 [==============================] - 111s 1s/step - loss: 0.4740 - acc: 0.8056 - val_loss: 1.7561 - val_acc: 0.5474\n",
      "Epoch 7/10\n",
      "100/100 [==============================] - 112s 1s/step - loss: 0.4494 - acc: 0.8231 - val_loss: 1.7696 - val_acc: 0.5553\n",
      "Epoch 8/10\n",
      "100/100 [==============================] - 112s 1s/step - loss: 0.3788 - acc: 0.8430 - val_loss: 1.5358 - val_acc: 0.5000\n",
      "Epoch 9/10\n",
      "100/100 [==============================] - 112s 1s/step - loss: 0.4078 - acc: 0.8485 - val_loss: 1.4602 - val_acc: 0.5553\n",
      "Epoch 10/10\n",
      "100/100 [==============================] - 111s 1s/step - loss: 0.3296 - acc: 0.8569 - val_loss: 1.9244 - val_acc: 0.5789\n"
     ]
    }
   ],
   "source": [
    "model_his = model.fit_generator(train,\n",
    "                    100,\n",
    "                    10,\n",
    "                    validation_data=valid,\n",
    "                    validation_steps=19)"
   ]
  },
  {
   "cell_type": "code",
   "execution_count": 14,
   "id": "fe3d2ea5",
   "metadata": {
    "scrolled": false
   },
   "outputs": [
    {
     "data": {
      "text/plain": [
       "(0.0, 1.0)"
      ]
     },
     "execution_count": 14,
     "metadata": {},
     "output_type": "execute_result"
    },
    {
     "data": {
      "image/png": "[encoded data removed]",
      "text/plain": [
       "<Figure size 432x288 with 1 Axes>"
      ]
     },
     "metadata": {
      "needs_background": "light"
     },
     "output_type": "display_data"
    }
   ],
   "source": [
    "pd.DataFrame(model_his.history).plot()\n",
    "plt.gca().set_ylim(0,1)"
   ]
  },
  {
   "cell_type": "code",
   "execution_count": 15,
   "id": "fb336836",
   "metadata": {
    "scrolled": false
   },
   "outputs": [
    {
     "name": "stderr",
     "output_type": "stream",
     "text": [
      "/home/vaibhav/anaconda3/lib/python3.8/site-packages/tensorflow/python/keras/engine/training.py:1844: UserWarning: `Model.fit_generator` is deprecated and will be removed in a future version. Please use `Model.fit`, which supports generators.\n",
      "  warnings.warn('`Model.fit_generator` is deprecated and '\n"
     ]
    },
    {
     "name": "stdout",
     "output_type": "stream",
     "text": [
      "Epoch 1/10\n",
      "100/100 [==============================] - 113s 1s/step - loss: 0.3119 - acc: 0.8688 - val_loss: 3.1716 - val_acc: 0.5421\n",
      "Epoch 2/10\n",
      "100/100 [==============================] - 112s 1s/step - loss: 0.3097 - acc: 0.8744 - val_loss: 2.8731 - val_acc: 0.5816\n",
      "Epoch 3/10\n",
      "100/100 [==============================] - 113s 1s/step - loss: 0.3021 - acc: 0.8754 - val_loss: 2.1709 - val_acc: 0.5211\n",
      "Epoch 4/10\n",
      "100/100 [==============================] - 112s 1s/step - loss: 0.3057 - acc: 0.8865 - val_loss: 3.7109 - val_acc: 0.5289\n",
      "Epoch 5/10\n",
      "100/100 [==============================] - 112s 1s/step - loss: 0.2960 - acc: 0.9046 - val_loss: 3.0325 - val_acc: 0.5658\n",
      "Epoch 6/10\n",
      "100/100 [==============================] - 111s 1s/step - loss: 0.2362 - acc: 0.9157 - val_loss: 4.6008 - val_acc: 0.5579\n",
      "Epoch 7/10\n",
      "100/100 [==============================] - 112s 1s/step - loss: 0.2382 - acc: 0.9190 - val_loss: 5.3558 - val_acc: 0.5842\n",
      "Epoch 8/10\n",
      "100/100 [==============================] - 110s 1s/step - loss: 0.2393 - acc: 0.9142 - val_loss: 4.7028 - val_acc: 0.5763\n",
      "Epoch 9/10\n",
      "100/100 [==============================] - 111s 1s/step - loss: 0.2434 - acc: 0.9168 - val_loss: 3.3144 - val_acc: 0.5816\n",
      "Epoch 10/10\n",
      "100/100 [==============================] - 112s 1s/step - loss: 0.2156 - acc: 0.9228 - val_loss: 4.4922 - val_acc: 0.5816\n"
     ]
    }
   ],
   "source": [
    "model_his = model.fit_generator(train,\n",
    "                    100,\n",
    "                    10,\n",
    "                    validation_data=valid,\n",
    "                    validation_steps=19)"
   ]
  },
  {
   "cell_type": "code",
   "execution_count": 18,
   "id": "fb021d8b",
   "metadata": {},
   "outputs": [
    {
     "data": {
      "text/plain": [
       "(0.0, 1.0)"
      ]
     },
     "execution_count": 18,
     "metadata": {},
     "output_type": "execute_result"
    },
    {
     "data": {
      "image/png": "[encoded data removed]",
      "text/plain": [
       "<Figure size 432x288 with 1 Axes>"
      ]
     },
     "metadata": {
      "needs_background": "light"
     },
     "output_type": "display_data"
    }
   ],
   "source": [
    "pd.DataFrame(model_his.history).plot()\n",
    "plt.gca().set_ylim(0,1)"
   ]
  },
  {
   "cell_type": "markdown",
   "id": "b95389f0",
   "metadata": {},
   "source": [
    " "
   ]
  },
  {
   "cell_type": "markdown",
   "id": "01be8ecb",
   "metadata": {},
   "source": [
    " "
   ]
  },
  {
   "cell_type": "markdown",
   "id": "d1d17ea3",
   "metadata": {},
   "source": [
    " "
   ]
  },
  {
   "cell_type": "code",
   "execution_count": 32,
   "id": "a0ffc31d",
   "metadata": {},
   "outputs": [],
   "source": [
    "del model\n",
    "keras.backend.clear_session()"
   ]
  },
  {
   "cell_type": "markdown",
   "id": "fc5f7c9f",
   "metadata": {},
   "source": [
    "# Resolving Overfitting"
   ]
  },
  {
   "cell_type": "code",
   "execution_count": 33,
   "id": "c9e0b925",
   "metadata": {},
   "outputs": [],
   "source": [
    "import pandas as pd\n",
    "import numpy as np\n",
    "import matplotlib.pyplot as plt\n",
    "import seaborn as sns\n",
    "import tensorflow as tf\n",
    "from tensorflow import keras"
   ]
  },
  {
   "cell_type": "code",
   "execution_count": 34,
   "id": "2002f4fb",
   "metadata": {},
   "outputs": [],
   "source": [
    "from tensorflow.keras.preprocessing.image import ImageDataGenerator"
   ]
  },
  {
   "cell_type": "code",
   "execution_count": 35,
   "id": "049d6143",
   "metadata": {},
   "outputs": [],
   "source": [
    "train_dir = r\"/home/vaibhav/Downloads/covid/archive (1)/train\"\n",
    "test_dir = r\"/home/vaibhav/Downloads/covid/archive (1)/test\""
   ]
  },
  {
   "cell_type": "code",
   "execution_count": 36,
   "id": "6e035c72",
   "metadata": {},
   "outputs": [],
   "source": [
    "train_gen = ImageDataGenerator(rotation_range=40,\n",
    "                               width_shift_range=0.25,\n",
    "                               height_shift_range=0.25,\n",
    "                               shear_range=0.25,\n",
    "                               zoom_range=0.35,\n",
    "                               horizontal_flip=True)\n",
    "test_gen = ImageDataGenerator(validation_split = 0.4)"
   ]
  },
  {
   "cell_type": "code",
   "execution_count": 37,
   "id": "1e5beeaf",
   "metadata": {},
   "outputs": [
    {
     "name": "stdout",
     "output_type": "stream",
     "text": [
      "Found 2002 images belonging to 4 classes.\n",
      "Found 394 images belonging to 4 classes.\n"
     ]
    }
   ],
   "source": [
    "train = train_gen.flow_from_directory(train_dir,\n",
    "                                      (300,400),\n",
    "                                      \"grayscale\",\n",
    "                                      class_mode = 'sparse',\n",
    "                                      batch_size = 20)\n",
    "\n",
    "valid = test_gen.flow_from_directory(test_dir,\n",
    "                                      (300,400),\n",
    "                                      \"grayscale\",\n",
    "                                      class_mode = 'sparse',\n",
    "                                      batch_size = 20,\n",
    "                                     subset=\"validation\")"
   ]
  },
  {
   "cell_type": "code",
   "execution_count": 38,
   "id": "8f2420fc",
   "metadata": {
    "scrolled": true
   },
   "outputs": [],
   "source": [
    "model = keras.models.Sequential()"
   ]
  },
  {
   "cell_type": "code",
   "execution_count": 39,
   "id": "8297d0d7",
   "metadata": {},
   "outputs": [],
   "source": [
    "from tensorflow.keras import layers"
   ]
  },
  {
   "cell_type": "code",
   "execution_count": 40,
   "id": "74d0cd88",
   "metadata": {},
   "outputs": [],
   "source": [
    "model.add(layers.Conv2D(32,(3,3),activation = \"relu\",input_shape=(300,400,1)))"
   ]
  },
  {
   "cell_type": "code",
   "execution_count": 41,
   "id": "462ad8ed",
   "metadata": {},
   "outputs": [],
   "source": [
    "model.add(layers.MaxPooling2D((2,2)))\n",
    "\n",
    "model.add(layers.Conv2D(64,\n",
    "                        (3,3),\n",
    "                        activation = \"relu\"))\n",
    "model.add(layers.MaxPooling2D((2,2)))\n",
    "\n",
    "model.add(layers.Conv2D(128,\n",
    "                        (3,3),\n",
    "                        activation = \"relu\"))\n",
    "model.add(layers.MaxPooling2D((2,2)))\n",
    "\n",
    "model.add(layers.Conv2D(128,\n",
    "                        (3,3),\n",
    "                        activation = \"relu\"))\n",
    "model.add(layers.MaxPooling2D((2,2)))\n",
    "\n",
    "\n",
    "model.add(layers.MaxPooling2D(2,2))\n",
    "\n",
    "model.add(layers.Flatten())\n",
    "\n",
    "model.add(layers.Dropout(0.4))\n",
    "\n",
    "model.add(layers.Dense(200,activation=\"relu\"))\n",
    "model.add(layers.Dense(200,activation=\"relu\"))\n",
    "\n",
    "model.add(layers.Dense(4,activation=\"softmax\"))"
   ]
  },
  {
   "cell_type": "code",
   "execution_count": 42,
   "id": "da8c5668",
   "metadata": {},
   "outputs": [],
   "source": [
    "model.compile(keras.optimizers.RMSprop(lr=0.001),\"sparse_categorical_crossentropy\",[\"acc\"])"
   ]
  },
  {
   "cell_type": "code",
   "execution_count": 43,
   "id": "9e878ce0",
   "metadata": {
    "scrolled": false
   },
   "outputs": [
    {
     "name": "stdout",
     "output_type": "stream",
     "text": [
      "Epoch 1/10\n",
      "100/100 [==============================] - 109s 1s/step - loss: 14.0393 - acc: 0.4293 - val_loss: 3.2540 - val_acc: 0.4553\n",
      "Epoch 2/10\n",
      "100/100 [==============================] - 107s 1s/step - loss: 1.2519 - acc: 0.5231 - val_loss: 1.1415 - val_acc: 0.4395\n",
      "Epoch 3/10\n",
      "100/100 [==============================] - 107s 1s/step - loss: 1.0618 - acc: 0.5982 - val_loss: 1.2384 - val_acc: 0.3632\n",
      "Epoch 4/10\n",
      "100/100 [==============================] - 107s 1s/step - loss: 1.0255 - acc: 0.6145 - val_loss: 0.9095 - val_acc: 0.6342\n",
      "Epoch 5/10\n",
      "100/100 [==============================] - 107s 1s/step - loss: 0.9123 - acc: 0.6263 - val_loss: 0.8646 - val_acc: 0.6816\n",
      "Epoch 6/10\n",
      "100/100 [==============================] - 107s 1s/step - loss: 0.8334 - acc: 0.6827 - val_loss: 0.9682 - val_acc: 0.5421\n",
      "Epoch 7/10\n",
      "100/100 [==============================] - 107s 1s/step - loss: 0.8336 - acc: 0.6741 - val_loss: 0.8984 - val_acc: 0.6368\n",
      "Epoch 8/10\n",
      "100/100 [==============================] - 107s 1s/step - loss: 0.7692 - acc: 0.6784 - val_loss: 0.9013 - val_acc: 0.6263\n",
      "Epoch 9/10\n",
      "100/100 [==============================] - 107s 1s/step - loss: 0.8418 - acc: 0.6734 - val_loss: 1.0244 - val_acc: 0.5368\n",
      "Epoch 10/10\n",
      "100/100 [==============================] - 109s 1s/step - loss: 0.8132 - acc: 0.6654 - val_loss: 1.0088 - val_acc: 0.5263\n"
     ]
    }
   ],
   "source": [
    "model_his = model.fit_generator(train,\n",
    "                    100,\n",
    "                    10,\n",
    "                    validation_data=valid,\n",
    "                    validation_steps=19)"
   ]
  },
  {
   "cell_type": "code",
   "execution_count": 44,
   "id": "e2520050",
   "metadata": {},
   "outputs": [
    {
     "data": {
      "text/plain": [
       "(0.0, 1.0)"
      ]
     },
     "execution_count": 44,
     "metadata": {},
     "output_type": "execute_result"
    },
    {
     "data": {
      "image/png": "[encoded data removed]",
      "text/plain": [
       "<Figure size 432x288 with 1 Axes>"
      ]
     },
     "metadata": {
      "needs_background": "light"
     },
     "output_type": "display_data"
    }
   ],
   "source": [
    "pd.DataFrame(model_his.history).plot()\n",
    "plt.gca().set_ylim(0,1)"
   ]
  },
  {
   "cell_type": "code",
   "execution_count": 45,
   "id": "ba0020d6",
   "metadata": {},
   "outputs": [
    {
     "name": "stderr",
     "output_type": "stream",
     "text": [
      "/home/vaibhav/anaconda3/lib/python3.8/site-packages/tensorflow/python/keras/engine/training.py:1844: UserWarning: `Model.fit_generator` is deprecated and will be removed in a future version. Please use `Model.fit`, which supports generators.\n",
      "  warnings.warn('`Model.fit_generator` is deprecated and '\n"
     ]
    },
    {
     "name": "stdout",
     "output_type": "stream",
     "text": [
      "Epoch 1/10\n",
      "100/100 [==============================] - 108s 1s/step - loss: 0.7900 - acc: 0.6746 - val_loss: 0.7531 - val_acc: 0.6789\n",
      "Epoch 2/10\n",
      "100/100 [==============================] - 109s 1s/step - loss: 0.7671 - acc: 0.6776 - val_loss: 0.8321 - val_acc: 0.6368\n",
      "Epoch 3/10\n",
      "100/100 [==============================] - 108s 1s/step - loss: 1.0004 - acc: 0.6413 - val_loss: 1.3961 - val_acc: 0.3447\n",
      "Epoch 4/10\n",
      "100/100 [==============================] - 108s 1s/step - loss: 0.7763 - acc: 0.6791 - val_loss: 0.7810 - val_acc: 0.7000\n",
      "Epoch 5/10\n",
      "100/100 [==============================] - 108s 1s/step - loss: 0.7749 - acc: 0.6882 - val_loss: 0.7892 - val_acc: 0.6895\n",
      "Epoch 6/10\n",
      "100/100 [==============================] - 108s 1s/step - loss: 0.7732 - acc: 0.6872 - val_loss: 0.8375 - val_acc: 0.6211\n",
      "Epoch 7/10\n",
      "100/100 [==============================] - 107s 1s/step - loss: 0.7628 - acc: 0.6796 - val_loss: 0.9850 - val_acc: 0.5632\n",
      "Epoch 8/10\n",
      "100/100 [==============================] - 107s 1s/step - loss: 0.7405 - acc: 0.7023 - val_loss: 1.3010 - val_acc: 0.6158\n",
      "Epoch 9/10\n",
      "100/100 [==============================] - 107s 1s/step - loss: 0.7478 - acc: 0.6912 - val_loss: 0.8243 - val_acc: 0.6947\n",
      "Epoch 10/10\n",
      "100/100 [==============================] - 107s 1s/step - loss: 0.9309 - acc: 0.6695 - val_loss: 0.8021 - val_acc: 0.7000\n"
     ]
    }
   ],
   "source": [
    "model_his = model.fit_generator(train,\n",
    "                    100,\n",
    "                    10,\n",
    "                    validation_data=valid,\n",
    "                    validation_steps=19)"
   ]
  },
  {
   "cell_type": "code",
   "execution_count": 46,
   "id": "c1e2cc1b",
   "metadata": {},
   "outputs": [
    {
     "data": {
      "text/plain": [
       "(0.0, 1.0)"
      ]
     },
     "execution_count": 46,
     "metadata": {},
     "output_type": "execute_result"
    },
    {
     "data": {
      "image/png": "[encoded data removed]",
      "text/plain": [
       "<Figure size 432x288 with 1 Axes>"
      ]
     },
     "metadata": {
      "needs_background": "light"
     },
     "output_type": "display_data"
    }
   ],
   "source": [
    "pd.DataFrame(model_his.history).plot()\n",
    "plt.gca().set_ylim(0,1)"
   ]
  },
  {
   "cell_type": "code",
   "execution_count": 48,
   "id": "86b96226",
   "metadata": {},
   "outputs": [
    {
     "name": "stdout",
     "output_type": "stream",
     "text": [
      "Found 594 images belonging to 4 classes.\n"
     ]
    }
   ],
   "source": [
    "test = test_gen.flow_from_directory(test_dir,\n",
    "                                      (300,400),\n",
    "                                      \"grayscale\",\n",
    "                                      class_mode = 'sparse',\n",
    "                                      batch_size = 20,\n",
    "                                     subset=\"training\")"
   ]
  },
  {
   "cell_type": "code",
   "execution_count": 50,
   "id": "32f23482",
   "metadata": {},
   "outputs": [],
   "source": [
    "score = model.evaluate_generator(test,29)"
   ]
  },
  {
   "cell_type": "code",
   "execution_count": 51,
   "id": "84b01ee8",
   "metadata": {},
   "outputs": [
    {
     "name": "stdout",
     "output_type": "stream",
     "text": [
      "Accuracy:  0.7534482479095459\n",
      "Loss:  0.6942911744117737\n"
     ]
    }
   ],
   "source": [
    "print(\"Accuracy: \",score[1])\n",
    "print(\"Loss: \",score[0])"
   ]
  },
  {
   "cell_type": "code",
   "execution_count": null,
   "id": "d3eac157",
   "metadata": {},
   "outputs": [],
   "source": []
  }
 ],
 "metadata": {
  "kernelspec": {
   "display_name": "Python 3 (ipykernel)",
   "language": "python",
   "name": "python3"
  },
  "language_info": {
   "codemirror_mode": {
    "name": "ipython",
    "version": 3
   },
   "file_extension": ".py",
   "mimetype": "text/x-python",
   "name": "python",
   "nbconvert_exporter": "python",
   "pygments_lexer": "ipython3",
   "version": "3.8.11"
  }
 },
 "nbformat": 4,
 "nbformat_minor": 5
}
