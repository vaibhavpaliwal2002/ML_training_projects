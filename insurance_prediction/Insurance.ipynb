{
 "cells": [
  {
   "cell_type": "code",
   "execution_count": 75,
   "id": "b4ff3516",
   "metadata": {},
   "outputs": [],
   "source": [
    "import pandas as pd\n",
    "import numpy as np\n",
    "import seaborn as sns\n",
    "import matplotlib.pyplot as plt"
   ]
  },
  {
   "cell_type": "code",
   "execution_count": 76,
   "id": "7d5c6af3",
   "metadata": {},
   "outputs": [],
   "source": [
    "data = pd.read_csv(\"/home/vaibhav/Downloads/Insurance/train.csv\")"
   ]
  },
  {
   "cell_type": "code",
   "execution_count": 77,
   "id": "40494715",
   "metadata": {},
   "outputs": [
    {
     "data": {
      "text/html": [
       "<div>\n",
       "<style scoped>\n",
       "    .dataframe tbody tr th:only-of-type {\n",
       "        vertical-align: middle;\n",
       "    }\n",
       "\n",
       "    .dataframe tbody tr th {\n",
       "        vertical-align: top;\n",
       "    }\n",
       "\n",
       "    .dataframe thead th {\n",
       "        text-align: right;\n",
       "    }\n",
       "</style>\n",
       "<table border=\"1\" class=\"dataframe\">\n",
       "  <thead>\n",
       "    <tr style=\"text-align: right;\">\n",
       "      <th></th>\n",
       "      <th>id</th>\n",
       "      <th>Gender</th>\n",
       "      <th>Age</th>\n",
       "      <th>Driving_License</th>\n",
       "      <th>Region_Code</th>\n",
       "      <th>Previously_Insured</th>\n",
       "      <th>Vehicle_Age</th>\n",
       "      <th>Vehicle_Damage</th>\n",
       "      <th>Annual_Premium</th>\n",
       "      <th>Policy_Sales_Channel</th>\n",
       "      <th>Vintage</th>\n",
       "      <th>Response</th>\n",
       "    </tr>\n",
       "  </thead>\n",
       "  <tbody>\n",
       "    <tr>\n",
       "      <th>0</th>\n",
       "      <td>1</td>\n",
       "      <td>Male</td>\n",
       "      <td>44</td>\n",
       "      <td>1</td>\n",
       "      <td>28.0</td>\n",
       "      <td>0</td>\n",
       "      <td>&gt; 2 Years</td>\n",
       "      <td>Yes</td>\n",
       "      <td>40454.0</td>\n",
       "      <td>26.0</td>\n",
       "      <td>217</td>\n",
       "      <td>1</td>\n",
       "    </tr>\n",
       "    <tr>\n",
       "      <th>1</th>\n",
       "      <td>2</td>\n",
       "      <td>Male</td>\n",
       "      <td>76</td>\n",
       "      <td>1</td>\n",
       "      <td>3.0</td>\n",
       "      <td>0</td>\n",
       "      <td>1-2 Year</td>\n",
       "      <td>No</td>\n",
       "      <td>33536.0</td>\n",
       "      <td>26.0</td>\n",
       "      <td>183</td>\n",
       "      <td>0</td>\n",
       "    </tr>\n",
       "    <tr>\n",
       "      <th>2</th>\n",
       "      <td>3</td>\n",
       "      <td>Male</td>\n",
       "      <td>47</td>\n",
       "      <td>1</td>\n",
       "      <td>28.0</td>\n",
       "      <td>0</td>\n",
       "      <td>&gt; 2 Years</td>\n",
       "      <td>Yes</td>\n",
       "      <td>38294.0</td>\n",
       "      <td>26.0</td>\n",
       "      <td>27</td>\n",
       "      <td>1</td>\n",
       "    </tr>\n",
       "    <tr>\n",
       "      <th>3</th>\n",
       "      <td>4</td>\n",
       "      <td>Male</td>\n",
       "      <td>21</td>\n",
       "      <td>1</td>\n",
       "      <td>11.0</td>\n",
       "      <td>1</td>\n",
       "      <td>&lt; 1 Year</td>\n",
       "      <td>No</td>\n",
       "      <td>28619.0</td>\n",
       "      <td>152.0</td>\n",
       "      <td>203</td>\n",
       "      <td>0</td>\n",
       "    </tr>\n",
       "    <tr>\n",
       "      <th>4</th>\n",
       "      <td>5</td>\n",
       "      <td>Female</td>\n",
       "      <td>29</td>\n",
       "      <td>1</td>\n",
       "      <td>41.0</td>\n",
       "      <td>1</td>\n",
       "      <td>&lt; 1 Year</td>\n",
       "      <td>No</td>\n",
       "      <td>27496.0</td>\n",
       "      <td>152.0</td>\n",
       "      <td>39</td>\n",
       "      <td>0</td>\n",
       "    </tr>\n",
       "  </tbody>\n",
       "</table>\n",
       "</div>"
      ],
      "text/plain": [
       "   id  Gender  Age  Driving_License  Region_Code  Previously_Insured  \\\n",
       "0   1    Male   44                1         28.0                   0   \n",
       "1   2    Male   76                1          3.0                   0   \n",
       "2   3    Male   47                1         28.0                   0   \n",
       "3   4    Male   21                1         11.0                   1   \n",
       "4   5  Female   29                1         41.0                   1   \n",
       "\n",
       "  Vehicle_Age Vehicle_Damage  Annual_Premium  Policy_Sales_Channel  Vintage  \\\n",
       "0   > 2 Years            Yes         40454.0                  26.0      217   \n",
       "1    1-2 Year             No         33536.0                  26.0      183   \n",
       "2   > 2 Years            Yes         38294.0                  26.0       27   \n",
       "3    < 1 Year             No         28619.0                 152.0      203   \n",
       "4    < 1 Year             No         27496.0                 152.0       39   \n",
       "\n",
       "   Response  \n",
       "0         1  \n",
       "1         0  \n",
       "2         1  \n",
       "3         0  \n",
       "4         0  "
      ]
     },
     "execution_count": 77,
     "metadata": {},
     "output_type": "execute_result"
    }
   ],
   "source": [
    "data.head()"
   ]
  },
  {
   "cell_type": "code",
   "execution_count": 78,
   "id": "08c90503",
   "metadata": {
    "scrolled": true
   },
   "outputs": [
    {
     "name": "stdout",
     "output_type": "stream",
     "text": [
      "<class 'pandas.core.frame.DataFrame'>\n",
      "RangeIndex: 381109 entries, 0 to 381108\n",
      "Data columns (total 12 columns):\n",
      " #   Column                Non-Null Count   Dtype  \n",
      "---  ------                --------------   -----  \n",
      " 0   id                    381109 non-null  int64  \n",
      " 1   Gender                381109 non-null  object \n",
      " 2   Age                   381109 non-null  int64  \n",
      " 3   Driving_License       381109 non-null  int64  \n",
      " 4   Region_Code           381109 non-null  float64\n",
      " 5   Previously_Insured    381109 non-null  int64  \n",
      " 6   Vehicle_Age           381109 non-null  object \n",
      " 7   Vehicle_Damage        381109 non-null  object \n",
      " 8   Annual_Premium        381109 non-null  float64\n",
      " 9   Policy_Sales_Channel  381109 non-null  float64\n",
      " 10  Vintage               381109 non-null  int64  \n",
      " 11  Response              381109 non-null  int64  \n",
      "dtypes: float64(3), int64(6), object(3)\n",
      "memory usage: 34.9+ MB\n"
     ]
    }
   ],
   "source": [
    "data.info()"
   ]
  },
  {
   "cell_type": "code",
   "execution_count": 79,
   "id": "96b615cf",
   "metadata": {},
   "outputs": [
    {
     "data": {
      "text/html": [
       "<div>\n",
       "<style scoped>\n",
       "    .dataframe tbody tr th:only-of-type {\n",
       "        vertical-align: middle;\n",
       "    }\n",
       "\n",
       "    .dataframe tbody tr th {\n",
       "        vertical-align: top;\n",
       "    }\n",
       "\n",
       "    .dataframe thead th {\n",
       "        text-align: right;\n",
       "    }\n",
       "</style>\n",
       "<table border=\"1\" class=\"dataframe\">\n",
       "  <thead>\n",
       "    <tr style=\"text-align: right;\">\n",
       "      <th></th>\n",
       "      <th>Gender</th>\n",
       "      <th>Vehicle_Age</th>\n",
       "      <th>Vehicle_Damage</th>\n",
       "    </tr>\n",
       "  </thead>\n",
       "  <tbody>\n",
       "    <tr>\n",
       "      <th>count</th>\n",
       "      <td>381109</td>\n",
       "      <td>381109</td>\n",
       "      <td>381109</td>\n",
       "    </tr>\n",
       "    <tr>\n",
       "      <th>unique</th>\n",
       "      <td>2</td>\n",
       "      <td>3</td>\n",
       "      <td>2</td>\n",
       "    </tr>\n",
       "    <tr>\n",
       "      <th>top</th>\n",
       "      <td>Male</td>\n",
       "      <td>1-2 Year</td>\n",
       "      <td>Yes</td>\n",
       "    </tr>\n",
       "    <tr>\n",
       "      <th>freq</th>\n",
       "      <td>206089</td>\n",
       "      <td>200316</td>\n",
       "      <td>192413</td>\n",
       "    </tr>\n",
       "  </tbody>\n",
       "</table>\n",
       "</div>"
      ],
      "text/plain": [
       "        Gender Vehicle_Age Vehicle_Damage\n",
       "count   381109      381109         381109\n",
       "unique       2           3              2\n",
       "top       Male    1-2 Year            Yes\n",
       "freq    206089      200316         192413"
      ]
     },
     "execution_count": 79,
     "metadata": {},
     "output_type": "execute_result"
    }
   ],
   "source": [
    "data.describe(include=\"object\")"
   ]
  },
  {
   "cell_type": "code",
   "execution_count": 80,
   "id": "7afff454",
   "metadata": {},
   "outputs": [
    {
     "data": {
      "text/html": [
       "<div>\n",
       "<style scoped>\n",
       "    .dataframe tbody tr th:only-of-type {\n",
       "        vertical-align: middle;\n",
       "    }\n",
       "\n",
       "    .dataframe tbody tr th {\n",
       "        vertical-align: top;\n",
       "    }\n",
       "\n",
       "    .dataframe thead th {\n",
       "        text-align: right;\n",
       "    }\n",
       "</style>\n",
       "<table border=\"1\" class=\"dataframe\">\n",
       "  <thead>\n",
       "    <tr style=\"text-align: right;\">\n",
       "      <th></th>\n",
       "      <th>id</th>\n",
       "      <th>Age</th>\n",
       "      <th>Driving_License</th>\n",
       "      <th>Region_Code</th>\n",
       "      <th>Previously_Insured</th>\n",
       "      <th>Annual_Premium</th>\n",
       "      <th>Policy_Sales_Channel</th>\n",
       "      <th>Vintage</th>\n",
       "      <th>Response</th>\n",
       "    </tr>\n",
       "  </thead>\n",
       "  <tbody>\n",
       "    <tr>\n",
       "      <th>count</th>\n",
       "      <td>381109.000000</td>\n",
       "      <td>381109.000000</td>\n",
       "      <td>381109.000000</td>\n",
       "      <td>381109.000000</td>\n",
       "      <td>381109.000000</td>\n",
       "      <td>381109.000000</td>\n",
       "      <td>381109.000000</td>\n",
       "      <td>381109.000000</td>\n",
       "      <td>381109.000000</td>\n",
       "    </tr>\n",
       "    <tr>\n",
       "      <th>mean</th>\n",
       "      <td>190555.000000</td>\n",
       "      <td>38.822584</td>\n",
       "      <td>0.997869</td>\n",
       "      <td>26.388807</td>\n",
       "      <td>0.458210</td>\n",
       "      <td>30564.389581</td>\n",
       "      <td>112.034295</td>\n",
       "      <td>154.347397</td>\n",
       "      <td>0.122563</td>\n",
       "    </tr>\n",
       "    <tr>\n",
       "      <th>std</th>\n",
       "      <td>110016.836208</td>\n",
       "      <td>15.511611</td>\n",
       "      <td>0.046110</td>\n",
       "      <td>13.229888</td>\n",
       "      <td>0.498251</td>\n",
       "      <td>17213.155057</td>\n",
       "      <td>54.203995</td>\n",
       "      <td>83.671304</td>\n",
       "      <td>0.327936</td>\n",
       "    </tr>\n",
       "    <tr>\n",
       "      <th>min</th>\n",
       "      <td>1.000000</td>\n",
       "      <td>20.000000</td>\n",
       "      <td>0.000000</td>\n",
       "      <td>0.000000</td>\n",
       "      <td>0.000000</td>\n",
       "      <td>2630.000000</td>\n",
       "      <td>1.000000</td>\n",
       "      <td>10.000000</td>\n",
       "      <td>0.000000</td>\n",
       "    </tr>\n",
       "    <tr>\n",
       "      <th>25%</th>\n",
       "      <td>95278.000000</td>\n",
       "      <td>25.000000</td>\n",
       "      <td>1.000000</td>\n",
       "      <td>15.000000</td>\n",
       "      <td>0.000000</td>\n",
       "      <td>24405.000000</td>\n",
       "      <td>29.000000</td>\n",
       "      <td>82.000000</td>\n",
       "      <td>0.000000</td>\n",
       "    </tr>\n",
       "    <tr>\n",
       "      <th>50%</th>\n",
       "      <td>190555.000000</td>\n",
       "      <td>36.000000</td>\n",
       "      <td>1.000000</td>\n",
       "      <td>28.000000</td>\n",
       "      <td>0.000000</td>\n",
       "      <td>31669.000000</td>\n",
       "      <td>133.000000</td>\n",
       "      <td>154.000000</td>\n",
       "      <td>0.000000</td>\n",
       "    </tr>\n",
       "    <tr>\n",
       "      <th>75%</th>\n",
       "      <td>285832.000000</td>\n",
       "      <td>49.000000</td>\n",
       "      <td>1.000000</td>\n",
       "      <td>35.000000</td>\n",
       "      <td>1.000000</td>\n",
       "      <td>39400.000000</td>\n",
       "      <td>152.000000</td>\n",
       "      <td>227.000000</td>\n",
       "      <td>0.000000</td>\n",
       "    </tr>\n",
       "    <tr>\n",
       "      <th>max</th>\n",
       "      <td>381109.000000</td>\n",
       "      <td>85.000000</td>\n",
       "      <td>1.000000</td>\n",
       "      <td>52.000000</td>\n",
       "      <td>1.000000</td>\n",
       "      <td>540165.000000</td>\n",
       "      <td>163.000000</td>\n",
       "      <td>299.000000</td>\n",
       "      <td>1.000000</td>\n",
       "    </tr>\n",
       "  </tbody>\n",
       "</table>\n",
       "</div>"
      ],
      "text/plain": [
       "                  id            Age  Driving_License    Region_Code  \\\n",
       "count  381109.000000  381109.000000    381109.000000  381109.000000   \n",
       "mean   190555.000000      38.822584         0.997869      26.388807   \n",
       "std    110016.836208      15.511611         0.046110      13.229888   \n",
       "min         1.000000      20.000000         0.000000       0.000000   \n",
       "25%     95278.000000      25.000000         1.000000      15.000000   \n",
       "50%    190555.000000      36.000000         1.000000      28.000000   \n",
       "75%    285832.000000      49.000000         1.000000      35.000000   \n",
       "max    381109.000000      85.000000         1.000000      52.000000   \n",
       "\n",
       "       Previously_Insured  Annual_Premium  Policy_Sales_Channel  \\\n",
       "count       381109.000000   381109.000000         381109.000000   \n",
       "mean             0.458210    30564.389581            112.034295   \n",
       "std              0.498251    17213.155057             54.203995   \n",
       "min              0.000000     2630.000000              1.000000   \n",
       "25%              0.000000    24405.000000             29.000000   \n",
       "50%              0.000000    31669.000000            133.000000   \n",
       "75%              1.000000    39400.000000            152.000000   \n",
       "max              1.000000   540165.000000            163.000000   \n",
       "\n",
       "             Vintage       Response  \n",
       "count  381109.000000  381109.000000  \n",
       "mean      154.347397       0.122563  \n",
       "std        83.671304       0.327936  \n",
       "min        10.000000       0.000000  \n",
       "25%        82.000000       0.000000  \n",
       "50%       154.000000       0.000000  \n",
       "75%       227.000000       0.000000  \n",
       "max       299.000000       1.000000  "
      ]
     },
     "execution_count": 80,
     "metadata": {},
     "output_type": "execute_result"
    }
   ],
   "source": [
    "data.describe()"
   ]
  },
  {
   "cell_type": "markdown",
   "id": "7092a1e9",
   "metadata": {},
   "source": [
    " "
   ]
  },
  {
   "cell_type": "markdown",
   "id": "a65cc029",
   "metadata": {},
   "source": [
    " "
   ]
  },
  {
   "cell_type": "markdown",
   "id": "3a76b7d5",
   "metadata": {},
   "source": [
    " "
   ]
  },
  {
   "cell_type": "markdown",
   "id": "ca2c1bc6",
   "metadata": {},
   "source": [
    " "
   ]
  },
  {
   "cell_type": "markdown",
   "id": "f27729e7",
   "metadata": {},
   "source": [
    "# Data Visualisation"
   ]
  },
  {
   "cell_type": "code",
   "execution_count": 132,
   "id": "a169fbad",
   "metadata": {
    "scrolled": false
   },
   "outputs": [
    {
     "name": "stdout",
     "output_type": "stream",
     "text": [
      "GENDER\n"
     ]
    },
    {
     "data": {
      "image/png": "[encoded data removed]",
      "text/plain": [
       "<Figure size 1440x720 with 1 Axes>"
      ]
     },
     "metadata": {},
     "output_type": "display_data"
    },
    {
     "name": "stdout",
     "output_type": "stream",
     "text": [
      "\n",
      "AGE\n"
     ]
    },
    {
     "data": {
      "image/png": "[encoded data removed]",
      "text/plain": [
       "<Figure size 1440x720 with 1 Axes>"
      ]
     },
     "metadata": {},
     "output_type": "display_data"
    },
    {
     "name": "stdout",
     "output_type": "stream",
     "text": [
      "\n",
      "DRIVING_LICENSE\n"
     ]
    },
    {
     "data": {
      "image/png": "[encoded data removed]",
      "text/plain": [
       "<Figure size 1440x720 with 1 Axes>"
      ]
     },
     "metadata": {},
     "output_type": "display_data"
    },
    {
     "name": "stdout",
     "output_type": "stream",
     "text": [
      "\n",
      "REGION_CODE\n"
     ]
    },
    {
     "data": {
      "image/png": "[encoded data removed]",
      "text/plain": [
       "<Figure size 1440x720 with 1 Axes>"
      ]
     },
     "metadata": {},
     "output_type": "display_data"
    },
    {
     "name": "stdout",
     "output_type": "stream",
     "text": [
      "\n",
      "PREVIOUSLY_INSURED\n"
     ]
    },
    {
     "data": {
      "image/png": "[encoded data removed]",
      "text/plain": [
       "<Figure size 1440x720 with 1 Axes>"
      ]
     },
     "metadata": {},
     "output_type": "display_data"
    },
    {
     "name": "stdout",
     "output_type": "stream",
     "text": [
      "\n",
      "VEHICLE_AGE\n"
     ]
    },
    {
     "data": {
      "image/png": "[encoded data removed]",
      "text/plain": [
       "<Figure size 1440x720 with 1 Axes>"
      ]
     },
     "metadata": {},
     "output_type": "display_data"
    },
    {
     "name": "stdout",
     "output_type": "stream",
     "text": [
      "\n",
      "VEHICLE_DAMAGE\n"
     ]
    },
    {
     "data": {
      "image/png": "[encoded data removed]",
      "text/plain": [
       "<Figure size 1440x720 with 1 Axes>"
      ]
     },
     "metadata": {},
     "output_type": "display_data"
    },
    {
     "name": "stdout",
     "output_type": "stream",
     "text": [
      "\n",
      "RESPONSE\n"
     ]
    },
    {
     "data": {
      "image/png": "[encoded data removed]",
      "text/plain": [
       "<Figure size 1440x720 with 1 Axes>"
      ]
     },
     "metadata": {},
     "output_type": "display_data"
    },
    {
     "name": "stdout",
     "output_type": "stream",
     "text": [
      "\n"
     ]
    }
   ],
   "source": [
    "\n",
    "for i in data.drop([\"id\",\"Annual_Premium\",\"Policy_Sales_Channel\",\"Vintage\"],axis=1):\n",
    "    print(i.upper())\n",
    "    fig,ax = plt.subplots(figsize=[20,10])\n",
    "    sns.countplot(x=data[i],ax=ax)\n",
    "    plt.show()\n",
    "    print()"
   ]
  },
  {
   "cell_type": "markdown",
   "id": "2782f7f4",
   "metadata": {},
   "source": [
    " "
   ]
  },
  {
   "cell_type": "markdown",
   "id": "ce114742",
   "metadata": {},
   "source": [
    " "
   ]
  },
  {
   "cell_type": "markdown",
   "id": "79927585",
   "metadata": {},
   "source": [
    " "
   ]
  },
  {
   "cell_type": "markdown",
   "id": "562f42af",
   "metadata": {},
   "source": [
    " "
   ]
  },
  {
   "cell_type": "code",
   "execution_count": 129,
   "id": "2b791fd0",
   "metadata": {
    "scrolled": false
   },
   "outputs": [
    {
     "name": "stdout",
     "output_type": "stream",
     "text": [
      "GENDER\n"
     ]
    },
    {
     "data": {
      "image/png": "[encoded data removed]",
      "text/plain": [
       "<Figure size 1440x720 with 1 Axes>"
      ]
     },
     "metadata": {},
     "output_type": "display_data"
    },
    {
     "name": "stdout",
     "output_type": "stream",
     "text": [
      "\n",
      "AGE\n"
     ]
    },
    {
     "data": {
      "image/png": "[encoded data removed]",
      "text/plain": [
       "<Figure size 1440x720 with 1 Axes>"
      ]
     },
     "metadata": {},
     "output_type": "display_data"
    },
    {
     "name": "stdout",
     "output_type": "stream",
     "text": [
      "\n",
      "DRIVING_LICENSE\n"
     ]
    },
    {
     "data": {
      "image/png": "[encoded data removed]",
      "text/plain": [
       "<Figure size 1440x720 with 1 Axes>"
      ]
     },
     "metadata": {},
     "output_type": "display_data"
    },
    {
     "name": "stdout",
     "output_type": "stream",
     "text": [
      "\n",
      "REGION_CODE\n"
     ]
    },
    {
     "data": {
      "image/png": "[encoded data removed]",
      "text/plain": [
       "<Figure size 1440x720 with 1 Axes>"
      ]
     },
     "metadata": {},
     "output_type": "display_data"
    },
    {
     "name": "stdout",
     "output_type": "stream",
     "text": [
      "\n",
      "PREVIOUSLY_INSURED\n"
     ]
    },
    {
     "data": {
      "image/png": "[encoded data removed]",
      "text/plain": [
       "<Figure size 1440x720 with 1 Axes>"
      ]
     },
     "metadata": {},
     "output_type": "display_data"
    },
    {
     "name": "stdout",
     "output_type": "stream",
     "text": [
      "\n",
      "VEHICLE_AGE\n"
     ]
    },
    {
     "data": {
      "image/png": "[encoded data removed]",
      "text/plain": [
       "<Figure size 1440x720 with 1 Axes>"
      ]
     },
     "metadata": {},
     "output_type": "display_data"
    },
    {
     "name": "stdout",
     "output_type": "stream",
     "text": [
      "\n",
      "VEHICLE_DAMAGE\n"
     ]
    },
    {
     "data": {
      "image/png": "[encoded data removed]",
      "text/plain": [
       "<Figure size 1440x720 with 1 Axes>"
      ]
     },
     "metadata": {},
     "output_type": "display_data"
    },
    {
     "name": "stdout",
     "output_type": "stream",
     "text": [
      "\n"
     ]
    }
   ],
   "source": [
    "\n",
    "for i in data.drop([\"id\",\"Annual_Premium\",\"Policy_Sales_Channel\",\"Vintage\",\"Response\"],axis=1):\n",
    "    print(i.upper())\n",
    "    fig,ax = plt.subplots(figsize=[20,10])\n",
    "    sns.barplot(x=data[i],y=data[\"Response\"],ax=ax,)\n",
    "    plt.show()\n",
    "    print()"
   ]
  },
  {
   "cell_type": "markdown",
   "id": "388c74da",
   "metadata": {},
   "source": [
    " "
   ]
  },
  {
   "cell_type": "markdown",
   "id": "fa86d31b",
   "metadata": {},
   "source": [
    " "
   ]
  },
  {
   "cell_type": "markdown",
   "id": "ce8507e9",
   "metadata": {},
   "source": [
    " "
   ]
  },
  {
   "cell_type": "markdown",
   "id": "d59fea0e",
   "metadata": {},
   "source": [
    " "
   ]
  },
  {
   "cell_type": "code",
   "execution_count": 133,
   "id": "8f0b5055",
   "metadata": {
    "scrolled": false
   },
   "outputs": [
    {
     "name": "stdout",
     "output_type": "stream",
     "text": [
      "AGE\n"
     ]
    },
    {
     "data": {
      "image/png": "[encoded data removed]",
      "text/plain": [
       "<Figure size 842.4x595.44 with 1 Axes>"
      ]
     },
     "metadata": {},
     "output_type": "display_data"
    },
    {
     "name": "stdout",
     "output_type": "stream",
     "text": [
      "\n",
      "REGION_CODE\n"
     ]
    },
    {
     "data": {
      "image/png": "[encoded data removed]",
      "text/plain": [
       "<Figure size 842.4x595.44 with 1 Axes>"
      ]
     },
     "metadata": {},
     "output_type": "display_data"
    },
    {
     "name": "stdout",
     "output_type": "stream",
     "text": [
      "\n",
      "ANNUAL_PREMIUM\n"
     ]
    },
    {
     "data": {
      "image/png": "[encoded data removed]",
      "text/plain": [
       "<Figure size 842.4x595.44 with 1 Axes>"
      ]
     },
     "metadata": {},
     "output_type": "display_data"
    },
    {
     "name": "stdout",
     "output_type": "stream",
     "text": [
      "\n",
      "POLICY_SALES_CHANNEL\n"
     ]
    },
    {
     "data": {
      "image/png": "[encoded data removed]",
      "text/plain": [
       "<Figure size 842.4x595.44 with 1 Axes>"
      ]
     },
     "metadata": {},
     "output_type": "display_data"
    },
    {
     "name": "stdout",
     "output_type": "stream",
     "text": [
      "\n",
      "VINTAGE\n"
     ]
    },
    {
     "data": {
      "image/png": "[encoded data removed]",
      "text/plain": [
       "<Figure size 842.4x595.44 with 1 Axes>"
      ]
     },
     "metadata": {},
     "output_type": "display_data"
    },
    {
     "name": "stdout",
     "output_type": "stream",
     "text": [
      "\n"
     ]
    }
   ],
   "source": [
    "for i in data.drop([\"Response\",\"id\",\"Vehicle_Age\",\"Vehicle_Damage\",\"Gender\",\"Driving_License\",\"Previously_Insured\"],axis=1):\n",
    "    print(i.upper())\n",
    "    \n",
    "    sns.boxplot(x=data[i])\n",
    "    plt.show()\n",
    "    print()"
   ]
  },
  {
   "cell_type": "markdown",
   "id": "6c044a91",
   "metadata": {},
   "source": [
    "# Outlier\n",
    "* Annual_Premium"
   ]
  },
  {
   "cell_type": "code",
   "execution_count": 134,
   "id": "406b6b40",
   "metadata": {},
   "outputs": [
    {
     "name": "stdout",
     "output_type": "stream",
     "text": [
      "72963.0\n"
     ]
    }
   ],
   "source": [
    "annual_lim = np.percentile(data[\"Annual_Premium\"],99)\n",
    "print(annual_lim)"
   ]
  },
  {
   "cell_type": "code",
   "execution_count": 135,
   "id": "14abfc3d",
   "metadata": {},
   "outputs": [
    {
     "name": "stderr",
     "output_type": "stream",
     "text": [
      "/tmp/ipykernel_13456/2457332502.py:1: SettingWithCopyWarning: \n",
      "A value is trying to be set on a copy of a slice from a DataFrame\n",
      "\n",
      "See the caveats in the documentation: https://pandas.pydata.org/pandas-docs/stable/user_guide/indexing.html#returning-a-view-versus-a-copy\n",
      "  data[\"Annual_Premium\"][data.Annual_Premium >= (2*annual_lim)] = annual_lim*2\n"
     ]
    }
   ],
   "source": [
    "data[\"Annual_Premium\"][data.Annual_Premium >= (2*annual_lim)] = annual_lim*2"
   ]
  },
  {
   "cell_type": "code",
   "execution_count": 136,
   "id": "df234964",
   "metadata": {},
   "outputs": [
    {
     "data": {
      "text/plain": [
       "<AxesSubplot:xlabel='Annual_Premium'>"
      ]
     },
     "execution_count": 136,
     "metadata": {},
     "output_type": "execute_result"
    },
    {
     "data": {
      "image/png": "[encoded data removed]",
      "text/plain": [
       "<Figure size 842.4x595.44 with 1 Axes>"
      ]
     },
     "metadata": {},
     "output_type": "display_data"
    }
   ],
   "source": [
    "sns.boxplot(x=data[\"Annual_Premium\"])"
   ]
  },
  {
   "cell_type": "markdown",
   "id": "e4a9ff0e",
   "metadata": {},
   "source": [
    " "
   ]
  },
  {
   "cell_type": "markdown",
   "id": "b352f39c",
   "metadata": {},
   "source": [
    " # Dummy variable"
   ]
  },
  {
   "cell_type": "code",
   "execution_count": 137,
   "id": "2e70d4e1",
   "metadata": {},
   "outputs": [],
   "source": [
    "data = pd.get_dummies(data)"
   ]
  },
  {
   "cell_type": "code",
   "execution_count": 138,
   "id": "e13bc480",
   "metadata": {},
   "outputs": [
    {
     "data": {
      "text/html": [
       "<div>\n",
       "<style scoped>\n",
       "    .dataframe tbody tr th:only-of-type {\n",
       "        vertical-align: middle;\n",
       "    }\n",
       "\n",
       "    .dataframe tbody tr th {\n",
       "        vertical-align: top;\n",
       "    }\n",
       "\n",
       "    .dataframe thead th {\n",
       "        text-align: right;\n",
       "    }\n",
       "</style>\n",
       "<table border=\"1\" class=\"dataframe\">\n",
       "  <thead>\n",
       "    <tr style=\"text-align: right;\">\n",
       "      <th></th>\n",
       "      <th>id</th>\n",
       "      <th>Age</th>\n",
       "      <th>Driving_License</th>\n",
       "      <th>Region_Code</th>\n",
       "      <th>Previously_Insured</th>\n",
       "      <th>Annual_Premium</th>\n",
       "      <th>Policy_Sales_Channel</th>\n",
       "      <th>Vintage</th>\n",
       "      <th>Response</th>\n",
       "      <th>Gender_Female</th>\n",
       "      <th>Gender_Male</th>\n",
       "      <th>Vehicle_Age_1-2 Year</th>\n",
       "      <th>Vehicle_Age_&lt; 1 Year</th>\n",
       "      <th>Vehicle_Age_&gt; 2 Years</th>\n",
       "      <th>Vehicle_Damage_No</th>\n",
       "      <th>Vehicle_Damage_Yes</th>\n",
       "    </tr>\n",
       "  </thead>\n",
       "  <tbody>\n",
       "    <tr>\n",
       "      <th>id</th>\n",
       "      <td>1.000000</td>\n",
       "      <td>0.001561</td>\n",
       "      <td>-0.000564</td>\n",
       "      <td>-0.000572</td>\n",
       "      <td>0.002457</td>\n",
       "      <td>0.003097</td>\n",
       "      <td>-0.002837</td>\n",
       "      <td>-0.000630</td>\n",
       "      <td>-0.001368</td>\n",
       "      <td>-0.000999</td>\n",
       "      <td>0.000999</td>\n",
       "      <td>0.001370</td>\n",
       "      <td>-0.001194</td>\n",
       "      <td>-0.000464</td>\n",
       "      <td>0.001507</td>\n",
       "      <td>-0.001507</td>\n",
       "    </tr>\n",
       "    <tr>\n",
       "      <th>Age</th>\n",
       "      <td>0.001561</td>\n",
       "      <td>1.000000</td>\n",
       "      <td>-0.079782</td>\n",
       "      <td>0.042574</td>\n",
       "      <td>-0.254682</td>\n",
       "      <td>0.069080</td>\n",
       "      <td>-0.577826</td>\n",
       "      <td>-0.001264</td>\n",
       "      <td>0.111147</td>\n",
       "      <td>-0.145545</td>\n",
       "      <td>0.145545</td>\n",
       "      <td>0.692910</td>\n",
       "      <td>-0.787775</td>\n",
       "      <td>0.220694</td>\n",
       "      <td>-0.267534</td>\n",
       "      <td>0.267534</td>\n",
       "    </tr>\n",
       "    <tr>\n",
       "      <th>Driving_License</th>\n",
       "      <td>-0.000564</td>\n",
       "      <td>-0.079782</td>\n",
       "      <td>1.000000</td>\n",
       "      <td>-0.001081</td>\n",
       "      <td>0.014969</td>\n",
       "      <td>-0.012513</td>\n",
       "      <td>0.043731</td>\n",
       "      <td>-0.000848</td>\n",
       "      <td>0.010155</td>\n",
       "      <td>0.018374</td>\n",
       "      <td>-0.018374</td>\n",
       "      <td>-0.037403</td>\n",
       "      <td>0.040215</td>\n",
       "      <td>-0.006211</td>\n",
       "      <td>0.016622</td>\n",
       "      <td>-0.016622</td>\n",
       "    </tr>\n",
       "    <tr>\n",
       "      <th>Region_Code</th>\n",
       "      <td>-0.000572</td>\n",
       "      <td>0.042574</td>\n",
       "      <td>-0.001081</td>\n",
       "      <td>1.000000</td>\n",
       "      <td>-0.024659</td>\n",
       "      <td>-0.011403</td>\n",
       "      <td>-0.042420</td>\n",
       "      <td>-0.002750</td>\n",
       "      <td>0.010570</td>\n",
       "      <td>-0.000604</td>\n",
       "      <td>0.000604</td>\n",
       "      <td>0.038055</td>\n",
       "      <td>-0.044250</td>\n",
       "      <td>0.014555</td>\n",
       "      <td>-0.028235</td>\n",
       "      <td>0.028235</td>\n",
       "    </tr>\n",
       "    <tr>\n",
       "      <th>Previously_Insured</th>\n",
       "      <td>0.002457</td>\n",
       "      <td>-0.254682</td>\n",
       "      <td>0.014969</td>\n",
       "      <td>-0.024659</td>\n",
       "      <td>1.000000</td>\n",
       "      <td>0.005165</td>\n",
       "      <td>0.219381</td>\n",
       "      <td>0.002537</td>\n",
       "      <td>-0.341170</td>\n",
       "      <td>0.081932</td>\n",
       "      <td>-0.081932</td>\n",
       "      <td>-0.279077</td>\n",
       "      <td>0.358773</td>\n",
       "      <td>-0.191352</td>\n",
       "      <td>0.824143</td>\n",
       "      <td>-0.824143</td>\n",
       "    </tr>\n",
       "    <tr>\n",
       "      <th>Annual_Premium</th>\n",
       "      <td>0.003097</td>\n",
       "      <td>0.069080</td>\n",
       "      <td>-0.012513</td>\n",
       "      <td>-0.011403</td>\n",
       "      <td>0.005165</td>\n",
       "      <td>1.000000</td>\n",
       "      <td>-0.116790</td>\n",
       "      <td>-0.000588</td>\n",
       "      <td>0.022699</td>\n",
       "      <td>-0.004145</td>\n",
       "      <td>0.004145</td>\n",
       "      <td>-0.003400</td>\n",
       "      <td>-0.022389</td>\n",
       "      <td>0.063760</td>\n",
       "      <td>-0.008990</td>\n",
       "      <td>0.008990</td>\n",
       "    </tr>\n",
       "    <tr>\n",
       "      <th>Policy_Sales_Channel</th>\n",
       "      <td>-0.002837</td>\n",
       "      <td>-0.577826</td>\n",
       "      <td>0.043731</td>\n",
       "      <td>-0.042420</td>\n",
       "      <td>0.219381</td>\n",
       "      <td>-0.116790</td>\n",
       "      <td>1.000000</td>\n",
       "      <td>0.000002</td>\n",
       "      <td>-0.139042</td>\n",
       "      <td>0.111159</td>\n",
       "      <td>-0.111159</td>\n",
       "      <td>-0.508265</td>\n",
       "      <td>0.571516</td>\n",
       "      <td>-0.146238</td>\n",
       "      <td>0.224377</td>\n",
       "      <td>-0.224377</td>\n",
       "    </tr>\n",
       "    <tr>\n",
       "      <th>Vintage</th>\n",
       "      <td>-0.000630</td>\n",
       "      <td>-0.001264</td>\n",
       "      <td>-0.000848</td>\n",
       "      <td>-0.002750</td>\n",
       "      <td>0.002537</td>\n",
       "      <td>-0.000588</td>\n",
       "      <td>0.000002</td>\n",
       "      <td>1.000000</td>\n",
       "      <td>-0.001050</td>\n",
       "      <td>0.002517</td>\n",
       "      <td>-0.002517</td>\n",
       "      <td>-0.002632</td>\n",
       "      <td>0.002410</td>\n",
       "      <td>0.000600</td>\n",
       "      <td>0.002064</td>\n",
       "      <td>-0.002064</td>\n",
       "    </tr>\n",
       "    <tr>\n",
       "      <th>Response</th>\n",
       "      <td>-0.001368</td>\n",
       "      <td>0.111147</td>\n",
       "      <td>0.010155</td>\n",
       "      <td>0.010570</td>\n",
       "      <td>-0.341170</td>\n",
       "      <td>0.022699</td>\n",
       "      <td>-0.139042</td>\n",
       "      <td>-0.001050</td>\n",
       "      <td>1.000000</td>\n",
       "      <td>-0.052440</td>\n",
       "      <td>0.052440</td>\n",
       "      <td>0.164317</td>\n",
       "      <td>-0.209878</td>\n",
       "      <td>0.109300</td>\n",
       "      <td>-0.354400</td>\n",
       "      <td>0.354400</td>\n",
       "    </tr>\n",
       "    <tr>\n",
       "      <th>Gender_Female</th>\n",
       "      <td>-0.000999</td>\n",
       "      <td>-0.145545</td>\n",
       "      <td>0.018374</td>\n",
       "      <td>-0.000604</td>\n",
       "      <td>0.081932</td>\n",
       "      <td>-0.004145</td>\n",
       "      <td>0.111159</td>\n",
       "      <td>0.002517</td>\n",
       "      <td>-0.052440</td>\n",
       "      <td>1.000000</td>\n",
       "      <td>-1.000000</td>\n",
       "      <td>-0.147633</td>\n",
       "      <td>0.166280</td>\n",
       "      <td>-0.043155</td>\n",
       "      <td>0.091606</td>\n",
       "      <td>-0.091606</td>\n",
       "    </tr>\n",
       "    <tr>\n",
       "      <th>Gender_Male</th>\n",
       "      <td>0.000999</td>\n",
       "      <td>0.145545</td>\n",
       "      <td>-0.018374</td>\n",
       "      <td>0.000604</td>\n",
       "      <td>-0.081932</td>\n",
       "      <td>0.004145</td>\n",
       "      <td>-0.111159</td>\n",
       "      <td>-0.002517</td>\n",
       "      <td>0.052440</td>\n",
       "      <td>-1.000000</td>\n",
       "      <td>1.000000</td>\n",
       "      <td>0.147633</td>\n",
       "      <td>-0.166280</td>\n",
       "      <td>0.043155</td>\n",
       "      <td>-0.091606</td>\n",
       "      <td>0.091606</td>\n",
       "    </tr>\n",
       "    <tr>\n",
       "      <th>Vehicle_Age_1-2 Year</th>\n",
       "      <td>0.001370</td>\n",
       "      <td>0.692910</td>\n",
       "      <td>-0.037403</td>\n",
       "      <td>0.038055</td>\n",
       "      <td>-0.279077</td>\n",
       "      <td>-0.003400</td>\n",
       "      <td>-0.508265</td>\n",
       "      <td>-0.002632</td>\n",
       "      <td>0.164317</td>\n",
       "      <td>-0.147633</td>\n",
       "      <td>0.147633</td>\n",
       "      <td>1.000000</td>\n",
       "      <td>-0.918704</td>\n",
       "      <td>-0.220402</td>\n",
       "      <td>-0.284717</td>\n",
       "      <td>0.284717</td>\n",
       "    </tr>\n",
       "    <tr>\n",
       "      <th>Vehicle_Age_&lt; 1 Year</th>\n",
       "      <td>-0.001194</td>\n",
       "      <td>-0.787775</td>\n",
       "      <td>0.040215</td>\n",
       "      <td>-0.044250</td>\n",
       "      <td>0.358773</td>\n",
       "      <td>-0.022389</td>\n",
       "      <td>0.571516</td>\n",
       "      <td>0.002410</td>\n",
       "      <td>-0.209878</td>\n",
       "      <td>0.166280</td>\n",
       "      <td>-0.166280</td>\n",
       "      <td>-0.918704</td>\n",
       "      <td>1.000000</td>\n",
       "      <td>-0.182750</td>\n",
       "      <td>0.370778</td>\n",
       "      <td>-0.370778</td>\n",
       "    </tr>\n",
       "    <tr>\n",
       "      <th>Vehicle_Age_&gt; 2 Years</th>\n",
       "      <td>-0.000464</td>\n",
       "      <td>0.220694</td>\n",
       "      <td>-0.006211</td>\n",
       "      <td>0.014555</td>\n",
       "      <td>-0.191352</td>\n",
       "      <td>0.063760</td>\n",
       "      <td>-0.146238</td>\n",
       "      <td>0.000600</td>\n",
       "      <td>0.109300</td>\n",
       "      <td>-0.043155</td>\n",
       "      <td>0.043155</td>\n",
       "      <td>-0.220402</td>\n",
       "      <td>-0.182750</td>\n",
       "      <td>1.000000</td>\n",
       "      <td>-0.206961</td>\n",
       "      <td>0.206961</td>\n",
       "    </tr>\n",
       "    <tr>\n",
       "      <th>Vehicle_Damage_No</th>\n",
       "      <td>0.001507</td>\n",
       "      <td>-0.267534</td>\n",
       "      <td>0.016622</td>\n",
       "      <td>-0.028235</td>\n",
       "      <td>0.824143</td>\n",
       "      <td>-0.008990</td>\n",
       "      <td>0.224377</td>\n",
       "      <td>0.002064</td>\n",
       "      <td>-0.354400</td>\n",
       "      <td>0.091606</td>\n",
       "      <td>-0.091606</td>\n",
       "      <td>-0.284717</td>\n",
       "      <td>0.370778</td>\n",
       "      <td>-0.206961</td>\n",
       "      <td>1.000000</td>\n",
       "      <td>-1.000000</td>\n",
       "    </tr>\n",
       "    <tr>\n",
       "      <th>Vehicle_Damage_Yes</th>\n",
       "      <td>-0.001507</td>\n",
       "      <td>0.267534</td>\n",
       "      <td>-0.016622</td>\n",
       "      <td>0.028235</td>\n",
       "      <td>-0.824143</td>\n",
       "      <td>0.008990</td>\n",
       "      <td>-0.224377</td>\n",
       "      <td>-0.002064</td>\n",
       "      <td>0.354400</td>\n",
       "      <td>-0.091606</td>\n",
       "      <td>0.091606</td>\n",
       "      <td>0.284717</td>\n",
       "      <td>-0.370778</td>\n",
       "      <td>0.206961</td>\n",
       "      <td>-1.000000</td>\n",
       "      <td>1.000000</td>\n",
       "    </tr>\n",
       "  </tbody>\n",
       "</table>\n",
       "</div>"
      ],
      "text/plain": [
       "                             id       Age  Driving_License  Region_Code  \\\n",
       "id                     1.000000  0.001561        -0.000564    -0.000572   \n",
       "Age                    0.001561  1.000000        -0.079782     0.042574   \n",
       "Driving_License       -0.000564 -0.079782         1.000000    -0.001081   \n",
       "Region_Code           -0.000572  0.042574        -0.001081     1.000000   \n",
       "Previously_Insured     0.002457 -0.254682         0.014969    -0.024659   \n",
       "Annual_Premium         0.003097  0.069080        -0.012513    -0.011403   \n",
       "Policy_Sales_Channel  -0.002837 -0.577826         0.043731    -0.042420   \n",
       "Vintage               -0.000630 -0.001264        -0.000848    -0.002750   \n",
       "Response              -0.001368  0.111147         0.010155     0.010570   \n",
       "Gender_Female         -0.000999 -0.145545         0.018374    -0.000604   \n",
       "Gender_Male            0.000999  0.145545        -0.018374     0.000604   \n",
       "Vehicle_Age_1-2 Year   0.001370  0.692910        -0.037403     0.038055   \n",
       "Vehicle_Age_< 1 Year  -0.001194 -0.787775         0.040215    -0.044250   \n",
       "Vehicle_Age_> 2 Years -0.000464  0.220694        -0.006211     0.014555   \n",
       "Vehicle_Damage_No      0.001507 -0.267534         0.016622    -0.028235   \n",
       "Vehicle_Damage_Yes    -0.001507  0.267534        -0.016622     0.028235   \n",
       "\n",
       "                       Previously_Insured  Annual_Premium  \\\n",
       "id                               0.002457        0.003097   \n",
       "Age                             -0.254682        0.069080   \n",
       "Driving_License                  0.014969       -0.012513   \n",
       "Region_Code                     -0.024659       -0.011403   \n",
       "Previously_Insured               1.000000        0.005165   \n",
       "Annual_Premium                   0.005165        1.000000   \n",
       "Policy_Sales_Channel             0.219381       -0.116790   \n",
       "Vintage                          0.002537       -0.000588   \n",
       "Response                        -0.341170        0.022699   \n",
       "Gender_Female                    0.081932       -0.004145   \n",
       "Gender_Male                     -0.081932        0.004145   \n",
       "Vehicle_Age_1-2 Year            -0.279077       -0.003400   \n",
       "Vehicle_Age_< 1 Year             0.358773       -0.022389   \n",
       "Vehicle_Age_> 2 Years           -0.191352        0.063760   \n",
       "Vehicle_Damage_No                0.824143       -0.008990   \n",
       "Vehicle_Damage_Yes              -0.824143        0.008990   \n",
       "\n",
       "                       Policy_Sales_Channel   Vintage  Response  \\\n",
       "id                                -0.002837 -0.000630 -0.001368   \n",
       "Age                               -0.577826 -0.001264  0.111147   \n",
       "Driving_License                    0.043731 -0.000848  0.010155   \n",
       "Region_Code                       -0.042420 -0.002750  0.010570   \n",
       "Previously_Insured                 0.219381  0.002537 -0.341170   \n",
       "Annual_Premium                    -0.116790 -0.000588  0.022699   \n",
       "Policy_Sales_Channel               1.000000  0.000002 -0.139042   \n",
       "Vintage                            0.000002  1.000000 -0.001050   \n",
       "Response                          -0.139042 -0.001050  1.000000   \n",
       "Gender_Female                      0.111159  0.002517 -0.052440   \n",
       "Gender_Male                       -0.111159 -0.002517  0.052440   \n",
       "Vehicle_Age_1-2 Year              -0.508265 -0.002632  0.164317   \n",
       "Vehicle_Age_< 1 Year               0.571516  0.002410 -0.209878   \n",
       "Vehicle_Age_> 2 Years             -0.146238  0.000600  0.109300   \n",
       "Vehicle_Damage_No                  0.224377  0.002064 -0.354400   \n",
       "Vehicle_Damage_Yes                -0.224377 -0.002064  0.354400   \n",
       "\n",
       "                       Gender_Female  Gender_Male  Vehicle_Age_1-2 Year  \\\n",
       "id                         -0.000999     0.000999              0.001370   \n",
       "Age                        -0.145545     0.145545              0.692910   \n",
       "Driving_License             0.018374    -0.018374             -0.037403   \n",
       "Region_Code                -0.000604     0.000604              0.038055   \n",
       "Previously_Insured          0.081932    -0.081932             -0.279077   \n",
       "Annual_Premium             -0.004145     0.004145             -0.003400   \n",
       "Policy_Sales_Channel        0.111159    -0.111159             -0.508265   \n",
       "Vintage                     0.002517    -0.002517             -0.002632   \n",
       "Response                   -0.052440     0.052440              0.164317   \n",
       "Gender_Female               1.000000    -1.000000             -0.147633   \n",
       "Gender_Male                -1.000000     1.000000              0.147633   \n",
       "Vehicle_Age_1-2 Year       -0.147633     0.147633              1.000000   \n",
       "Vehicle_Age_< 1 Year        0.166280    -0.166280             -0.918704   \n",
       "Vehicle_Age_> 2 Years      -0.043155     0.043155             -0.220402   \n",
       "Vehicle_Damage_No           0.091606    -0.091606             -0.284717   \n",
       "Vehicle_Damage_Yes         -0.091606     0.091606              0.284717   \n",
       "\n",
       "                       Vehicle_Age_< 1 Year  Vehicle_Age_> 2 Years  \\\n",
       "id                                -0.001194              -0.000464   \n",
       "Age                               -0.787775               0.220694   \n",
       "Driving_License                    0.040215              -0.006211   \n",
       "Region_Code                       -0.044250               0.014555   \n",
       "Previously_Insured                 0.358773              -0.191352   \n",
       "Annual_Premium                    -0.022389               0.063760   \n",
       "Policy_Sales_Channel               0.571516              -0.146238   \n",
       "Vintage                            0.002410               0.000600   \n",
       "Response                          -0.209878               0.109300   \n",
       "Gender_Female                      0.166280              -0.043155   \n",
       "Gender_Male                       -0.166280               0.043155   \n",
       "Vehicle_Age_1-2 Year              -0.918704              -0.220402   \n",
       "Vehicle_Age_< 1 Year               1.000000              -0.182750   \n",
       "Vehicle_Age_> 2 Years             -0.182750               1.000000   \n",
       "Vehicle_Damage_No                  0.370778              -0.206961   \n",
       "Vehicle_Damage_Yes                -0.370778               0.206961   \n",
       "\n",
       "                       Vehicle_Damage_No  Vehicle_Damage_Yes  \n",
       "id                              0.001507           -0.001507  \n",
       "Age                            -0.267534            0.267534  \n",
       "Driving_License                 0.016622           -0.016622  \n",
       "Region_Code                    -0.028235            0.028235  \n",
       "Previously_Insured              0.824143           -0.824143  \n",
       "Annual_Premium                 -0.008990            0.008990  \n",
       "Policy_Sales_Channel            0.224377           -0.224377  \n",
       "Vintage                         0.002064           -0.002064  \n",
       "Response                       -0.354400            0.354400  \n",
       "Gender_Female                   0.091606           -0.091606  \n",
       "Gender_Male                    -0.091606            0.091606  \n",
       "Vehicle_Age_1-2 Year           -0.284717            0.284717  \n",
       "Vehicle_Age_< 1 Year            0.370778           -0.370778  \n",
       "Vehicle_Age_> 2 Years          -0.206961            0.206961  \n",
       "Vehicle_Damage_No               1.000000           -1.000000  \n",
       "Vehicle_Damage_Yes             -1.000000            1.000000  "
      ]
     },
     "execution_count": 138,
     "metadata": {},
     "output_type": "execute_result"
    }
   ],
   "source": [
    "data.corr()"
   ]
  },
  {
   "cell_type": "code",
   "execution_count": 139,
   "id": "b44a75d7",
   "metadata": {},
   "outputs": [
    {
     "name": "stdout",
     "output_type": "stream",
     "text": [
      "<class 'pandas.core.frame.DataFrame'>\n",
      "RangeIndex: 381109 entries, 0 to 381108\n",
      "Data columns (total 16 columns):\n",
      " #   Column                 Non-Null Count   Dtype  \n",
      "---  ------                 --------------   -----  \n",
      " 0   id                     381109 non-null  int64  \n",
      " 1   Age                    381109 non-null  int64  \n",
      " 2   Driving_License        381109 non-null  int64  \n",
      " 3   Region_Code            381109 non-null  float64\n",
      " 4   Previously_Insured     381109 non-null  int64  \n",
      " 5   Annual_Premium         381109 non-null  float64\n",
      " 6   Policy_Sales_Channel   381109 non-null  float64\n",
      " 7   Vintage                381109 non-null  int64  \n",
      " 8   Response               381109 non-null  int64  \n",
      " 9   Gender_Female          381109 non-null  uint8  \n",
      " 10  Gender_Male            381109 non-null  uint8  \n",
      " 11  Vehicle_Age_1-2 Year   381109 non-null  uint8  \n",
      " 12  Vehicle_Age_< 1 Year   381109 non-null  uint8  \n",
      " 13  Vehicle_Age_> 2 Years  381109 non-null  uint8  \n",
      " 14  Vehicle_Damage_No      381109 non-null  uint8  \n",
      " 15  Vehicle_Damage_Yes     381109 non-null  uint8  \n",
      "dtypes: float64(3), int64(6), uint8(7)\n",
      "memory usage: 28.7 MB\n"
     ]
    }
   ],
   "source": [
    "data.info()"
   ]
  },
  {
   "cell_type": "code",
   "execution_count": 140,
   "id": "962371f3",
   "metadata": {},
   "outputs": [],
   "source": [
    "del data[\"Vehicle_Damage_No\"]\n",
    "del data[\"Vehicle_Age_> 2 Years\"]\n",
    "del data[\"id\"]\n",
    "del data[\"Region_Code\"]\n",
    "del data[\"Gender_Female\"]\n",
    "del data[\"Policy_Sales_Channel\"]"
   ]
  },
  {
   "cell_type": "code",
   "execution_count": 141,
   "id": "71cbd254",
   "metadata": {},
   "outputs": [
    {
     "data": {
      "text/html": [
       "<div>\n",
       "<style scoped>\n",
       "    .dataframe tbody tr th:only-of-type {\n",
       "        vertical-align: middle;\n",
       "    }\n",
       "\n",
       "    .dataframe tbody tr th {\n",
       "        vertical-align: top;\n",
       "    }\n",
       "\n",
       "    .dataframe thead th {\n",
       "        text-align: right;\n",
       "    }\n",
       "</style>\n",
       "<table border=\"1\" class=\"dataframe\">\n",
       "  <thead>\n",
       "    <tr style=\"text-align: right;\">\n",
       "      <th></th>\n",
       "      <th>Age</th>\n",
       "      <th>Driving_License</th>\n",
       "      <th>Previously_Insured</th>\n",
       "      <th>Annual_Premium</th>\n",
       "      <th>Vintage</th>\n",
       "      <th>Response</th>\n",
       "      <th>Gender_Male</th>\n",
       "      <th>Vehicle_Age_1-2 Year</th>\n",
       "      <th>Vehicle_Age_&lt; 1 Year</th>\n",
       "      <th>Vehicle_Damage_Yes</th>\n",
       "    </tr>\n",
       "  </thead>\n",
       "  <tbody>\n",
       "    <tr>\n",
       "      <th>0</th>\n",
       "      <td>44</td>\n",
       "      <td>1</td>\n",
       "      <td>0</td>\n",
       "      <td>40454.0</td>\n",
       "      <td>217</td>\n",
       "      <td>1</td>\n",
       "      <td>1</td>\n",
       "      <td>0</td>\n",
       "      <td>0</td>\n",
       "      <td>1</td>\n",
       "    </tr>\n",
       "    <tr>\n",
       "      <th>1</th>\n",
       "      <td>76</td>\n",
       "      <td>1</td>\n",
       "      <td>0</td>\n",
       "      <td>33536.0</td>\n",
       "      <td>183</td>\n",
       "      <td>0</td>\n",
       "      <td>1</td>\n",
       "      <td>1</td>\n",
       "      <td>0</td>\n",
       "      <td>0</td>\n",
       "    </tr>\n",
       "    <tr>\n",
       "      <th>2</th>\n",
       "      <td>47</td>\n",
       "      <td>1</td>\n",
       "      <td>0</td>\n",
       "      <td>38294.0</td>\n",
       "      <td>27</td>\n",
       "      <td>1</td>\n",
       "      <td>1</td>\n",
       "      <td>0</td>\n",
       "      <td>0</td>\n",
       "      <td>1</td>\n",
       "    </tr>\n",
       "    <tr>\n",
       "      <th>3</th>\n",
       "      <td>21</td>\n",
       "      <td>1</td>\n",
       "      <td>1</td>\n",
       "      <td>28619.0</td>\n",
       "      <td>203</td>\n",
       "      <td>0</td>\n",
       "      <td>1</td>\n",
       "      <td>0</td>\n",
       "      <td>1</td>\n",
       "      <td>0</td>\n",
       "    </tr>\n",
       "    <tr>\n",
       "      <th>4</th>\n",
       "      <td>29</td>\n",
       "      <td>1</td>\n",
       "      <td>1</td>\n",
       "      <td>27496.0</td>\n",
       "      <td>39</td>\n",
       "      <td>0</td>\n",
       "      <td>0</td>\n",
       "      <td>0</td>\n",
       "      <td>1</td>\n",
       "      <td>0</td>\n",
       "    </tr>\n",
       "  </tbody>\n",
       "</table>\n",
       "</div>"
      ],
      "text/plain": [
       "   Age  Driving_License  Previously_Insured  Annual_Premium  Vintage  \\\n",
       "0   44                1                   0         40454.0      217   \n",
       "1   76                1                   0         33536.0      183   \n",
       "2   47                1                   0         38294.0       27   \n",
       "3   21                1                   1         28619.0      203   \n",
       "4   29                1                   1         27496.0       39   \n",
       "\n",
       "   Response  Gender_Male  Vehicle_Age_1-2 Year  Vehicle_Age_< 1 Year  \\\n",
       "0         1            1                     0                     0   \n",
       "1         0            1                     1                     0   \n",
       "2         1            1                     0                     0   \n",
       "3         0            1                     0                     1   \n",
       "4         0            0                     0                     1   \n",
       "\n",
       "   Vehicle_Damage_Yes  \n",
       "0                   1  \n",
       "1                   0  \n",
       "2                   1  \n",
       "3                   0  \n",
       "4                   0  "
      ]
     },
     "execution_count": 141,
     "metadata": {},
     "output_type": "execute_result"
    }
   ],
   "source": [
    "data.head()"
   ]
  },
  {
   "cell_type": "markdown",
   "id": "aff8e771",
   "metadata": {},
   "source": [
    " "
   ]
  },
  {
   "cell_type": "markdown",
   "id": "edcd8776",
   "metadata": {},
   "source": [
    " "
   ]
  },
  {
   "cell_type": "markdown",
   "id": "85bfaff7",
   "metadata": {},
   "source": [
    "# Splitting and Standardization"
   ]
  },
  {
   "cell_type": "code",
   "execution_count": 142,
   "id": "066760a3",
   "metadata": {},
   "outputs": [],
   "source": [
    "from sklearn.model_selection import train_test_split"
   ]
  },
  {
   "cell_type": "code",
   "execution_count": 143,
   "id": "664449ca",
   "metadata": {},
   "outputs": [],
   "source": [
    "x_train,x_test,y_train,y_test = train_test_split(data.drop(\"Response\",axis=1),\n",
    "                                                 data[\"Response\"],\n",
    "                                                 test_size=0.2,\n",
    "                                                 random_state=7)"
   ]
  },
  {
   "cell_type": "code",
   "execution_count": 144,
   "id": "9136a4ca",
   "metadata": {},
   "outputs": [],
   "source": [
    "from sklearn.preprocessing import StandardScaler"
   ]
  },
  {
   "cell_type": "code",
   "execution_count": 145,
   "id": "82ff3060",
   "metadata": {},
   "outputs": [],
   "source": [
    "scaler = StandardScaler()"
   ]
  },
  {
   "cell_type": "code",
   "execution_count": 146,
   "id": "8a3b501f",
   "metadata": {},
   "outputs": [
    {
     "data": {
      "text/plain": [
       "StandardScaler()"
      ]
     },
     "execution_count": 146,
     "metadata": {},
     "output_type": "execute_result"
    }
   ],
   "source": [
    "scaler.fit(x_train)"
   ]
  },
  {
   "cell_type": "code",
   "execution_count": 147,
   "id": "f8651c9e",
   "metadata": {},
   "outputs": [],
   "source": [
    "x_train = scaler.transform(x_train)\n",
    "x_test = scaler.transform(x_test)"
   ]
  },
  {
   "cell_type": "markdown",
   "id": "c6d5fe21",
   "metadata": {},
   "source": [
    " "
   ]
  },
  {
   "cell_type": "markdown",
   "id": "4427ffa7",
   "metadata": {},
   "source": [
    " "
   ]
  },
  {
   "cell_type": "markdown",
   "id": "5090fef3",
   "metadata": {},
   "source": [
    "# Building Model"
   ]
  },
  {
   "cell_type": "code",
   "execution_count": 23,
   "id": "5e05bc80",
   "metadata": {},
   "outputs": [],
   "source": [
    "from sklearn import svm"
   ]
  },
  {
   "cell_type": "code",
   "execution_count": 24,
   "id": "fef65318",
   "metadata": {},
   "outputs": [],
   "source": [
    "model = svm.SVC(C=0.01,gamma=\"auto\")"
   ]
  },
  {
   "cell_type": "code",
   "execution_count": 25,
   "id": "ca3fb609",
   "metadata": {},
   "outputs": [
    {
     "data": {
      "text/plain": [
       "SVC(C=0.01, gamma='auto')"
      ]
     },
     "execution_count": 25,
     "metadata": {},
     "output_type": "execute_result"
    }
   ],
   "source": [
    "model.fit(x_train,y_train)"
   ]
  },
  {
   "cell_type": "code",
   "execution_count": 27,
   "id": "c3b4e31e",
   "metadata": {},
   "outputs": [],
   "source": [
    "y_pred = model.predict(x_test)"
   ]
  },
  {
   "cell_type": "code",
   "execution_count": 28,
   "id": "6b64305f",
   "metadata": {},
   "outputs": [],
   "source": [
    "from sklearn.metrics import accuracy_score"
   ]
  },
  {
   "cell_type": "code",
   "execution_count": 29,
   "id": "120de986",
   "metadata": {},
   "outputs": [],
   "source": [
    "score = accuracy_score(y_test , y_pred)"
   ]
  },
  {
   "cell_type": "code",
   "execution_count": 56,
   "id": "09d461db",
   "metadata": {},
   "outputs": [
    {
     "name": "stdout",
     "output_type": "stream",
     "text": [
      "Accuracy:  0.878513%\n"
     ]
    }
   ],
   "source": [
    "print(\"Accuracy:  %f%%\"%score)"
   ]
  },
  {
   "cell_type": "code",
   "execution_count": null,
   "id": "bee7ca3d",
   "metadata": {},
   "outputs": [],
   "source": []
  },
  {
   "cell_type": "code",
   "execution_count": null,
   "id": "a88888a2",
   "metadata": {},
   "outputs": [],
   "source": []
  }
 ],
 "metadata": {
  "kernelspec": {
   "display_name": "Python 3 (ipykernel)",
   "language": "python",
   "name": "python3"
  },
  "language_info": {
   "codemirror_mode": {
    "name": "ipython",
    "version": 3
   },
   "file_extension": ".py",
   "mimetype": "text/x-python",
   "name": "python",
   "nbconvert_exporter": "python",
   "pygments_lexer": "ipython3",
   "version": "3.8.11"
  }
 },
 "nbformat": 4,
 "nbformat_minor": 5
}
