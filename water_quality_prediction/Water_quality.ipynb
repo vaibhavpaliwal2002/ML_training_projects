{
 "cells": [
  {
   "cell_type": "code",
   "execution_count": 356,
   "id": "253333e1",
   "metadata": {},
   "outputs": [],
   "source": [
    "import pandas as pd\n",
    "import numpy as np\n",
    "import seaborn as sns\n",
    "import matplotlib.pyplot as plt"
   ]
  },
  {
   "cell_type": "code",
   "execution_count": 357,
   "id": "d6bb7af0",
   "metadata": {},
   "outputs": [],
   "source": [
    "data = pd.read_csv(\"/home/vaibhav/Downloads/waterqualitynew/waterQuality1.csv\")"
   ]
  },
  {
   "cell_type": "code",
   "execution_count": 358,
   "id": "d50557f6",
   "metadata": {},
   "outputs": [
    {
     "data": {
      "text/plain": [
       "(7999, 21)"
      ]
     },
     "execution_count": 358,
     "metadata": {},
     "output_type": "execute_result"
    }
   ],
   "source": [
    "data.shape"
   ]
  },
  {
   "cell_type": "code",
   "execution_count": 359,
   "id": "98c02672",
   "metadata": {
    "scrolled": true
   },
   "outputs": [
    {
     "data": {
      "text/html": [
       "<div>\n",
       "<style scoped>\n",
       "    .dataframe tbody tr th:only-of-type {\n",
       "        vertical-align: middle;\n",
       "    }\n",
       "\n",
       "    .dataframe tbody tr th {\n",
       "        vertical-align: top;\n",
       "    }\n",
       "\n",
       "    .dataframe thead th {\n",
       "        text-align: right;\n",
       "    }\n",
       "</style>\n",
       "<table border=\"1\" class=\"dataframe\">\n",
       "  <thead>\n",
       "    <tr style=\"text-align: right;\">\n",
       "      <th></th>\n",
       "      <th>aluminium</th>\n",
       "      <th>ammonia</th>\n",
       "      <th>arsenic</th>\n",
       "      <th>barium</th>\n",
       "      <th>cadmium</th>\n",
       "      <th>chloramine</th>\n",
       "      <th>chromium</th>\n",
       "      <th>copper</th>\n",
       "      <th>flouride</th>\n",
       "      <th>bacteria</th>\n",
       "      <th>...</th>\n",
       "      <th>lead</th>\n",
       "      <th>nitrates</th>\n",
       "      <th>nitrites</th>\n",
       "      <th>mercury</th>\n",
       "      <th>perchlorate</th>\n",
       "      <th>radium</th>\n",
       "      <th>selenium</th>\n",
       "      <th>silver</th>\n",
       "      <th>uranium</th>\n",
       "      <th>is_safe</th>\n",
       "    </tr>\n",
       "  </thead>\n",
       "  <tbody>\n",
       "    <tr>\n",
       "      <th>0</th>\n",
       "      <td>1.65</td>\n",
       "      <td>9.08</td>\n",
       "      <td>0.04</td>\n",
       "      <td>2.85</td>\n",
       "      <td>0.007</td>\n",
       "      <td>0.35</td>\n",
       "      <td>0.83</td>\n",
       "      <td>0.17</td>\n",
       "      <td>0.05</td>\n",
       "      <td>0.20</td>\n",
       "      <td>...</td>\n",
       "      <td>0.054</td>\n",
       "      <td>16.08</td>\n",
       "      <td>1.13</td>\n",
       "      <td>0.007</td>\n",
       "      <td>37.75</td>\n",
       "      <td>6.78</td>\n",
       "      <td>0.08</td>\n",
       "      <td>0.34</td>\n",
       "      <td>0.02</td>\n",
       "      <td>1</td>\n",
       "    </tr>\n",
       "    <tr>\n",
       "      <th>1</th>\n",
       "      <td>2.32</td>\n",
       "      <td>21.16</td>\n",
       "      <td>0.01</td>\n",
       "      <td>3.31</td>\n",
       "      <td>0.002</td>\n",
       "      <td>5.28</td>\n",
       "      <td>0.68</td>\n",
       "      <td>0.66</td>\n",
       "      <td>0.90</td>\n",
       "      <td>0.65</td>\n",
       "      <td>...</td>\n",
       "      <td>0.100</td>\n",
       "      <td>2.01</td>\n",
       "      <td>1.93</td>\n",
       "      <td>0.003</td>\n",
       "      <td>32.26</td>\n",
       "      <td>3.21</td>\n",
       "      <td>0.08</td>\n",
       "      <td>0.27</td>\n",
       "      <td>0.05</td>\n",
       "      <td>1</td>\n",
       "    </tr>\n",
       "    <tr>\n",
       "      <th>2</th>\n",
       "      <td>1.01</td>\n",
       "      <td>14.02</td>\n",
       "      <td>0.04</td>\n",
       "      <td>0.58</td>\n",
       "      <td>0.008</td>\n",
       "      <td>4.24</td>\n",
       "      <td>0.53</td>\n",
       "      <td>0.02</td>\n",
       "      <td>0.99</td>\n",
       "      <td>0.05</td>\n",
       "      <td>...</td>\n",
       "      <td>0.078</td>\n",
       "      <td>14.16</td>\n",
       "      <td>1.11</td>\n",
       "      <td>0.006</td>\n",
       "      <td>50.28</td>\n",
       "      <td>7.07</td>\n",
       "      <td>0.07</td>\n",
       "      <td>0.44</td>\n",
       "      <td>0.01</td>\n",
       "      <td>0</td>\n",
       "    </tr>\n",
       "    <tr>\n",
       "      <th>3</th>\n",
       "      <td>1.36</td>\n",
       "      <td>11.33</td>\n",
       "      <td>0.04</td>\n",
       "      <td>2.96</td>\n",
       "      <td>0.001</td>\n",
       "      <td>7.23</td>\n",
       "      <td>0.03</td>\n",
       "      <td>1.66</td>\n",
       "      <td>1.08</td>\n",
       "      <td>0.71</td>\n",
       "      <td>...</td>\n",
       "      <td>0.016</td>\n",
       "      <td>1.41</td>\n",
       "      <td>1.29</td>\n",
       "      <td>0.004</td>\n",
       "      <td>9.12</td>\n",
       "      <td>1.72</td>\n",
       "      <td>0.02</td>\n",
       "      <td>0.45</td>\n",
       "      <td>0.05</td>\n",
       "      <td>1</td>\n",
       "    </tr>\n",
       "    <tr>\n",
       "      <th>4</th>\n",
       "      <td>0.92</td>\n",
       "      <td>24.33</td>\n",
       "      <td>0.03</td>\n",
       "      <td>0.20</td>\n",
       "      <td>0.006</td>\n",
       "      <td>2.67</td>\n",
       "      <td>0.69</td>\n",
       "      <td>0.57</td>\n",
       "      <td>0.61</td>\n",
       "      <td>0.13</td>\n",
       "      <td>...</td>\n",
       "      <td>0.117</td>\n",
       "      <td>6.74</td>\n",
       "      <td>1.11</td>\n",
       "      <td>0.003</td>\n",
       "      <td>16.90</td>\n",
       "      <td>2.41</td>\n",
       "      <td>0.02</td>\n",
       "      <td>0.06</td>\n",
       "      <td>0.02</td>\n",
       "      <td>1</td>\n",
       "    </tr>\n",
       "  </tbody>\n",
       "</table>\n",
       "<p>5 rows × 21 columns</p>\n",
       "</div>"
      ],
      "text/plain": [
       "   aluminium ammonia  arsenic  barium  cadmium  chloramine  chromium  copper  \\\n",
       "0       1.65    9.08     0.04    2.85    0.007        0.35      0.83    0.17   \n",
       "1       2.32   21.16     0.01    3.31    0.002        5.28      0.68    0.66   \n",
       "2       1.01   14.02     0.04    0.58    0.008        4.24      0.53    0.02   \n",
       "3       1.36   11.33     0.04    2.96    0.001        7.23      0.03    1.66   \n",
       "4       0.92   24.33     0.03    0.20    0.006        2.67      0.69    0.57   \n",
       "\n",
       "   flouride  bacteria  ...   lead  nitrates  nitrites  mercury  perchlorate  \\\n",
       "0      0.05      0.20  ...  0.054     16.08      1.13    0.007        37.75   \n",
       "1      0.90      0.65  ...  0.100      2.01      1.93    0.003        32.26   \n",
       "2      0.99      0.05  ...  0.078     14.16      1.11    0.006        50.28   \n",
       "3      1.08      0.71  ...  0.016      1.41      1.29    0.004         9.12   \n",
       "4      0.61      0.13  ...  0.117      6.74      1.11    0.003        16.90   \n",
       "\n",
       "   radium  selenium  silver  uranium  is_safe  \n",
       "0    6.78      0.08    0.34     0.02        1  \n",
       "1    3.21      0.08    0.27     0.05        1  \n",
       "2    7.07      0.07    0.44     0.01        0  \n",
       "3    1.72      0.02    0.45     0.05        1  \n",
       "4    2.41      0.02    0.06     0.02        1  \n",
       "\n",
       "[5 rows x 21 columns]"
      ]
     },
     "execution_count": 359,
     "metadata": {},
     "output_type": "execute_result"
    }
   ],
   "source": [
    "data.head()"
   ]
  },
  {
   "cell_type": "code",
   "execution_count": 360,
   "id": "d2dbe953",
   "metadata": {
    "scrolled": false
   },
   "outputs": [
    {
     "name": "stdout",
     "output_type": "stream",
     "text": [
      "<class 'pandas.core.frame.DataFrame'>\n",
      "RangeIndex: 7999 entries, 0 to 7998\n",
      "Data columns (total 21 columns):\n",
      " #   Column       Non-Null Count  Dtype  \n",
      "---  ------       --------------  -----  \n",
      " 0   aluminium    7999 non-null   float64\n",
      " 1   ammonia      7999 non-null   object \n",
      " 2   arsenic      7999 non-null   float64\n",
      " 3   barium       7999 non-null   float64\n",
      " 4   cadmium      7999 non-null   float64\n",
      " 5   chloramine   7999 non-null   float64\n",
      " 6   chromium     7999 non-null   float64\n",
      " 7   copper       7999 non-null   float64\n",
      " 8   flouride     7999 non-null   float64\n",
      " 9   bacteria     7999 non-null   float64\n",
      " 10  viruses      7999 non-null   float64\n",
      " 11  lead         7999 non-null   float64\n",
      " 12  nitrates     7999 non-null   float64\n",
      " 13  nitrites     7999 non-null   float64\n",
      " 14  mercury      7999 non-null   float64\n",
      " 15  perchlorate  7999 non-null   float64\n",
      " 16  radium       7999 non-null   float64\n",
      " 17  selenium     7999 non-null   float64\n",
      " 18  silver       7999 non-null   float64\n",
      " 19  uranium      7999 non-null   float64\n",
      " 20  is_safe      7999 non-null   object \n",
      "dtypes: float64(19), object(2)\n",
      "memory usage: 1.3+ MB\n"
     ]
    }
   ],
   "source": [
    "data.info()"
   ]
  },
  {
   "cell_type": "code",
   "execution_count": 361,
   "id": "b3af04c8",
   "metadata": {
    "scrolled": true
   },
   "outputs": [
    {
     "data": {
      "text/html": [
       "<div>\n",
       "<style scoped>\n",
       "    .dataframe tbody tr th:only-of-type {\n",
       "        vertical-align: middle;\n",
       "    }\n",
       "\n",
       "    .dataframe tbody tr th {\n",
       "        vertical-align: top;\n",
       "    }\n",
       "\n",
       "    .dataframe thead th {\n",
       "        text-align: right;\n",
       "    }\n",
       "</style>\n",
       "<table border=\"1\" class=\"dataframe\">\n",
       "  <thead>\n",
       "    <tr style=\"text-align: right;\">\n",
       "      <th></th>\n",
       "      <th>ammonia</th>\n",
       "      <th>is_safe</th>\n",
       "    </tr>\n",
       "  </thead>\n",
       "  <tbody>\n",
       "    <tr>\n",
       "      <th>count</th>\n",
       "      <td>7999</td>\n",
       "      <td>7999</td>\n",
       "    </tr>\n",
       "    <tr>\n",
       "      <th>unique</th>\n",
       "      <td>2564</td>\n",
       "      <td>3</td>\n",
       "    </tr>\n",
       "    <tr>\n",
       "      <th>top</th>\n",
       "      <td>0.17</td>\n",
       "      <td>0</td>\n",
       "    </tr>\n",
       "    <tr>\n",
       "      <th>freq</th>\n",
       "      <td>13</td>\n",
       "      <td>7084</td>\n",
       "    </tr>\n",
       "  </tbody>\n",
       "</table>\n",
       "</div>"
      ],
      "text/plain": [
       "       ammonia is_safe\n",
       "count     7999    7999\n",
       "unique    2564       3\n",
       "top       0.17       0\n",
       "freq        13    7084"
      ]
     },
     "execution_count": 361,
     "metadata": {},
     "output_type": "execute_result"
    }
   ],
   "source": [
    "data.describe(include=\"object\")"
   ]
  },
  {
   "cell_type": "code",
   "execution_count": 362,
   "id": "a1bb8c6e",
   "metadata": {
    "scrolled": true
   },
   "outputs": [
    {
     "data": {
      "text/plain": [
       "0        7084\n",
       "1         912\n",
       "#NUM!       3\n",
       "Name: is_safe, dtype: int64"
      ]
     },
     "execution_count": 362,
     "metadata": {},
     "output_type": "execute_result"
    }
   ],
   "source": [
    "data[\"is_safe\"].value_counts()"
   ]
  },
  {
   "cell_type": "code",
   "execution_count": 363,
   "id": "4e808b56",
   "metadata": {},
   "outputs": [
    {
     "data": {
      "text/html": [
       "<div>\n",
       "<style scoped>\n",
       "    .dataframe tbody tr th:only-of-type {\n",
       "        vertical-align: middle;\n",
       "    }\n",
       "\n",
       "    .dataframe tbody tr th {\n",
       "        vertical-align: top;\n",
       "    }\n",
       "\n",
       "    .dataframe thead th {\n",
       "        text-align: right;\n",
       "    }\n",
       "</style>\n",
       "<table border=\"1\" class=\"dataframe\">\n",
       "  <thead>\n",
       "    <tr style=\"text-align: right;\">\n",
       "      <th></th>\n",
       "      <th>aluminium</th>\n",
       "      <th>ammonia</th>\n",
       "      <th>arsenic</th>\n",
       "      <th>barium</th>\n",
       "      <th>cadmium</th>\n",
       "      <th>chloramine</th>\n",
       "      <th>chromium</th>\n",
       "      <th>copper</th>\n",
       "      <th>flouride</th>\n",
       "      <th>bacteria</th>\n",
       "      <th>...</th>\n",
       "      <th>lead</th>\n",
       "      <th>nitrates</th>\n",
       "      <th>nitrites</th>\n",
       "      <th>mercury</th>\n",
       "      <th>perchlorate</th>\n",
       "      <th>radium</th>\n",
       "      <th>selenium</th>\n",
       "      <th>silver</th>\n",
       "      <th>uranium</th>\n",
       "      <th>is_safe</th>\n",
       "    </tr>\n",
       "  </thead>\n",
       "  <tbody>\n",
       "    <tr>\n",
       "      <th>7551</th>\n",
       "      <td>0.03</td>\n",
       "      <td>#NUM!</td>\n",
       "      <td>0.08</td>\n",
       "      <td>0.79</td>\n",
       "      <td>0.07</td>\n",
       "      <td>0.08</td>\n",
       "      <td>0.05</td>\n",
       "      <td>0.58</td>\n",
       "      <td>0.34</td>\n",
       "      <td>0.00</td>\n",
       "      <td>...</td>\n",
       "      <td>0.183</td>\n",
       "      <td>4.37</td>\n",
       "      <td>1.43</td>\n",
       "      <td>0.007</td>\n",
       "      <td>0.62</td>\n",
       "      <td>2.54</td>\n",
       "      <td>0.07</td>\n",
       "      <td>0.05</td>\n",
       "      <td>0.05</td>\n",
       "      <td>#NUM!</td>\n",
       "    </tr>\n",
       "    <tr>\n",
       "      <th>7568</th>\n",
       "      <td>0.06</td>\n",
       "      <td>#NUM!</td>\n",
       "      <td>0.07</td>\n",
       "      <td>1.72</td>\n",
       "      <td>0.08</td>\n",
       "      <td>0.32</td>\n",
       "      <td>0.01</td>\n",
       "      <td>1.11</td>\n",
       "      <td>0.61</td>\n",
       "      <td>0.00</td>\n",
       "      <td>...</td>\n",
       "      <td>0.178</td>\n",
       "      <td>12.10</td>\n",
       "      <td>2.03</td>\n",
       "      <td>0.008</td>\n",
       "      <td>1.37</td>\n",
       "      <td>2.05</td>\n",
       "      <td>0.06</td>\n",
       "      <td>0.10</td>\n",
       "      <td>0.07</td>\n",
       "      <td>#NUM!</td>\n",
       "    </tr>\n",
       "    <tr>\n",
       "      <th>7890</th>\n",
       "      <td>0.01</td>\n",
       "      <td>#NUM!</td>\n",
       "      <td>0.08</td>\n",
       "      <td>0.49</td>\n",
       "      <td>0.00</td>\n",
       "      <td>0.07</td>\n",
       "      <td>0.09</td>\n",
       "      <td>0.06</td>\n",
       "      <td>0.72</td>\n",
       "      <td>0.57</td>\n",
       "      <td>...</td>\n",
       "      <td>0.088</td>\n",
       "      <td>9.57</td>\n",
       "      <td>1.45</td>\n",
       "      <td>0.009</td>\n",
       "      <td>7.67</td>\n",
       "      <td>7.70</td>\n",
       "      <td>0.03</td>\n",
       "      <td>0.05</td>\n",
       "      <td>0.02</td>\n",
       "      <td>#NUM!</td>\n",
       "    </tr>\n",
       "  </tbody>\n",
       "</table>\n",
       "<p>3 rows × 21 columns</p>\n",
       "</div>"
      ],
      "text/plain": [
       "      aluminium ammonia  arsenic  barium  cadmium  chloramine  chromium  \\\n",
       "7551       0.03   #NUM!     0.08    0.79     0.07        0.08      0.05   \n",
       "7568       0.06   #NUM!     0.07    1.72     0.08        0.32      0.01   \n",
       "7890       0.01   #NUM!     0.08    0.49     0.00        0.07      0.09   \n",
       "\n",
       "      copper  flouride  bacteria  ...   lead  nitrates  nitrites  mercury  \\\n",
       "7551    0.58      0.34      0.00  ...  0.183      4.37      1.43    0.007   \n",
       "7568    1.11      0.61      0.00  ...  0.178     12.10      2.03    0.008   \n",
       "7890    0.06      0.72      0.57  ...  0.088      9.57      1.45    0.009   \n",
       "\n",
       "      perchlorate  radium  selenium  silver  uranium  is_safe  \n",
       "7551         0.62    2.54      0.07    0.05     0.05    #NUM!  \n",
       "7568         1.37    2.05      0.06    0.10     0.07    #NUM!  \n",
       "7890         7.67    7.70      0.03    0.05     0.02    #NUM!  \n",
       "\n",
       "[3 rows x 21 columns]"
      ]
     },
     "execution_count": 363,
     "metadata": {},
     "output_type": "execute_result"
    }
   ],
   "source": [
    "data[data.is_safe==\"#NUM!\"]"
   ]
  },
  {
   "cell_type": "code",
   "execution_count": 364,
   "id": "e12f1696",
   "metadata": {},
   "outputs": [],
   "source": [
    "data = data[data.is_safe!=\"#NUM!\"]"
   ]
  },
  {
   "cell_type": "code",
   "execution_count": 365,
   "id": "a7a6155f",
   "metadata": {},
   "outputs": [
    {
     "data": {
      "text/html": [
       "<div>\n",
       "<style scoped>\n",
       "    .dataframe tbody tr th:only-of-type {\n",
       "        vertical-align: middle;\n",
       "    }\n",
       "\n",
       "    .dataframe tbody tr th {\n",
       "        vertical-align: top;\n",
       "    }\n",
       "\n",
       "    .dataframe thead th {\n",
       "        text-align: right;\n",
       "    }\n",
       "</style>\n",
       "<table border=\"1\" class=\"dataframe\">\n",
       "  <thead>\n",
       "    <tr style=\"text-align: right;\">\n",
       "      <th></th>\n",
       "      <th>aluminium</th>\n",
       "      <th>ammonia</th>\n",
       "      <th>arsenic</th>\n",
       "      <th>barium</th>\n",
       "      <th>cadmium</th>\n",
       "      <th>chloramine</th>\n",
       "      <th>chromium</th>\n",
       "      <th>copper</th>\n",
       "      <th>flouride</th>\n",
       "      <th>bacteria</th>\n",
       "      <th>...</th>\n",
       "      <th>lead</th>\n",
       "      <th>nitrates</th>\n",
       "      <th>nitrites</th>\n",
       "      <th>mercury</th>\n",
       "      <th>perchlorate</th>\n",
       "      <th>radium</th>\n",
       "      <th>selenium</th>\n",
       "      <th>silver</th>\n",
       "      <th>uranium</th>\n",
       "      <th>is_safe</th>\n",
       "    </tr>\n",
       "  </thead>\n",
       "  <tbody>\n",
       "  </tbody>\n",
       "</table>\n",
       "<p>0 rows × 21 columns</p>\n",
       "</div>"
      ],
      "text/plain": [
       "Empty DataFrame\n",
       "Columns: [aluminium, ammonia, arsenic, barium, cadmium, chloramine, chromium, copper, flouride, bacteria, viruses, lead, nitrates, nitrites, mercury, perchlorate, radium, selenium, silver, uranium, is_safe]\n",
       "Index: []\n",
       "\n",
       "[0 rows x 21 columns]"
      ]
     },
     "execution_count": 365,
     "metadata": {},
     "output_type": "execute_result"
    }
   ],
   "source": [
    "data[data.is_safe==\"#NUM!\"]"
   ]
  },
  {
   "cell_type": "markdown",
   "id": "ca6b0aac",
   "metadata": {},
   "source": [
    " "
   ]
  },
  {
   "cell_type": "code",
   "execution_count": 366,
   "id": "6ba402c7",
   "metadata": {},
   "outputs": [
    {
     "data": {
      "text/html": [
       "<div>\n",
       "<style scoped>\n",
       "    .dataframe tbody tr th:only-of-type {\n",
       "        vertical-align: middle;\n",
       "    }\n",
       "\n",
       "    .dataframe tbody tr th {\n",
       "        vertical-align: top;\n",
       "    }\n",
       "\n",
       "    .dataframe thead th {\n",
       "        text-align: right;\n",
       "    }\n",
       "</style>\n",
       "<table border=\"1\" class=\"dataframe\">\n",
       "  <thead>\n",
       "    <tr style=\"text-align: right;\">\n",
       "      <th></th>\n",
       "      <th>aluminium</th>\n",
       "      <th>ammonia</th>\n",
       "      <th>arsenic</th>\n",
       "      <th>barium</th>\n",
       "      <th>cadmium</th>\n",
       "      <th>chloramine</th>\n",
       "      <th>chromium</th>\n",
       "      <th>copper</th>\n",
       "      <th>flouride</th>\n",
       "      <th>bacteria</th>\n",
       "      <th>...</th>\n",
       "      <th>lead</th>\n",
       "      <th>nitrates</th>\n",
       "      <th>nitrites</th>\n",
       "      <th>mercury</th>\n",
       "      <th>perchlorate</th>\n",
       "      <th>radium</th>\n",
       "      <th>selenium</th>\n",
       "      <th>silver</th>\n",
       "      <th>uranium</th>\n",
       "      <th>is_safe</th>\n",
       "    </tr>\n",
       "  </thead>\n",
       "  <tbody>\n",
       "  </tbody>\n",
       "</table>\n",
       "<p>0 rows × 21 columns</p>\n",
       "</div>"
      ],
      "text/plain": [
       "Empty DataFrame\n",
       "Columns: [aluminium, ammonia, arsenic, barium, cadmium, chloramine, chromium, copper, flouride, bacteria, viruses, lead, nitrates, nitrites, mercury, perchlorate, radium, selenium, silver, uranium, is_safe]\n",
       "Index: []\n",
       "\n",
       "[0 rows x 21 columns]"
      ]
     },
     "execution_count": 366,
     "metadata": {},
     "output_type": "execute_result"
    }
   ],
   "source": [
    "data[data.ammonia==\"#NUM!\"]"
   ]
  },
  {
   "cell_type": "code",
   "execution_count": 367,
   "id": "32154061",
   "metadata": {},
   "outputs": [
    {
     "data": {
      "text/html": [
       "<div>\n",
       "<style scoped>\n",
       "    .dataframe tbody tr th:only-of-type {\n",
       "        vertical-align: middle;\n",
       "    }\n",
       "\n",
       "    .dataframe tbody tr th {\n",
       "        vertical-align: top;\n",
       "    }\n",
       "\n",
       "    .dataframe thead th {\n",
       "        text-align: right;\n",
       "    }\n",
       "</style>\n",
       "<table border=\"1\" class=\"dataframe\">\n",
       "  <thead>\n",
       "    <tr style=\"text-align: right;\">\n",
       "      <th></th>\n",
       "      <th>aluminium</th>\n",
       "      <th>arsenic</th>\n",
       "      <th>barium</th>\n",
       "      <th>cadmium</th>\n",
       "      <th>chloramine</th>\n",
       "      <th>chromium</th>\n",
       "      <th>copper</th>\n",
       "      <th>flouride</th>\n",
       "      <th>bacteria</th>\n",
       "      <th>viruses</th>\n",
       "      <th>lead</th>\n",
       "      <th>nitrates</th>\n",
       "      <th>nitrites</th>\n",
       "      <th>mercury</th>\n",
       "      <th>perchlorate</th>\n",
       "      <th>radium</th>\n",
       "      <th>selenium</th>\n",
       "      <th>silver</th>\n",
       "      <th>uranium</th>\n",
       "    </tr>\n",
       "  </thead>\n",
       "  <tbody>\n",
       "    <tr>\n",
       "      <th>count</th>\n",
       "      <td>7996.000000</td>\n",
       "      <td>7996.000000</td>\n",
       "      <td>7996.000000</td>\n",
       "      <td>7996.000000</td>\n",
       "      <td>7996.000000</td>\n",
       "      <td>7996.000000</td>\n",
       "      <td>7996.000000</td>\n",
       "      <td>7996.000000</td>\n",
       "      <td>7996.000000</td>\n",
       "      <td>7996.000000</td>\n",
       "      <td>7996.000000</td>\n",
       "      <td>7996.000000</td>\n",
       "      <td>7996.000000</td>\n",
       "      <td>7996.000000</td>\n",
       "      <td>7996.000000</td>\n",
       "      <td>7996.000000</td>\n",
       "      <td>7996.000000</td>\n",
       "      <td>7996.000000</td>\n",
       "      <td>7996.000000</td>\n",
       "    </tr>\n",
       "    <tr>\n",
       "      <th>mean</th>\n",
       "      <td>0.666396</td>\n",
       "      <td>0.161477</td>\n",
       "      <td>1.567928</td>\n",
       "      <td>0.042803</td>\n",
       "      <td>2.177589</td>\n",
       "      <td>0.247300</td>\n",
       "      <td>0.805940</td>\n",
       "      <td>0.771646</td>\n",
       "      <td>0.319714</td>\n",
       "      <td>0.328706</td>\n",
       "      <td>0.099431</td>\n",
       "      <td>9.819250</td>\n",
       "      <td>1.329846</td>\n",
       "      <td>0.005193</td>\n",
       "      <td>16.465266</td>\n",
       "      <td>2.920106</td>\n",
       "      <td>0.049684</td>\n",
       "      <td>0.147811</td>\n",
       "      <td>0.044672</td>\n",
       "    </tr>\n",
       "    <tr>\n",
       "      <th>std</th>\n",
       "      <td>1.265323</td>\n",
       "      <td>0.252632</td>\n",
       "      <td>1.216227</td>\n",
       "      <td>0.036049</td>\n",
       "      <td>2.567210</td>\n",
       "      <td>0.270663</td>\n",
       "      <td>0.653595</td>\n",
       "      <td>0.435423</td>\n",
       "      <td>0.329497</td>\n",
       "      <td>0.378113</td>\n",
       "      <td>0.058169</td>\n",
       "      <td>5.541977</td>\n",
       "      <td>0.573271</td>\n",
       "      <td>0.002967</td>\n",
       "      <td>17.688827</td>\n",
       "      <td>2.322805</td>\n",
       "      <td>0.028773</td>\n",
       "      <td>0.143569</td>\n",
       "      <td>0.026906</td>\n",
       "    </tr>\n",
       "    <tr>\n",
       "      <th>min</th>\n",
       "      <td>0.000000</td>\n",
       "      <td>0.000000</td>\n",
       "      <td>0.000000</td>\n",
       "      <td>0.000000</td>\n",
       "      <td>0.000000</td>\n",
       "      <td>0.000000</td>\n",
       "      <td>0.000000</td>\n",
       "      <td>0.000000</td>\n",
       "      <td>0.000000</td>\n",
       "      <td>0.000000</td>\n",
       "      <td>0.000000</td>\n",
       "      <td>0.000000</td>\n",
       "      <td>0.000000</td>\n",
       "      <td>0.000000</td>\n",
       "      <td>0.000000</td>\n",
       "      <td>0.000000</td>\n",
       "      <td>0.000000</td>\n",
       "      <td>0.000000</td>\n",
       "      <td>0.000000</td>\n",
       "    </tr>\n",
       "    <tr>\n",
       "      <th>25%</th>\n",
       "      <td>0.040000</td>\n",
       "      <td>0.030000</td>\n",
       "      <td>0.560000</td>\n",
       "      <td>0.008000</td>\n",
       "      <td>0.100000</td>\n",
       "      <td>0.050000</td>\n",
       "      <td>0.090000</td>\n",
       "      <td>0.407500</td>\n",
       "      <td>0.000000</td>\n",
       "      <td>0.002000</td>\n",
       "      <td>0.048000</td>\n",
       "      <td>5.000000</td>\n",
       "      <td>1.000000</td>\n",
       "      <td>0.003000</td>\n",
       "      <td>2.170000</td>\n",
       "      <td>0.820000</td>\n",
       "      <td>0.020000</td>\n",
       "      <td>0.040000</td>\n",
       "      <td>0.020000</td>\n",
       "    </tr>\n",
       "    <tr>\n",
       "      <th>50%</th>\n",
       "      <td>0.070000</td>\n",
       "      <td>0.050000</td>\n",
       "      <td>1.190000</td>\n",
       "      <td>0.040000</td>\n",
       "      <td>0.530000</td>\n",
       "      <td>0.090000</td>\n",
       "      <td>0.750000</td>\n",
       "      <td>0.770000</td>\n",
       "      <td>0.220000</td>\n",
       "      <td>0.008000</td>\n",
       "      <td>0.102000</td>\n",
       "      <td>9.930000</td>\n",
       "      <td>1.420000</td>\n",
       "      <td>0.005000</td>\n",
       "      <td>7.745000</td>\n",
       "      <td>2.410000</td>\n",
       "      <td>0.050000</td>\n",
       "      <td>0.080000</td>\n",
       "      <td>0.050000</td>\n",
       "    </tr>\n",
       "    <tr>\n",
       "      <th>75%</th>\n",
       "      <td>0.280000</td>\n",
       "      <td>0.100000</td>\n",
       "      <td>2.482500</td>\n",
       "      <td>0.070000</td>\n",
       "      <td>4.240000</td>\n",
       "      <td>0.440000</td>\n",
       "      <td>1.390000</td>\n",
       "      <td>1.160000</td>\n",
       "      <td>0.610000</td>\n",
       "      <td>0.700000</td>\n",
       "      <td>0.151000</td>\n",
       "      <td>14.610000</td>\n",
       "      <td>1.760000</td>\n",
       "      <td>0.008000</td>\n",
       "      <td>29.487500</td>\n",
       "      <td>4.670000</td>\n",
       "      <td>0.070000</td>\n",
       "      <td>0.240000</td>\n",
       "      <td>0.070000</td>\n",
       "    </tr>\n",
       "    <tr>\n",
       "      <th>max</th>\n",
       "      <td>5.050000</td>\n",
       "      <td>1.050000</td>\n",
       "      <td>4.940000</td>\n",
       "      <td>0.130000</td>\n",
       "      <td>8.680000</td>\n",
       "      <td>0.900000</td>\n",
       "      <td>2.000000</td>\n",
       "      <td>1.500000</td>\n",
       "      <td>1.000000</td>\n",
       "      <td>1.000000</td>\n",
       "      <td>0.200000</td>\n",
       "      <td>19.830000</td>\n",
       "      <td>2.930000</td>\n",
       "      <td>0.010000</td>\n",
       "      <td>60.010000</td>\n",
       "      <td>7.990000</td>\n",
       "      <td>0.100000</td>\n",
       "      <td>0.500000</td>\n",
       "      <td>0.090000</td>\n",
       "    </tr>\n",
       "  </tbody>\n",
       "</table>\n",
       "</div>"
      ],
      "text/plain": [
       "         aluminium      arsenic       barium      cadmium   chloramine  \\\n",
       "count  7996.000000  7996.000000  7996.000000  7996.000000  7996.000000   \n",
       "mean      0.666396     0.161477     1.567928     0.042803     2.177589   \n",
       "std       1.265323     0.252632     1.216227     0.036049     2.567210   \n",
       "min       0.000000     0.000000     0.000000     0.000000     0.000000   \n",
       "25%       0.040000     0.030000     0.560000     0.008000     0.100000   \n",
       "50%       0.070000     0.050000     1.190000     0.040000     0.530000   \n",
       "75%       0.280000     0.100000     2.482500     0.070000     4.240000   \n",
       "max       5.050000     1.050000     4.940000     0.130000     8.680000   \n",
       "\n",
       "          chromium       copper     flouride     bacteria      viruses  \\\n",
       "count  7996.000000  7996.000000  7996.000000  7996.000000  7996.000000   \n",
       "mean      0.247300     0.805940     0.771646     0.319714     0.328706   \n",
       "std       0.270663     0.653595     0.435423     0.329497     0.378113   \n",
       "min       0.000000     0.000000     0.000000     0.000000     0.000000   \n",
       "25%       0.050000     0.090000     0.407500     0.000000     0.002000   \n",
       "50%       0.090000     0.750000     0.770000     0.220000     0.008000   \n",
       "75%       0.440000     1.390000     1.160000     0.610000     0.700000   \n",
       "max       0.900000     2.000000     1.500000     1.000000     1.000000   \n",
       "\n",
       "              lead     nitrates     nitrites      mercury  perchlorate  \\\n",
       "count  7996.000000  7996.000000  7996.000000  7996.000000  7996.000000   \n",
       "mean      0.099431     9.819250     1.329846     0.005193    16.465266   \n",
       "std       0.058169     5.541977     0.573271     0.002967    17.688827   \n",
       "min       0.000000     0.000000     0.000000     0.000000     0.000000   \n",
       "25%       0.048000     5.000000     1.000000     0.003000     2.170000   \n",
       "50%       0.102000     9.930000     1.420000     0.005000     7.745000   \n",
       "75%       0.151000    14.610000     1.760000     0.008000    29.487500   \n",
       "max       0.200000    19.830000     2.930000     0.010000    60.010000   \n",
       "\n",
       "            radium     selenium       silver      uranium  \n",
       "count  7996.000000  7996.000000  7996.000000  7996.000000  \n",
       "mean      2.920106     0.049684     0.147811     0.044672  \n",
       "std       2.322805     0.028773     0.143569     0.026906  \n",
       "min       0.000000     0.000000     0.000000     0.000000  \n",
       "25%       0.820000     0.020000     0.040000     0.020000  \n",
       "50%       2.410000     0.050000     0.080000     0.050000  \n",
       "75%       4.670000     0.070000     0.240000     0.070000  \n",
       "max       7.990000     0.100000     0.500000     0.090000  "
      ]
     },
     "execution_count": 367,
     "metadata": {},
     "output_type": "execute_result"
    }
   ],
   "source": [
    "data.describe()"
   ]
  },
  {
   "cell_type": "markdown",
   "id": "f4e1666e",
   "metadata": {},
   "source": [
    " "
   ]
  },
  {
   "cell_type": "markdown",
   "id": "d24f5d59",
   "metadata": {},
   "source": [
    " "
   ]
  },
  {
   "cell_type": "markdown",
   "id": "c2fab3c9",
   "metadata": {},
   "source": [
    " "
   ]
  },
  {
   "cell_type": "markdown",
   "id": "260c34a4",
   "metadata": {},
   "source": [
    " "
   ]
  },
  {
   "cell_type": "markdown",
   "id": "dbea9090",
   "metadata": {},
   "source": [
    "# Transforming is_safe and ammonia column to float"
   ]
  },
  {
   "cell_type": "code",
   "execution_count": 368,
   "id": "1c51695f",
   "metadata": {},
   "outputs": [
    {
     "name": "stdout",
     "output_type": "stream",
     "text": [
      "<class 'pandas.core.frame.DataFrame'>\n",
      "Int64Index: 7996 entries, 0 to 7998\n",
      "Data columns (total 21 columns):\n",
      " #   Column       Non-Null Count  Dtype  \n",
      "---  ------       --------------  -----  \n",
      " 0   aluminium    7996 non-null   float64\n",
      " 1   ammonia      7996 non-null   object \n",
      " 2   arsenic      7996 non-null   float64\n",
      " 3   barium       7996 non-null   float64\n",
      " 4   cadmium      7996 non-null   float64\n",
      " 5   chloramine   7996 non-null   float64\n",
      " 6   chromium     7996 non-null   float64\n",
      " 7   copper       7996 non-null   float64\n",
      " 8   flouride     7996 non-null   float64\n",
      " 9   bacteria     7996 non-null   float64\n",
      " 10  viruses      7996 non-null   float64\n",
      " 11  lead         7996 non-null   float64\n",
      " 12  nitrates     7996 non-null   float64\n",
      " 13  nitrites     7996 non-null   float64\n",
      " 14  mercury      7996 non-null   float64\n",
      " 15  perchlorate  7996 non-null   float64\n",
      " 16  radium       7996 non-null   float64\n",
      " 17  selenium     7996 non-null   float64\n",
      " 18  silver       7996 non-null   float64\n",
      " 19  uranium      7996 non-null   float64\n",
      " 20  is_safe      7996 non-null   object \n",
      "dtypes: float64(19), object(2)\n",
      "memory usage: 1.3+ MB\n"
     ]
    }
   ],
   "source": [
    "data.info()"
   ]
  },
  {
   "cell_type": "code",
   "execution_count": 369,
   "id": "6a7e80a5",
   "metadata": {},
   "outputs": [],
   "source": [
    "data.is_safe = data[\"is_safe\"].apply(float)\n",
    "data.ammonia = data[\"ammonia\"].apply(float)\n"
   ]
  },
  {
   "cell_type": "code",
   "execution_count": 370,
   "id": "1ee181d8",
   "metadata": {},
   "outputs": [
    {
     "name": "stdout",
     "output_type": "stream",
     "text": [
      "<class 'pandas.core.frame.DataFrame'>\n",
      "Int64Index: 7996 entries, 0 to 7998\n",
      "Data columns (total 21 columns):\n",
      " #   Column       Non-Null Count  Dtype  \n",
      "---  ------       --------------  -----  \n",
      " 0   aluminium    7996 non-null   float64\n",
      " 1   ammonia      7996 non-null   float64\n",
      " 2   arsenic      7996 non-null   float64\n",
      " 3   barium       7996 non-null   float64\n",
      " 4   cadmium      7996 non-null   float64\n",
      " 5   chloramine   7996 non-null   float64\n",
      " 6   chromium     7996 non-null   float64\n",
      " 7   copper       7996 non-null   float64\n",
      " 8   flouride     7996 non-null   float64\n",
      " 9   bacteria     7996 non-null   float64\n",
      " 10  viruses      7996 non-null   float64\n",
      " 11  lead         7996 non-null   float64\n",
      " 12  nitrates     7996 non-null   float64\n",
      " 13  nitrites     7996 non-null   float64\n",
      " 14  mercury      7996 non-null   float64\n",
      " 15  perchlorate  7996 non-null   float64\n",
      " 16  radium       7996 non-null   float64\n",
      " 17  selenium     7996 non-null   float64\n",
      " 18  silver       7996 non-null   float64\n",
      " 19  uranium      7996 non-null   float64\n",
      " 20  is_safe      7996 non-null   float64\n",
      "dtypes: float64(21)\n",
      "memory usage: 1.3 MB\n"
     ]
    }
   ],
   "source": [
    "data.info()"
   ]
  },
  {
   "cell_type": "markdown",
   "id": "42bb4fee",
   "metadata": {},
   "source": [
    " "
   ]
  },
  {
   "cell_type": "markdown",
   "id": "7f16cdeb",
   "metadata": {},
   "source": [
    " "
   ]
  },
  {
   "cell_type": "markdown",
   "id": "ff80b90b",
   "metadata": {},
   "source": [
    " "
   ]
  },
  {
   "cell_type": "markdown",
   "id": "4b188d52",
   "metadata": {},
   "source": [
    " "
   ]
  },
  {
   "cell_type": "markdown",
   "id": "ab446251",
   "metadata": {},
   "source": [
    "# Treating Null Values"
   ]
  },
  {
   "cell_type": "code",
   "execution_count": 371,
   "id": "7c659675",
   "metadata": {},
   "outputs": [
    {
     "data": {
      "text/plain": [
       "aluminium      0\n",
       "ammonia        0\n",
       "arsenic        0\n",
       "barium         0\n",
       "cadmium        0\n",
       "chloramine     0\n",
       "chromium       0\n",
       "copper         0\n",
       "flouride       0\n",
       "bacteria       0\n",
       "viruses        0\n",
       "lead           0\n",
       "nitrates       0\n",
       "nitrites       0\n",
       "mercury        0\n",
       "perchlorate    0\n",
       "radium         0\n",
       "selenium       0\n",
       "silver         0\n",
       "uranium        0\n",
       "is_safe        0\n",
       "dtype: int64"
      ]
     },
     "execution_count": 371,
     "metadata": {},
     "output_type": "execute_result"
    }
   ],
   "source": [
    "data.isnull().sum()"
   ]
  },
  {
   "cell_type": "markdown",
   "id": "cec07329",
   "metadata": {},
   "source": [
    "  "
   ]
  },
  {
   "cell_type": "markdown",
   "id": "72e2b36c",
   "metadata": {},
   "source": [
    " "
   ]
  },
  {
   "cell_type": "markdown",
   "id": "bcadf12e",
   "metadata": {},
   "source": [
    " "
   ]
  },
  {
   "cell_type": "markdown",
   "id": "0c8bca5b",
   "metadata": {},
   "source": [
    " "
   ]
  },
  {
   "cell_type": "markdown",
   "id": "b1f77d10",
   "metadata": {},
   "source": [
    " "
   ]
  },
  {
   "cell_type": "markdown",
   "id": "68645748",
   "metadata": {},
   "source": [
    "# Graphical representation"
   ]
  },
  {
   "cell_type": "code",
   "execution_count": 372,
   "id": "92cfa796",
   "metadata": {
    "scrolled": false
   },
   "outputs": [
    {
     "name": "stdout",
     "output_type": "stream",
     "text": [
      "ALUMINIUM\n"
     ]
    },
    {
     "data": {
      "image/png": "[encoded data removed]",
      "text/plain": [
       "<Figure size 1440x720 with 1 Axes>"
      ]
     },
     "metadata": {
      "needs_background": "light"
     },
     "output_type": "display_data"
    },
    {
     "name": "stdout",
     "output_type": "stream",
     "text": [
      "AMMONIA\n"
     ]
    },
    {
     "data": {
      "image/png": "[encoded data removed]",
      "text/plain": [
       "<Figure size 1440x720 with 1 Axes>"
      ]
     },
     "metadata": {
      "needs_background": "light"
     },
     "output_type": "display_data"
    },
    {
     "name": "stdout",
     "output_type": "stream",
     "text": [
      "ARSENIC\n"
     ]
    },
    {
     "data": {
      "image/png": "[encoded data removed]",
      "text/plain": [
       "<Figure size 1440x720 with 1 Axes>"
      ]
     },
     "metadata": {
      "needs_background": "light"
     },
     "output_type": "display_data"
    },
    {
     "name": "stdout",
     "output_type": "stream",
     "text": [
      "BARIUM\n"
     ]
    },
    {
     "data": {
      "image/png": "[encoded data removed]",
      "text/plain": [
       "<Figure size 1440x720 with 1 Axes>"
      ]
     },
     "metadata": {
      "needs_background": "light"
     },
     "output_type": "display_data"
    },
    {
     "name": "stdout",
     "output_type": "stream",
     "text": [
      "CADMIUM\n"
     ]
    },
    {
     "data": {
      "image/png": "[encoded data removed]",
      "text/plain": [
       "<Figure size 1440x720 with 1 Axes>"
      ]
     },
     "metadata": {
      "needs_background": "light"
     },
     "output_type": "display_data"
    },
    {
     "name": "stdout",
     "output_type": "stream",
     "text": [
      "CHLORAMINE\n"
     ]
    },
    {
     "data": {
      "image/png": "[encoded data removed]",
      "text/plain": [
       "<Figure size 1440x720 with 1 Axes>"
      ]
     },
     "metadata": {
      "needs_background": "light"
     },
     "output_type": "display_data"
    },
    {
     "name": "stdout",
     "output_type": "stream",
     "text": [
      "CHROMIUM\n"
     ]
    },
    {
     "data": {
      "image/png": "[encoded data removed]",
      "text/plain": [
       "<Figure size 1440x720 with 1 Axes>"
      ]
     },
     "metadata": {
      "needs_background": "light"
     },
     "output_type": "display_data"
    },
    {
     "name": "stdout",
     "output_type": "stream",
     "text": [
      "COPPER\n"
     ]
    },
    {
     "data": {
      "image/png": "[encoded data removed]",
      "text/plain": [
       "<Figure size 1440x720 with 1 Axes>"
      ]
     },
     "metadata": {
      "needs_background": "light"
     },
     "output_type": "display_data"
    },
    {
     "name": "stdout",
     "output_type": "stream",
     "text": [
      "FLOURIDE\n"
     ]
    },
    {
     "data": {
      "image/png": "[encoded data removed]",
      "text/plain": [
       "<Figure size 1440x720 with 1 Axes>"
      ]
     },
     "metadata": {
      "needs_background": "light"
     },
     "output_type": "display_data"
    },
    {
     "name": "stdout",
     "output_type": "stream",
     "text": [
      "BACTERIA\n"
     ]
    },
    {
     "data": {
      "image/png": "[encoded data removed]",
      "text/plain": [
       "<Figure size 1440x720 with 1 Axes>"
      ]
     },
     "metadata": {
      "needs_background": "light"
     },
     "output_type": "display_data"
    },
    {
     "name": "stdout",
     "output_type": "stream",
     "text": [
      "VIRUSES\n"
     ]
    },
    {
     "data": {
      "image/png": "[encoded data removed]",
      "text/plain": [
       "<Figure size 1440x720 with 1 Axes>"
      ]
     },
     "metadata": {
      "needs_background": "light"
     },
     "output_type": "display_data"
    },
    {
     "name": "stdout",
     "output_type": "stream",
     "text": [
      "LEAD\n"
     ]
    },
    {
     "data": {
      "image/png": "[encoded data removed]",
      "text/plain": [
       "<Figure size 1440x720 with 1 Axes>"
      ]
     },
     "metadata": {
      "needs_background": "light"
     },
     "output_type": "display_data"
    },
    {
     "name": "stdout",
     "output_type": "stream",
     "text": [
      "NITRATES\n"
     ]
    },
    {
     "data": {
      "image/png": "[encoded data removed]",
      "text/plain": [
       "<Figure size 1440x720 with 1 Axes>"
      ]
     },
     "metadata": {
      "needs_background": "light"
     },
     "output_type": "display_data"
    },
    {
     "name": "stdout",
     "output_type": "stream",
     "text": [
      "NITRITES\n"
     ]
    },
    {
     "data": {
      "image/png": "[encoded data removed]",
      "text/plain": [
       "<Figure size 1440x720 with 1 Axes>"
      ]
     },
     "metadata": {
      "needs_background": "light"
     },
     "output_type": "display_data"
    },
    {
     "name": "stdout",
     "output_type": "stream",
     "text": [
      "MERCURY\n"
     ]
    },
    {
     "data": {
      "image/png": "[encoded data removed]",
      "text/plain": [
       "<Figure size 1440x720 with 1 Axes>"
      ]
     },
     "metadata": {
      "needs_background": "light"
     },
     "output_type": "display_data"
    },
    {
     "name": "stdout",
     "output_type": "stream",
     "text": [
      "PERCHLORATE\n"
     ]
    },
    {
     "data": {
      "image/png": "[encoded data removed]",
      "text/plain": [
       "<Figure size 1440x720 with 1 Axes>"
      ]
     },
     "metadata": {
      "needs_background": "light"
     },
     "output_type": "display_data"
    },
    {
     "name": "stdout",
     "output_type": "stream",
     "text": [
      "RADIUM\n"
     ]
    },
    {
     "data": {
      "image/png": "[encoded data removed]",
      "text/plain": [
       "<Figure size 1440x720 with 1 Axes>"
      ]
     },
     "metadata": {
      "needs_background": "light"
     },
     "output_type": "display_data"
    },
    {
     "name": "stdout",
     "output_type": "stream",
     "text": [
      "SELENIUM\n"
     ]
    },
    {
     "data": {
      "image/png": "[encoded data removed]",
      "text/plain": [
       "<Figure size 1440x720 with 1 Axes>"
      ]
     },
     "metadata": {
      "needs_background": "light"
     },
     "output_type": "display_data"
    },
    {
     "name": "stdout",
     "output_type": "stream",
     "text": [
      "SILVER\n"
     ]
    },
    {
     "data": {
      "image/png": "[encoded data removed]",
      "text/plain": [
       "<Figure size 1440x720 with 1 Axes>"
      ]
     },
     "metadata": {
      "needs_background": "light"
     },
     "output_type": "display_data"
    },
    {
     "name": "stdout",
     "output_type": "stream",
     "text": [
      "URANIUM\n"
     ]
    },
    {
     "data": {
      "image/png": "[encoded data removed]",
      "text/plain": [
       "<Figure size 1440x720 with 1 Axes>"
      ]
     },
     "metadata": {
      "needs_background": "light"
     },
     "output_type": "display_data"
    }
   ],
   "source": [
    "for i in data.drop(\"is_safe\",axis=1):\n",
    "    print(i.upper())\n",
    "    fig,ax = plt.subplots(figsize=[20,10])\n",
    "    plot = sns.histplot(x = data[i],ax=ax)\n",
    "    plt.show()"
   ]
  },
  {
   "cell_type": "code",
   "execution_count": 374,
   "id": "d1e4c749",
   "metadata": {
    "scrolled": false
   },
   "outputs": [
    {
     "name": "stdout",
     "output_type": "stream",
     "text": [
      "ALUMINIUM\n"
     ]
    },
    {
     "data": {
      "image/png": "[encoded data removed]",
      "text/plain": [
       "<Figure size 1440x720 with 1 Axes>"
      ]
     },
     "metadata": {
      "needs_background": "light"
     },
     "output_type": "display_data"
    },
    {
     "name": "stdout",
     "output_type": "stream",
     "text": [
      "AMMONIA\n"
     ]
    },
    {
     "data": {
      "image/png": "[encoded data removed]",
      "text/plain": [
       "<Figure size 1440x720 with 1 Axes>"
      ]
     },
     "metadata": {
      "needs_background": "light"
     },
     "output_type": "display_data"
    },
    {
     "name": "stdout",
     "output_type": "stream",
     "text": [
      "ARSENIC\n"
     ]
    },
    {
     "data": {
      "image/png": "[encoded data removed]",
      "text/plain": [
       "<Figure size 1440x720 with 1 Axes>"
      ]
     },
     "metadata": {
      "needs_background": "light"
     },
     "output_type": "display_data"
    },
    {
     "name": "stdout",
     "output_type": "stream",
     "text": [
      "BARIUM\n"
     ]
    },
    {
     "data": {
      "image/png": "[encoded data removed]",
      "text/plain": [
       "<Figure size 1440x720 with 1 Axes>"
      ]
     },
     "metadata": {
      "needs_background": "light"
     },
     "output_type": "display_data"
    },
    {
     "name": "stdout",
     "output_type": "stream",
     "text": [
      "CADMIUM\n"
     ]
    },
    {
     "data": {
      "image/png": "[encoded data removed]",
      "text/plain": [
       "<Figure size 1440x720 with 1 Axes>"
      ]
     },
     "metadata": {
      "needs_background": "light"
     },
     "output_type": "display_data"
    },
    {
     "name": "stdout",
     "output_type": "stream",
     "text": [
      "CHLORAMINE\n"
     ]
    },
    {
     "data": {
      "image/png": "[encoded data removed]",
      "text/plain": [
       "<Figure size 1440x720 with 1 Axes>"
      ]
     },
     "metadata": {
      "needs_background": "light"
     },
     "output_type": "display_data"
    },
    {
     "name": "stdout",
     "output_type": "stream",
     "text": [
      "CHROMIUM\n"
     ]
    },
    {
     "data": {
      "image/png": "[encoded data removed]",
      "text/plain": [
       "<Figure size 1440x720 with 1 Axes>"
      ]
     },
     "metadata": {
      "needs_background": "light"
     },
     "output_type": "display_data"
    },
    {
     "name": "stdout",
     "output_type": "stream",
     "text": [
      "COPPER\n"
     ]
    },
    {
     "data": {
      "image/png": "[encoded data removed]",
      "text/plain": [
       "<Figure size 1440x720 with 1 Axes>"
      ]
     },
     "metadata": {
      "needs_background": "light"
     },
     "output_type": "display_data"
    },
    {
     "name": "stdout",
     "output_type": "stream",
     "text": [
      "FLOURIDE\n"
     ]
    },
    {
     "data": {
      "image/png": "[encoded data removed]",
      "text/plain": [
       "<Figure size 1440x720 with 1 Axes>"
      ]
     },
     "metadata": {
      "needs_background": "light"
     },
     "output_type": "display_data"
    },
    {
     "name": "stdout",
     "output_type": "stream",
     "text": [
      "BACTERIA\n"
     ]
    },
    {
     "data": {
      "image/png": "[encoded data removed]",
      "text/plain": [
       "<Figure size 1440x720 with 1 Axes>"
      ]
     },
     "metadata": {
      "needs_background": "light"
     },
     "output_type": "display_data"
    },
    {
     "name": "stdout",
     "output_type": "stream",
     "text": [
      "VIRUSES\n"
     ]
    },
    {
     "data": {
      "image/png": "[encoded data removed]",
      "text/plain": [
       "<Figure size 1440x720 with 1 Axes>"
      ]
     },
     "metadata": {
      "needs_background": "light"
     },
     "output_type": "display_data"
    },
    {
     "name": "stdout",
     "output_type": "stream",
     "text": [
      "LEAD\n"
     ]
    },
    {
     "data": {
      "image/png": "[encoded data removed]",
      "text/plain": [
       "<Figure size 1440x720 with 1 Axes>"
      ]
     },
     "metadata": {
      "needs_background": "light"
     },
     "output_type": "display_data"
    },
    {
     "name": "stdout",
     "output_type": "stream",
     "text": [
      "NITRATES\n"
     ]
    },
    {
     "data": {
      "image/png": "[encoded data removed]",
      "text/plain": [
       "<Figure size 1440x720 with 1 Axes>"
      ]
     },
     "metadata": {
      "needs_background": "light"
     },
     "output_type": "display_data"
    },
    {
     "name": "stdout",
     "output_type": "stream",
     "text": [
      "NITRITES\n"
     ]
    },
    {
     "data": {
      "image/png": "[encoded data removed]",
      "text/plain": [
       "<Figure size 1440x720 with 1 Axes>"
      ]
     },
     "metadata": {
      "needs_background": "light"
     },
     "output_type": "display_data"
    },
    {
     "name": "stdout",
     "output_type": "stream",
     "text": [
      "MERCURY\n"
     ]
    },
    {
     "data": {
      "image/png": "[encoded data removed]",
      "text/plain": [
       "<Figure size 1440x720 with 1 Axes>"
      ]
     },
     "metadata": {
      "needs_background": "light"
     },
     "output_type": "display_data"
    },
    {
     "name": "stdout",
     "output_type": "stream",
     "text": [
      "PERCHLORATE\n"
     ]
    },
    {
     "data": {
      "image/png": "[encoded data removed]",
      "text/plain": [
       "<Figure size 1440x720 with 1 Axes>"
      ]
     },
     "metadata": {
      "needs_background": "light"
     },
     "output_type": "display_data"
    },
    {
     "name": "stdout",
     "output_type": "stream",
     "text": [
      "RADIUM\n"
     ]
    },
    {
     "data": {
      "image/png": "[encoded data removed]",
      "text/plain": [
       "<Figure size 1440x720 with 1 Axes>"
      ]
     },
     "metadata": {
      "needs_background": "light"
     },
     "output_type": "display_data"
    },
    {
     "name": "stdout",
     "output_type": "stream",
     "text": [
      "SELENIUM\n"
     ]
    },
    {
     "data": {
      "image/png": "[encoded data removed]",
      "text/plain": [
       "<Figure size 1440x720 with 1 Axes>"
      ]
     },
     "metadata": {
      "needs_background": "light"
     },
     "output_type": "display_data"
    },
    {
     "name": "stdout",
     "output_type": "stream",
     "text": [
      "SILVER\n"
     ]
    },
    {
     "data": {
      "image/png": "[encoded data removed]",
      "text/plain": [
       "<Figure size 1440x720 with 1 Axes>"
      ]
     },
     "metadata": {
      "needs_background": "light"
     },
     "output_type": "display_data"
    },
    {
     "name": "stdout",
     "output_type": "stream",
     "text": [
      "URANIUM\n"
     ]
    },
    {
     "data": {
      "image/png": "[encoded data removed]",
      "text/plain": [
       "<Figure size 1440x720 with 1 Axes>"
      ]
     },
     "metadata": {
      "needs_background": "light"
     },
     "output_type": "display_data"
    }
   ],
   "source": [
    "for i in data.drop(\"is_safe\",axis=1):\n",
    "    print(i.upper())\n",
    "    fig,ax = plt.subplots(figsize=[20,10])\n",
    "    plot = sns.boxplot(x = data[i],ax=ax)\n",
    "    plt.show()"
   ]
  },
  {
   "cell_type": "markdown",
   "id": "28e691cf",
   "metadata": {},
   "source": [
    " "
   ]
  },
  {
   "cell_type": "markdown",
   "id": "608ebc04",
   "metadata": {},
   "source": [
    " "
   ]
  },
  {
   "cell_type": "markdown",
   "id": "582d3388",
   "metadata": {},
   "source": [
    " "
   ]
  },
  {
   "cell_type": "markdown",
   "id": "5d75bac5",
   "metadata": {},
   "source": [
    " "
   ]
  },
  {
   "cell_type": "markdown",
   "id": "025b5aa1",
   "metadata": {},
   "source": [
    "# Outliers"
   ]
  },
  {
   "cell_type": "code",
   "execution_count": 376,
   "id": "49c9b857",
   "metadata": {},
   "outputs": [
    {
     "name": "stdout",
     "output_type": "stream",
     "text": [
      "Data before dealing with outliers\n",
      "\n",
      "\n",
      "\n",
      "<class 'pandas.core.frame.DataFrame'>\n",
      "Int64Index: 7996 entries, 0 to 7998\n",
      "Data columns (total 21 columns):\n",
      " #   Column       Non-Null Count  Dtype  \n",
      "---  ------       --------------  -----  \n",
      " 0   aluminium    7996 non-null   float64\n",
      " 1   ammonia      7996 non-null   float64\n",
      " 2   arsenic      7996 non-null   float64\n",
      " 3   barium       7996 non-null   float64\n",
      " 4   cadmium      7996 non-null   float64\n",
      " 5   chloramine   7996 non-null   float64\n",
      " 6   chromium     7996 non-null   float64\n",
      " 7   copper       7996 non-null   float64\n",
      " 8   flouride     7996 non-null   float64\n",
      " 9   bacteria     7996 non-null   float64\n",
      " 10  viruses      7996 non-null   float64\n",
      " 11  lead         7996 non-null   float64\n",
      " 12  nitrates     7996 non-null   float64\n",
      " 13  nitrites     7996 non-null   float64\n",
      " 14  mercury      7996 non-null   float64\n",
      " 15  perchlorate  7996 non-null   float64\n",
      " 16  radium       7996 non-null   float64\n",
      " 17  selenium     7996 non-null   float64\n",
      " 18  silver       7996 non-null   float64\n",
      " 19  uranium      7996 non-null   float64\n",
      " 20  is_safe      7996 non-null   float64\n",
      "dtypes: float64(21)\n",
      "memory usage: 1.3 MB\n"
     ]
    }
   ],
   "source": [
    "print(\"Data before dealing with outliers\")\n",
    "print(\"\\n\\n\")\n",
    "data.info()"
   ]
  },
  {
   "cell_type": "code",
   "execution_count": 378,
   "id": "5dde8e00",
   "metadata": {
    "scrolled": false
   },
   "outputs": [
    {
     "data": {
      "image/png": "[encoded data removed]",
      "text/plain": [
       "<Figure size 1440x720 with 1 Axes>"
      ]
     },
     "metadata": {
      "needs_background": "light"
     },
     "output_type": "display_data"
    },
    {
     "data": {
      "image/png": "[encoded data removed]",
      "text/plain": [
       "<Figure size 1440x720 with 1 Axes>"
      ]
     },
     "metadata": {
      "needs_background": "light"
     },
     "output_type": "display_data"
    },
    {
     "data": {
      "image/png": "[encoded data removed]",
      "text/plain": [
       "<Figure size 1440x720 with 1 Axes>"
      ]
     },
     "metadata": {
      "needs_background": "light"
     },
     "output_type": "display_data"
    },
    {
     "data": {
      "image/png": "[encoded data removed]",
      "text/plain": [
       "<Figure size 1440x720 with 1 Axes>"
      ]
     },
     "metadata": {
      "needs_background": "light"
     },
     "output_type": "display_data"
    },
    {
     "data": {
      "image/png": "[encoded data removed]",
      "text/plain": [
       "<Figure size 1440x720 with 1 Axes>"
      ]
     },
     "metadata": {
      "needs_background": "light"
     },
     "output_type": "display_data"
    },
    {
     "data": {
      "image/png": "[encoded data removed]",
      "text/plain": [
       "<Figure size 1440x720 with 1 Axes>"
      ]
     },
     "metadata": {
      "needs_background": "light"
     },
     "output_type": "display_data"
    },
    {
     "data": {
      "image/png": "[encoded data removed]",
      "text/plain": [
       "<Figure size 1440x720 with 1 Axes>"
      ]
     },
     "metadata": {
      "needs_background": "light"
     },
     "output_type": "display_data"
    },
    {
     "data": {
      "image/png": "[encoded data removed]",
      "text/plain": [
       "<Figure size 1440x720 with 1 Axes>"
      ]
     },
     "metadata": {
      "needs_background": "light"
     },
     "output_type": "display_data"
    },
    {
     "data": {
      "image/png": "[encoded data removed]",
      "text/plain": [
       "<Figure size 1440x720 with 1 Axes>"
      ]
     },
     "metadata": {
      "needs_background": "light"
     },
     "output_type": "display_data"
    },
    {
     "data": {
      "image/png": "[encoded data removed]",
      "text/plain": [
       "<Figure size 1440x720 with 1 Axes>"
      ]
     },
     "metadata": {
      "needs_background": "light"
     },
     "output_type": "display_data"
    },
    {
     "data": {
      "image/png": "[encoded data removed]",
      "text/plain": [
       "<Figure size 1440x720 with 1 Axes>"
      ]
     },
     "metadata": {
      "needs_background": "light"
     },
     "output_type": "display_data"
    },
    {
     "data": {
      "image/png": "[encoded data removed]",
      "text/plain": [
       "<Figure size 1440x720 with 1 Axes>"
      ]
     },
     "metadata": {
      "needs_background": "light"
     },
     "output_type": "display_data"
    },
    {
     "data": {
      "image/png": "[encoded data removed]",
      "text/plain": [
       "<Figure size 1440x720 with 1 Axes>"
      ]
     },
     "metadata": {
      "needs_background": "light"
     },
     "output_type": "display_data"
    },
    {
     "data": {
      "image/png": "[encoded data removed]",
      "text/plain": [
       "<Figure size 1440x720 with 1 Axes>"
      ]
     },
     "metadata": {
      "needs_background": "light"
     },
     "output_type": "display_data"
    },
    {
     "data": {
      "image/png": "[encoded data removed]",
      "text/plain": [
       "<Figure size 1440x720 with 1 Axes>"
      ]
     },
     "metadata": {
      "needs_background": "light"
     },
     "output_type": "display_data"
    },
    {
     "data": {
      "image/png": "[encoded data removed]",
      "text/plain": [
       "<Figure size 1440x720 with 1 Axes>"
      ]
     },
     "metadata": {
      "needs_background": "light"
     },
     "output_type": "display_data"
    },
    {
     "data": {
      "image/png": "[encoded data removed]",
      "text/plain": [
       "<Figure size 1440x720 with 1 Axes>"
      ]
     },
     "metadata": {
      "needs_background": "light"
     },
     "output_type": "display_data"
    },
    {
     "data": {
      "image/png": "[encoded data removed]",
      "text/plain": [
       "<Figure size 1440x720 with 1 Axes>"
      ]
     },
     "metadata": {
      "needs_background": "light"
     },
     "output_type": "display_data"
    },
    {
     "data": {
      "image/png": "[encoded data removed]",
      "text/plain": [
       "<Figure size 1440x720 with 1 Axes>"
      ]
     },
     "metadata": {
      "needs_background": "light"
     },
     "output_type": "display_data"
    },
    {
     "data": {
      "image/png": "[encoded data removed]",
      "text/plain": [
       "<Figure size 1440x720 with 1 Axes>"
      ]
     },
     "metadata": {
      "needs_background": "light"
     },
     "output_type": "display_data"
    }
   ],
   "source": [
    "for i in data.drop(\"is_safe\",axis=1):\n",
    "    up = np.percentile(data[i],99)\n",
    "    lo = np.percentile(data[i],1)\n",
    "    \n",
    "    data = data[data[i] <= up*2]\n",
    "    data = data[data[i] >= lo*.5]\n",
    "    \n",
    "    fig,ax = plt.subplots(figsize=[20,10])\n",
    "    plot = sns.boxplot(x = data[i],ax=ax)\n",
    "    plt.show()"
   ]
  },
  {
   "cell_type": "code",
   "execution_count": 379,
   "id": "736f9f8a",
   "metadata": {},
   "outputs": [
    {
     "name": "stdout",
     "output_type": "stream",
     "text": [
      "Data after dealing with outliers\n",
      "<class 'pandas.core.frame.DataFrame'>\n",
      "Int64Index: 7626 entries, 0 to 7998\n",
      "Data columns (total 21 columns):\n",
      " #   Column       Non-Null Count  Dtype  \n",
      "---  ------       --------------  -----  \n",
      " 0   aluminium    7626 non-null   float64\n",
      " 1   ammonia      7626 non-null   float64\n",
      " 2   arsenic      7626 non-null   float64\n",
      " 3   barium       7626 non-null   float64\n",
      " 4   cadmium      7626 non-null   float64\n",
      " 5   chloramine   7626 non-null   float64\n",
      " 6   chromium     7626 non-null   float64\n",
      " 7   copper       7626 non-null   float64\n",
      " 8   flouride     7626 non-null   float64\n",
      " 9   bacteria     7626 non-null   float64\n",
      " 10  viruses      7626 non-null   float64\n",
      " 11  lead         7626 non-null   float64\n",
      " 12  nitrates     7626 non-null   float64\n",
      " 13  nitrites     7626 non-null   float64\n",
      " 14  mercury      7626 non-null   float64\n",
      " 15  perchlorate  7626 non-null   float64\n",
      " 16  radium       7626 non-null   float64\n",
      " 17  selenium     7626 non-null   float64\n",
      " 18  silver       7626 non-null   float64\n",
      " 19  uranium      7626 non-null   float64\n",
      " 20  is_safe      7626 non-null   float64\n",
      "dtypes: float64(21)\n",
      "memory usage: 1.3 MB\n"
     ]
    }
   ],
   "source": [
    "print(\"Data after dealing with outliers\")\n",
    "data.info()"
   ]
  },
  {
   "cell_type": "markdown",
   "id": "9f0e219c",
   "metadata": {},
   "source": [
    " "
   ]
  },
  {
   "cell_type": "markdown",
   "id": "02eaf714",
   "metadata": {},
   "source": [
    " "
   ]
  },
  {
   "cell_type": "markdown",
   "id": "e307dc7f",
   "metadata": {},
   "source": [
    " "
   ]
  },
  {
   "cell_type": "markdown",
   "id": "ca1ac25d",
   "metadata": {},
   "source": [
    " "
   ]
  },
  {
   "cell_type": "markdown",
   "id": "a92afe99",
   "metadata": {},
   "source": [
    "# Dealing with correlation"
   ]
  },
  {
   "cell_type": "code",
   "execution_count": 506,
   "id": "cca4a3d5",
   "metadata": {},
   "outputs": [
    {
     "data": {
      "text/html": [
       "<div>\n",
       "<style scoped>\n",
       "    .dataframe tbody tr th:only-of-type {\n",
       "        vertical-align: middle;\n",
       "    }\n",
       "\n",
       "    .dataframe tbody tr th {\n",
       "        vertical-align: top;\n",
       "    }\n",
       "\n",
       "    .dataframe thead th {\n",
       "        text-align: right;\n",
       "    }\n",
       "</style>\n",
       "<table border=\"1\" class=\"dataframe\">\n",
       "  <thead>\n",
       "    <tr style=\"text-align: right;\">\n",
       "      <th></th>\n",
       "      <th>aluminium</th>\n",
       "      <th>ammonia</th>\n",
       "      <th>arsenic</th>\n",
       "      <th>barium</th>\n",
       "      <th>cadmium</th>\n",
       "      <th>chloramine</th>\n",
       "      <th>chromium</th>\n",
       "      <th>copper</th>\n",
       "      <th>flouride</th>\n",
       "      <th>bacteria</th>\n",
       "      <th>...</th>\n",
       "      <th>lead</th>\n",
       "      <th>nitrates</th>\n",
       "      <th>nitrites</th>\n",
       "      <th>mercury</th>\n",
       "      <th>perchlorate</th>\n",
       "      <th>radium</th>\n",
       "      <th>selenium</th>\n",
       "      <th>silver</th>\n",
       "      <th>uranium</th>\n",
       "      <th>is_safe</th>\n",
       "    </tr>\n",
       "  </thead>\n",
       "  <tbody>\n",
       "    <tr>\n",
       "      <th>aluminium</th>\n",
       "      <td>1.000000</td>\n",
       "      <td>0.067831</td>\n",
       "      <td>0.222275</td>\n",
       "      <td>0.289333</td>\n",
       "      <td>-0.099420</td>\n",
       "      <td>0.365220</td>\n",
       "      <td>0.350424</td>\n",
       "      <td>0.170063</td>\n",
       "      <td>-0.012703</td>\n",
       "      <td>-0.082954</td>\n",
       "      <td>...</td>\n",
       "      <td>0.022673</td>\n",
       "      <td>-0.001549</td>\n",
       "      <td>0.233105</td>\n",
       "      <td>-0.006191</td>\n",
       "      <td>0.357716</td>\n",
       "      <td>0.240013</td>\n",
       "      <td>-0.004114</td>\n",
       "      <td>0.330499</td>\n",
       "      <td>0.012399</td>\n",
       "      <td>0.333875</td>\n",
       "    </tr>\n",
       "    <tr>\n",
       "      <th>ammonia</th>\n",
       "      <td>0.067831</td>\n",
       "      <td>1.000000</td>\n",
       "      <td>0.051039</td>\n",
       "      <td>0.071438</td>\n",
       "      <td>-0.003737</td>\n",
       "      <td>0.106295</td>\n",
       "      <td>0.128192</td>\n",
       "      <td>0.015660</td>\n",
       "      <td>-0.027161</td>\n",
       "      <td>0.065692</td>\n",
       "      <td>...</td>\n",
       "      <td>-0.032646</td>\n",
       "      <td>0.009526</td>\n",
       "      <td>-0.056676</td>\n",
       "      <td>0.020285</td>\n",
       "      <td>0.090641</td>\n",
       "      <td>0.050528</td>\n",
       "      <td>0.025594</td>\n",
       "      <td>0.073099</td>\n",
       "      <td>0.019134</td>\n",
       "      <td>-0.023254</td>\n",
       "    </tr>\n",
       "    <tr>\n",
       "      <th>arsenic</th>\n",
       "      <td>0.222275</td>\n",
       "      <td>0.051039</td>\n",
       "      <td>1.000000</td>\n",
       "      <td>0.360021</td>\n",
       "      <td>0.338823</td>\n",
       "      <td>0.352616</td>\n",
       "      <td>0.308218</td>\n",
       "      <td>-0.039511</td>\n",
       "      <td>0.003165</td>\n",
       "      <td>0.031157</td>\n",
       "      <td>...</td>\n",
       "      <td>-0.088072</td>\n",
       "      <td>0.026469</td>\n",
       "      <td>0.303830</td>\n",
       "      <td>-0.018397</td>\n",
       "      <td>0.331539</td>\n",
       "      <td>0.213682</td>\n",
       "      <td>-0.007127</td>\n",
       "      <td>0.302998</td>\n",
       "      <td>0.000245</td>\n",
       "      <td>-0.128711</td>\n",
       "    </tr>\n",
       "    <tr>\n",
       "      <th>barium</th>\n",
       "      <td>0.289333</td>\n",
       "      <td>0.071438</td>\n",
       "      <td>0.360021</td>\n",
       "      <td>1.000000</td>\n",
       "      <td>-0.033808</td>\n",
       "      <td>0.438962</td>\n",
       "      <td>0.408716</td>\n",
       "      <td>0.062264</td>\n",
       "      <td>-0.015182</td>\n",
       "      <td>0.095468</td>\n",
       "      <td>...</td>\n",
       "      <td>-0.039317</td>\n",
       "      <td>-0.012231</td>\n",
       "      <td>0.309503</td>\n",
       "      <td>0.007319</td>\n",
       "      <td>0.456348</td>\n",
       "      <td>0.281317</td>\n",
       "      <td>0.038386</td>\n",
       "      <td>0.421992</td>\n",
       "      <td>-0.006686</td>\n",
       "      <td>0.087037</td>\n",
       "    </tr>\n",
       "    <tr>\n",
       "      <th>cadmium</th>\n",
       "      <td>-0.099420</td>\n",
       "      <td>-0.003737</td>\n",
       "      <td>0.338823</td>\n",
       "      <td>-0.033808</td>\n",
       "      <td>1.000000</td>\n",
       "      <td>-0.143621</td>\n",
       "      <td>-0.156289</td>\n",
       "      <td>-0.111094</td>\n",
       "      <td>0.003183</td>\n",
       "      <td>-0.094369</td>\n",
       "      <td>...</td>\n",
       "      <td>-0.032801</td>\n",
       "      <td>0.018454</td>\n",
       "      <td>-0.010868</td>\n",
       "      <td>-0.016234</td>\n",
       "      <td>-0.145134</td>\n",
       "      <td>-0.100908</td>\n",
       "      <td>0.011071</td>\n",
       "      <td>-0.154129</td>\n",
       "      <td>-0.002827</td>\n",
       "      <td>-0.261158</td>\n",
       "    </tr>\n",
       "    <tr>\n",
       "      <th>chloramine</th>\n",
       "      <td>0.365220</td>\n",
       "      <td>0.106295</td>\n",
       "      <td>0.352616</td>\n",
       "      <td>0.438962</td>\n",
       "      <td>-0.143621</td>\n",
       "      <td>1.000000</td>\n",
       "      <td>0.546913</td>\n",
       "      <td>0.115878</td>\n",
       "      <td>0.009724</td>\n",
       "      <td>0.153786</td>\n",
       "      <td>...</td>\n",
       "      <td>-0.032524</td>\n",
       "      <td>-0.002684</td>\n",
       "      <td>0.372970</td>\n",
       "      <td>-0.020217</td>\n",
       "      <td>0.581447</td>\n",
       "      <td>0.394574</td>\n",
       "      <td>0.009073</td>\n",
       "      <td>0.517061</td>\n",
       "      <td>-0.008246</td>\n",
       "      <td>0.181654</td>\n",
       "    </tr>\n",
       "    <tr>\n",
       "      <th>chromium</th>\n",
       "      <td>0.350424</td>\n",
       "      <td>0.128192</td>\n",
       "      <td>0.308218</td>\n",
       "      <td>0.408716</td>\n",
       "      <td>-0.156289</td>\n",
       "      <td>0.546913</td>\n",
       "      <td>1.000000</td>\n",
       "      <td>0.108350</td>\n",
       "      <td>0.002210</td>\n",
       "      <td>0.139885</td>\n",
       "      <td>...</td>\n",
       "      <td>-0.055108</td>\n",
       "      <td>-0.012018</td>\n",
       "      <td>0.329508</td>\n",
       "      <td>-0.022220</td>\n",
       "      <td>0.514906</td>\n",
       "      <td>0.314250</td>\n",
       "      <td>0.028740</td>\n",
       "      <td>0.506409</td>\n",
       "      <td>-0.003403</td>\n",
       "      <td>0.173476</td>\n",
       "    </tr>\n",
       "    <tr>\n",
       "      <th>copper</th>\n",
       "      <td>0.170063</td>\n",
       "      <td>0.015660</td>\n",
       "      <td>-0.039511</td>\n",
       "      <td>0.062264</td>\n",
       "      <td>-0.111094</td>\n",
       "      <td>0.115878</td>\n",
       "      <td>0.108350</td>\n",
       "      <td>1.000000</td>\n",
       "      <td>0.009712</td>\n",
       "      <td>0.146322</td>\n",
       "      <td>...</td>\n",
       "      <td>0.124078</td>\n",
       "      <td>0.000514</td>\n",
       "      <td>0.156649</td>\n",
       "      <td>0.018043</td>\n",
       "      <td>0.100415</td>\n",
       "      <td>0.027999</td>\n",
       "      <td>-0.002013</td>\n",
       "      <td>0.086545</td>\n",
       "      <td>0.006355</td>\n",
       "      <td>0.028851</td>\n",
       "    </tr>\n",
       "    <tr>\n",
       "      <th>flouride</th>\n",
       "      <td>-0.012703</td>\n",
       "      <td>-0.027161</td>\n",
       "      <td>0.003165</td>\n",
       "      <td>-0.015182</td>\n",
       "      <td>0.003183</td>\n",
       "      <td>0.009724</td>\n",
       "      <td>0.002210</td>\n",
       "      <td>0.009712</td>\n",
       "      <td>1.000000</td>\n",
       "      <td>0.016926</td>\n",
       "      <td>...</td>\n",
       "      <td>0.017650</td>\n",
       "      <td>-0.011515</td>\n",
       "      <td>-0.019639</td>\n",
       "      <td>0.002448</td>\n",
       "      <td>-0.012875</td>\n",
       "      <td>0.001328</td>\n",
       "      <td>0.016763</td>\n",
       "      <td>0.016284</td>\n",
       "      <td>0.007236</td>\n",
       "      <td>0.010306</td>\n",
       "    </tr>\n",
       "    <tr>\n",
       "      <th>bacteria</th>\n",
       "      <td>-0.082954</td>\n",
       "      <td>0.065692</td>\n",
       "      <td>0.031157</td>\n",
       "      <td>0.095468</td>\n",
       "      <td>-0.094369</td>\n",
       "      <td>0.153786</td>\n",
       "      <td>0.139885</td>\n",
       "      <td>0.146322</td>\n",
       "      <td>0.016926</td>\n",
       "      <td>1.000000</td>\n",
       "      <td>...</td>\n",
       "      <td>-0.022141</td>\n",
       "      <td>-0.036337</td>\n",
       "      <td>0.240490</td>\n",
       "      <td>-0.008809</td>\n",
       "      <td>0.146137</td>\n",
       "      <td>0.093465</td>\n",
       "      <td>-0.005735</td>\n",
       "      <td>0.143209</td>\n",
       "      <td>0.041975</td>\n",
       "      <td>-0.024294</td>\n",
       "    </tr>\n",
       "    <tr>\n",
       "      <th>viruses</th>\n",
       "      <td>-0.071163</td>\n",
       "      <td>0.104898</td>\n",
       "      <td>0.010522</td>\n",
       "      <td>-0.006902</td>\n",
       "      <td>0.020365</td>\n",
       "      <td>0.005971</td>\n",
       "      <td>0.003214</td>\n",
       "      <td>0.005085</td>\n",
       "      <td>0.025031</td>\n",
       "      <td>0.621766</td>\n",
       "      <td>...</td>\n",
       "      <td>0.023172</td>\n",
       "      <td>-0.050143</td>\n",
       "      <td>-0.093893</td>\n",
       "      <td>0.006718</td>\n",
       "      <td>0.005057</td>\n",
       "      <td>-0.024424</td>\n",
       "      <td>-0.030197</td>\n",
       "      <td>0.009307</td>\n",
       "      <td>0.058345</td>\n",
       "      <td>-0.097163</td>\n",
       "    </tr>\n",
       "    <tr>\n",
       "      <th>lead</th>\n",
       "      <td>0.022673</td>\n",
       "      <td>-0.032646</td>\n",
       "      <td>-0.088072</td>\n",
       "      <td>-0.039317</td>\n",
       "      <td>-0.032801</td>\n",
       "      <td>-0.032524</td>\n",
       "      <td>-0.055108</td>\n",
       "      <td>0.124078</td>\n",
       "      <td>0.017650</td>\n",
       "      <td>-0.022141</td>\n",
       "      <td>...</td>\n",
       "      <td>1.000000</td>\n",
       "      <td>0.038187</td>\n",
       "      <td>-0.057009</td>\n",
       "      <td>-0.001300</td>\n",
       "      <td>-0.030350</td>\n",
       "      <td>-0.045055</td>\n",
       "      <td>0.025643</td>\n",
       "      <td>-0.053604</td>\n",
       "      <td>-0.006319</td>\n",
       "      <td>-0.010536</td>\n",
       "    </tr>\n",
       "    <tr>\n",
       "      <th>nitrates</th>\n",
       "      <td>-0.001549</td>\n",
       "      <td>0.009526</td>\n",
       "      <td>0.026469</td>\n",
       "      <td>-0.012231</td>\n",
       "      <td>0.018454</td>\n",
       "      <td>-0.002684</td>\n",
       "      <td>-0.012018</td>\n",
       "      <td>0.000514</td>\n",
       "      <td>-0.011515</td>\n",
       "      <td>-0.036337</td>\n",
       "      <td>...</td>\n",
       "      <td>0.038187</td>\n",
       "      <td>1.000000</td>\n",
       "      <td>0.016230</td>\n",
       "      <td>-0.021480</td>\n",
       "      <td>-0.008823</td>\n",
       "      <td>-0.021922</td>\n",
       "      <td>0.039855</td>\n",
       "      <td>0.008983</td>\n",
       "      <td>0.002395</td>\n",
       "      <td>-0.075085</td>\n",
       "    </tr>\n",
       "    <tr>\n",
       "      <th>nitrites</th>\n",
       "      <td>0.233105</td>\n",
       "      <td>-0.056676</td>\n",
       "      <td>0.303830</td>\n",
       "      <td>0.309503</td>\n",
       "      <td>-0.010868</td>\n",
       "      <td>0.372970</td>\n",
       "      <td>0.329508</td>\n",
       "      <td>0.156649</td>\n",
       "      <td>-0.019639</td>\n",
       "      <td>0.240490</td>\n",
       "      <td>...</td>\n",
       "      <td>-0.057009</td>\n",
       "      <td>0.016230</td>\n",
       "      <td>1.000000</td>\n",
       "      <td>-0.023070</td>\n",
       "      <td>0.338046</td>\n",
       "      <td>0.271366</td>\n",
       "      <td>0.012999</td>\n",
       "      <td>0.330295</td>\n",
       "      <td>-0.012253</td>\n",
       "      <td>0.040130</td>\n",
       "    </tr>\n",
       "    <tr>\n",
       "      <th>mercury</th>\n",
       "      <td>-0.006191</td>\n",
       "      <td>0.020285</td>\n",
       "      <td>-0.018397</td>\n",
       "      <td>0.007319</td>\n",
       "      <td>-0.016234</td>\n",
       "      <td>-0.020217</td>\n",
       "      <td>-0.022220</td>\n",
       "      <td>0.018043</td>\n",
       "      <td>0.002448</td>\n",
       "      <td>-0.008809</td>\n",
       "      <td>...</td>\n",
       "      <td>-0.001300</td>\n",
       "      <td>-0.021480</td>\n",
       "      <td>-0.023070</td>\n",
       "      <td>1.000000</td>\n",
       "      <td>0.004487</td>\n",
       "      <td>0.024136</td>\n",
       "      <td>0.042055</td>\n",
       "      <td>-0.000238</td>\n",
       "      <td>0.028619</td>\n",
       "      <td>-0.035947</td>\n",
       "    </tr>\n",
       "    <tr>\n",
       "      <th>perchlorate</th>\n",
       "      <td>0.357716</td>\n",
       "      <td>0.090641</td>\n",
       "      <td>0.331539</td>\n",
       "      <td>0.456348</td>\n",
       "      <td>-0.145134</td>\n",
       "      <td>0.581447</td>\n",
       "      <td>0.514906</td>\n",
       "      <td>0.100415</td>\n",
       "      <td>-0.012875</td>\n",
       "      <td>0.146137</td>\n",
       "      <td>...</td>\n",
       "      <td>-0.030350</td>\n",
       "      <td>-0.008823</td>\n",
       "      <td>0.338046</td>\n",
       "      <td>0.004487</td>\n",
       "      <td>1.000000</td>\n",
       "      <td>0.374839</td>\n",
       "      <td>0.011607</td>\n",
       "      <td>0.498437</td>\n",
       "      <td>0.000463</td>\n",
       "      <td>0.064262</td>\n",
       "    </tr>\n",
       "    <tr>\n",
       "      <th>radium</th>\n",
       "      <td>0.240013</td>\n",
       "      <td>0.050528</td>\n",
       "      <td>0.213682</td>\n",
       "      <td>0.281317</td>\n",
       "      <td>-0.100908</td>\n",
       "      <td>0.394574</td>\n",
       "      <td>0.314250</td>\n",
       "      <td>0.027999</td>\n",
       "      <td>0.001328</td>\n",
       "      <td>0.093465</td>\n",
       "      <td>...</td>\n",
       "      <td>-0.045055</td>\n",
       "      <td>-0.021922</td>\n",
       "      <td>0.271366</td>\n",
       "      <td>0.024136</td>\n",
       "      <td>0.374839</td>\n",
       "      <td>1.000000</td>\n",
       "      <td>0.030502</td>\n",
       "      <td>0.349976</td>\n",
       "      <td>0.009613</td>\n",
       "      <td>0.065607</td>\n",
       "    </tr>\n",
       "    <tr>\n",
       "      <th>selenium</th>\n",
       "      <td>-0.004114</td>\n",
       "      <td>0.025594</td>\n",
       "      <td>-0.007127</td>\n",
       "      <td>0.038386</td>\n",
       "      <td>0.011071</td>\n",
       "      <td>0.009073</td>\n",
       "      <td>0.028740</td>\n",
       "      <td>-0.002013</td>\n",
       "      <td>0.016763</td>\n",
       "      <td>-0.005735</td>\n",
       "      <td>...</td>\n",
       "      <td>0.025643</td>\n",
       "      <td>0.039855</td>\n",
       "      <td>0.012999</td>\n",
       "      <td>0.042055</td>\n",
       "      <td>0.011607</td>\n",
       "      <td>0.030502</td>\n",
       "      <td>1.000000</td>\n",
       "      <td>-0.023010</td>\n",
       "      <td>-0.016902</td>\n",
       "      <td>-0.033074</td>\n",
       "    </tr>\n",
       "    <tr>\n",
       "      <th>silver</th>\n",
       "      <td>0.330499</td>\n",
       "      <td>0.073099</td>\n",
       "      <td>0.302998</td>\n",
       "      <td>0.421992</td>\n",
       "      <td>-0.154129</td>\n",
       "      <td>0.517061</td>\n",
       "      <td>0.506409</td>\n",
       "      <td>0.086545</td>\n",
       "      <td>0.016284</td>\n",
       "      <td>0.143209</td>\n",
       "      <td>...</td>\n",
       "      <td>-0.053604</td>\n",
       "      <td>0.008983</td>\n",
       "      <td>0.330295</td>\n",
       "      <td>-0.000238</td>\n",
       "      <td>0.498437</td>\n",
       "      <td>0.349976</td>\n",
       "      <td>-0.023010</td>\n",
       "      <td>1.000000</td>\n",
       "      <td>0.003026</td>\n",
       "      <td>0.106132</td>\n",
       "    </tr>\n",
       "    <tr>\n",
       "      <th>uranium</th>\n",
       "      <td>0.012399</td>\n",
       "      <td>0.019134</td>\n",
       "      <td>0.000245</td>\n",
       "      <td>-0.006686</td>\n",
       "      <td>-0.002827</td>\n",
       "      <td>-0.008246</td>\n",
       "      <td>-0.003403</td>\n",
       "      <td>0.006355</td>\n",
       "      <td>0.007236</td>\n",
       "      <td>0.041975</td>\n",
       "      <td>...</td>\n",
       "      <td>-0.006319</td>\n",
       "      <td>0.002395</td>\n",
       "      <td>-0.012253</td>\n",
       "      <td>0.028619</td>\n",
       "      <td>0.000463</td>\n",
       "      <td>0.009613</td>\n",
       "      <td>-0.016902</td>\n",
       "      <td>0.003026</td>\n",
       "      <td>1.000000</td>\n",
       "      <td>-0.073420</td>\n",
       "    </tr>\n",
       "    <tr>\n",
       "      <th>is_safe</th>\n",
       "      <td>0.333875</td>\n",
       "      <td>-0.023254</td>\n",
       "      <td>-0.128711</td>\n",
       "      <td>0.087037</td>\n",
       "      <td>-0.261158</td>\n",
       "      <td>0.181654</td>\n",
       "      <td>0.173476</td>\n",
       "      <td>0.028851</td>\n",
       "      <td>0.010306</td>\n",
       "      <td>-0.024294</td>\n",
       "      <td>...</td>\n",
       "      <td>-0.010536</td>\n",
       "      <td>-0.075085</td>\n",
       "      <td>0.040130</td>\n",
       "      <td>-0.035947</td>\n",
       "      <td>0.064262</td>\n",
       "      <td>0.065607</td>\n",
       "      <td>-0.033074</td>\n",
       "      <td>0.106132</td>\n",
       "      <td>-0.073420</td>\n",
       "      <td>1.000000</td>\n",
       "    </tr>\n",
       "  </tbody>\n",
       "</table>\n",
       "<p>21 rows × 21 columns</p>\n",
       "</div>"
      ],
      "text/plain": [
       "             aluminium   ammonia   arsenic    barium   cadmium  chloramine  \\\n",
       "aluminium     1.000000  0.067831  0.222275  0.289333 -0.099420    0.365220   \n",
       "ammonia       0.067831  1.000000  0.051039  0.071438 -0.003737    0.106295   \n",
       "arsenic       0.222275  0.051039  1.000000  0.360021  0.338823    0.352616   \n",
       "barium        0.289333  0.071438  0.360021  1.000000 -0.033808    0.438962   \n",
       "cadmium      -0.099420 -0.003737  0.338823 -0.033808  1.000000   -0.143621   \n",
       "chloramine    0.365220  0.106295  0.352616  0.438962 -0.143621    1.000000   \n",
       "chromium      0.350424  0.128192  0.308218  0.408716 -0.156289    0.546913   \n",
       "copper        0.170063  0.015660 -0.039511  0.062264 -0.111094    0.115878   \n",
       "flouride     -0.012703 -0.027161  0.003165 -0.015182  0.003183    0.009724   \n",
       "bacteria     -0.082954  0.065692  0.031157  0.095468 -0.094369    0.153786   \n",
       "viruses      -0.071163  0.104898  0.010522 -0.006902  0.020365    0.005971   \n",
       "lead          0.022673 -0.032646 -0.088072 -0.039317 -0.032801   -0.032524   \n",
       "nitrates     -0.001549  0.009526  0.026469 -0.012231  0.018454   -0.002684   \n",
       "nitrites      0.233105 -0.056676  0.303830  0.309503 -0.010868    0.372970   \n",
       "mercury      -0.006191  0.020285 -0.018397  0.007319 -0.016234   -0.020217   \n",
       "perchlorate   0.357716  0.090641  0.331539  0.456348 -0.145134    0.581447   \n",
       "radium        0.240013  0.050528  0.213682  0.281317 -0.100908    0.394574   \n",
       "selenium     -0.004114  0.025594 -0.007127  0.038386  0.011071    0.009073   \n",
       "silver        0.330499  0.073099  0.302998  0.421992 -0.154129    0.517061   \n",
       "uranium       0.012399  0.019134  0.000245 -0.006686 -0.002827   -0.008246   \n",
       "is_safe       0.333875 -0.023254 -0.128711  0.087037 -0.261158    0.181654   \n",
       "\n",
       "             chromium    copper  flouride  bacteria  ...      lead  nitrates  \\\n",
       "aluminium    0.350424  0.170063 -0.012703 -0.082954  ...  0.022673 -0.001549   \n",
       "ammonia      0.128192  0.015660 -0.027161  0.065692  ... -0.032646  0.009526   \n",
       "arsenic      0.308218 -0.039511  0.003165  0.031157  ... -0.088072  0.026469   \n",
       "barium       0.408716  0.062264 -0.015182  0.095468  ... -0.039317 -0.012231   \n",
       "cadmium     -0.156289 -0.111094  0.003183 -0.094369  ... -0.032801  0.018454   \n",
       "chloramine   0.546913  0.115878  0.009724  0.153786  ... -0.032524 -0.002684   \n",
       "chromium     1.000000  0.108350  0.002210  0.139885  ... -0.055108 -0.012018   \n",
       "copper       0.108350  1.000000  0.009712  0.146322  ...  0.124078  0.000514   \n",
       "flouride     0.002210  0.009712  1.000000  0.016926  ...  0.017650 -0.011515   \n",
       "bacteria     0.139885  0.146322  0.016926  1.000000  ... -0.022141 -0.036337   \n",
       "viruses      0.003214  0.005085  0.025031  0.621766  ...  0.023172 -0.050143   \n",
       "lead        -0.055108  0.124078  0.017650 -0.022141  ...  1.000000  0.038187   \n",
       "nitrates    -0.012018  0.000514 -0.011515 -0.036337  ...  0.038187  1.000000   \n",
       "nitrites     0.329508  0.156649 -0.019639  0.240490  ... -0.057009  0.016230   \n",
       "mercury     -0.022220  0.018043  0.002448 -0.008809  ... -0.001300 -0.021480   \n",
       "perchlorate  0.514906  0.100415 -0.012875  0.146137  ... -0.030350 -0.008823   \n",
       "radium       0.314250  0.027999  0.001328  0.093465  ... -0.045055 -0.021922   \n",
       "selenium     0.028740 -0.002013  0.016763 -0.005735  ...  0.025643  0.039855   \n",
       "silver       0.506409  0.086545  0.016284  0.143209  ... -0.053604  0.008983   \n",
       "uranium     -0.003403  0.006355  0.007236  0.041975  ... -0.006319  0.002395   \n",
       "is_safe      0.173476  0.028851  0.010306 -0.024294  ... -0.010536 -0.075085   \n",
       "\n",
       "             nitrites   mercury  perchlorate    radium  selenium    silver  \\\n",
       "aluminium    0.233105 -0.006191     0.357716  0.240013 -0.004114  0.330499   \n",
       "ammonia     -0.056676  0.020285     0.090641  0.050528  0.025594  0.073099   \n",
       "arsenic      0.303830 -0.018397     0.331539  0.213682 -0.007127  0.302998   \n",
       "barium       0.309503  0.007319     0.456348  0.281317  0.038386  0.421992   \n",
       "cadmium     -0.010868 -0.016234    -0.145134 -0.100908  0.011071 -0.154129   \n",
       "chloramine   0.372970 -0.020217     0.581447  0.394574  0.009073  0.517061   \n",
       "chromium     0.329508 -0.022220     0.514906  0.314250  0.028740  0.506409   \n",
       "copper       0.156649  0.018043     0.100415  0.027999 -0.002013  0.086545   \n",
       "flouride    -0.019639  0.002448    -0.012875  0.001328  0.016763  0.016284   \n",
       "bacteria     0.240490 -0.008809     0.146137  0.093465 -0.005735  0.143209   \n",
       "viruses     -0.093893  0.006718     0.005057 -0.024424 -0.030197  0.009307   \n",
       "lead        -0.057009 -0.001300    -0.030350 -0.045055  0.025643 -0.053604   \n",
       "nitrates     0.016230 -0.021480    -0.008823 -0.021922  0.039855  0.008983   \n",
       "nitrites     1.000000 -0.023070     0.338046  0.271366  0.012999  0.330295   \n",
       "mercury     -0.023070  1.000000     0.004487  0.024136  0.042055 -0.000238   \n",
       "perchlorate  0.338046  0.004487     1.000000  0.374839  0.011607  0.498437   \n",
       "radium       0.271366  0.024136     0.374839  1.000000  0.030502  0.349976   \n",
       "selenium     0.012999  0.042055     0.011607  0.030502  1.000000 -0.023010   \n",
       "silver       0.330295 -0.000238     0.498437  0.349976 -0.023010  1.000000   \n",
       "uranium     -0.012253  0.028619     0.000463  0.009613 -0.016902  0.003026   \n",
       "is_safe      0.040130 -0.035947     0.064262  0.065607 -0.033074  0.106132   \n",
       "\n",
       "              uranium   is_safe  \n",
       "aluminium    0.012399  0.333875  \n",
       "ammonia      0.019134 -0.023254  \n",
       "arsenic      0.000245 -0.128711  \n",
       "barium      -0.006686  0.087037  \n",
       "cadmium     -0.002827 -0.261158  \n",
       "chloramine  -0.008246  0.181654  \n",
       "chromium    -0.003403  0.173476  \n",
       "copper       0.006355  0.028851  \n",
       "flouride     0.007236  0.010306  \n",
       "bacteria     0.041975 -0.024294  \n",
       "viruses      0.058345 -0.097163  \n",
       "lead        -0.006319 -0.010536  \n",
       "nitrates     0.002395 -0.075085  \n",
       "nitrites    -0.012253  0.040130  \n",
       "mercury      0.028619 -0.035947  \n",
       "perchlorate  0.000463  0.064262  \n",
       "radium       0.009613  0.065607  \n",
       "selenium    -0.016902 -0.033074  \n",
       "silver       0.003026  0.106132  \n",
       "uranium      1.000000 -0.073420  \n",
       "is_safe     -0.073420  1.000000  \n",
       "\n",
       "[21 rows x 21 columns]"
      ]
     },
     "execution_count": 506,
     "metadata": {},
     "output_type": "execute_result"
    }
   ],
   "source": [
    "data.corr()"
   ]
  },
  {
   "cell_type": "code",
   "execution_count": 397,
   "id": "4cedea4b",
   "metadata": {
    "scrolled": false
   },
   "outputs": [],
   "source": [
    "for i in data:\n",
    "    for j in data.corr()[i]:\n",
    "        if j>.8 and j!=1.0:\n",
    "            print(i,\" : \")\n",
    "            print(data.corr()[i])\n",
    "            print(\"\\n\\n\")"
   ]
  },
  {
   "cell_type": "code",
   "execution_count": 398,
   "id": "a9b142eb",
   "metadata": {},
   "outputs": [],
   "source": [
    "#no parameter with high correlation"
   ]
  },
  {
   "cell_type": "markdown",
   "id": "d65e3b87",
   "metadata": {},
   "source": [
    " "
   ]
  },
  {
   "cell_type": "markdown",
   "id": "412f5e5a",
   "metadata": {},
   "source": [
    " "
   ]
  },
  {
   "cell_type": "markdown",
   "id": "830c0eab",
   "metadata": {},
   "source": [
    " "
   ]
  },
  {
   "cell_type": "markdown",
   "id": "cc0efa5a",
   "metadata": {},
   "source": [
    " "
   ]
  },
  {
   "cell_type": "markdown",
   "id": "2bb09cea",
   "metadata": {},
   "source": [
    "# Splitting data"
   ]
  },
  {
   "cell_type": "code",
   "execution_count": 435,
   "id": "f131c76e",
   "metadata": {},
   "outputs": [],
   "source": [
    "from sklearn.model_selection import train_test_split"
   ]
  },
  {
   "cell_type": "code",
   "execution_count": 436,
   "id": "a2347fb5",
   "metadata": {},
   "outputs": [],
   "source": [
    "x_train,x_test,y_train,y_test = train_test_split(data.drop(\"is_safe\",axis=1),\n",
    "                                                 data[\"is_safe\"],\n",
    "                                                 test_size=0.2,\n",
    "                                                 random_state=0)"
   ]
  },
  {
   "cell_type": "code",
   "execution_count": 437,
   "id": "aff74ff9",
   "metadata": {},
   "outputs": [
    {
     "name": "stdout",
     "output_type": "stream",
     "text": [
      "Shape of x_train:  (6100, 20)\n",
      "Shape of y_train:  (6100,)\n",
      "Shape of x_test:  (1526, 20)\n",
      "Shape of y_test:  (1526,)\n"
     ]
    }
   ],
   "source": [
    "print(\"Shape of x_train: \",x_train.shape)\n",
    "print(\"Shape of y_train: \",y_train.shape)\n",
    "print(\"Shape of x_test: \",x_test.shape)\n",
    "print(\"Shape of y_test: \",y_test.shape)"
   ]
  },
  {
   "cell_type": "markdown",
   "id": "75a2975a",
   "metadata": {},
   "source": [
    " "
   ]
  },
  {
   "cell_type": "markdown",
   "id": "3ba0aa54",
   "metadata": {},
   "source": [
    " "
   ]
  },
  {
   "cell_type": "markdown",
   "id": "e270e8ae",
   "metadata": {},
   "source": [
    " "
   ]
  },
  {
   "cell_type": "markdown",
   "id": "85b5fd11",
   "metadata": {},
   "source": [
    " "
   ]
  },
  {
   "cell_type": "markdown",
   "id": "ae3caccf",
   "metadata": {},
   "source": [
    "# Creating model"
   ]
  },
  {
   "cell_type": "markdown",
   "id": "b41c4e1f",
   "metadata": {},
   "source": [
    "\n",
    "# Logistic Regression"
   ]
  },
  {
   "cell_type": "code",
   "execution_count": 472,
   "id": "e7071c47",
   "metadata": {},
   "outputs": [],
   "source": [
    "from sklearn.linear_model import LogisticRegression"
   ]
  },
  {
   "cell_type": "code",
   "execution_count": 481,
   "id": "a698cb98",
   "metadata": {},
   "outputs": [],
   "source": [
    "model = LogisticRegression(max_iter=800)"
   ]
  },
  {
   "cell_type": "code",
   "execution_count": 482,
   "id": "01c022e7",
   "metadata": {},
   "outputs": [
    {
     "data": {
      "text/plain": [
       "LogisticRegression(max_iter=800)"
      ]
     },
     "execution_count": 482,
     "metadata": {},
     "output_type": "execute_result"
    }
   ],
   "source": [
    "model.fit(x_train,y_train)"
   ]
  },
  {
   "cell_type": "code",
   "execution_count": 483,
   "id": "2b6bad43",
   "metadata": {},
   "outputs": [],
   "source": [
    "y_pred = model.predict(x_test)"
   ]
  },
  {
   "cell_type": "code",
   "execution_count": null,
   "id": "b56505a1",
   "metadata": {},
   "outputs": [],
   "source": []
  },
  {
   "cell_type": "code",
   "execution_count": 484,
   "id": "2968c03a",
   "metadata": {},
   "outputs": [],
   "source": [
    "from sklearn.metrics import confusion_matrix"
   ]
  },
  {
   "cell_type": "code",
   "execution_count": 485,
   "id": "3cbccc7c",
   "metadata": {},
   "outputs": [
    {
     "name": "stdout",
     "output_type": "stream",
     "text": [
      "[[1319   28]\n",
      " [ 127   52]]\n"
     ]
    }
   ],
   "source": [
    "print(confusion_matrix(y_test , y_pred))"
   ]
  },
  {
   "cell_type": "code",
   "execution_count": 486,
   "id": "65e76f71",
   "metadata": {},
   "outputs": [],
   "source": [
    "from sklearn.metrics import accuracy_score"
   ]
  },
  {
   "cell_type": "code",
   "execution_count": 487,
   "id": "9bcf9ef4",
   "metadata": {},
   "outputs": [
    {
     "name": "stdout",
     "output_type": "stream",
     "text": [
      "Accuracy : 0.898427%\n"
     ]
    }
   ],
   "source": [
    "score = accuracy_score(y_test , y_pred)\n",
    "print(\"Accuracy : %f%%\"%score)"
   ]
  },
  {
   "cell_type": "code",
   "execution_count": 488,
   "id": "f0840c2e",
   "metadata": {},
   "outputs": [
    {
     "name": "stdout",
     "output_type": "stream",
     "text": [
      "auc of roc :  0.6348579296844218\n"
     ]
    }
   ],
   "source": [
    "from sklearn.metrics import roc_auc_score\n",
    "\n",
    "print(\"auc of roc : \",roc_auc_score(y_test,y_pred))"
   ]
  },
  {
   "cell_type": "markdown",
   "id": "0e65e8e1",
   "metadata": {},
   "source": [
    " "
   ]
  },
  {
   "cell_type": "markdown",
   "id": "63a55cd3",
   "metadata": {},
   "source": [
    " "
   ]
  },
  {
   "cell_type": "markdown",
   "id": "efed4d24",
   "metadata": {},
   "source": [
    " "
   ]
  },
  {
   "cell_type": "markdown",
   "id": "f809ab7b",
   "metadata": {},
   "source": [
    " "
   ]
  },
  {
   "cell_type": "markdown",
   "id": "af1580eb",
   "metadata": {},
   "source": [
    "# Linear Discriminant Analysis"
   ]
  },
  {
   "cell_type": "code",
   "execution_count": 496,
   "id": "57fad93a",
   "metadata": {},
   "outputs": [],
   "source": [
    "from sklearn.discriminant_analysis import LinearDiscriminantAnalysis"
   ]
  },
  {
   "cell_type": "code",
   "execution_count": 497,
   "id": "be7c8525",
   "metadata": {},
   "outputs": [],
   "source": [
    "model_2 = LinearDiscriminantAnalysis()"
   ]
  },
  {
   "cell_type": "code",
   "execution_count": 498,
   "id": "f6c640e7",
   "metadata": {},
   "outputs": [
    {
     "data": {
      "text/plain": [
       "LinearDiscriminantAnalysis()"
      ]
     },
     "execution_count": 498,
     "metadata": {},
     "output_type": "execute_result"
    }
   ],
   "source": [
    "model_2.fit(x_train,y_train)"
   ]
  },
  {
   "cell_type": "code",
   "execution_count": 499,
   "id": "5b7aaff9",
   "metadata": {},
   "outputs": [],
   "source": [
    "y_pred = model_2.predict(x_test)"
   ]
  },
  {
   "cell_type": "code",
   "execution_count": 500,
   "id": "8f183ee9",
   "metadata": {},
   "outputs": [
    {
     "name": "stdout",
     "output_type": "stream",
     "text": [
      "[[1296   51]\n",
      " [ 105   74]]\n"
     ]
    }
   ],
   "source": [
    "print(confusion_matrix(y_test , y_pred))"
   ]
  },
  {
   "cell_type": "code",
   "execution_count": 501,
   "id": "0e69f351",
   "metadata": {},
   "outputs": [
    {
     "name": "stdout",
     "output_type": "stream",
     "text": [
      "Accuracy : 0.897772%\n"
     ]
    }
   ],
   "source": [
    "score = accuracy_score(y_test , y_pred)\n",
    "print(\"Accuracy : %f%%\"%score)"
   ]
  },
  {
   "cell_type": "code",
   "execution_count": 502,
   "id": "4b1c5e4d",
   "metadata": {},
   "outputs": [
    {
     "name": "stdout",
     "output_type": "stream",
     "text": [
      "auc of roc :  0.6877729529307836\n"
     ]
    }
   ],
   "source": [
    "print(\"auc of roc : \",roc_auc_score(y_test,y_pred))"
   ]
  },
  {
   "cell_type": "markdown",
   "id": "a8bf56aa",
   "metadata": {},
   "source": [
    " "
   ]
  },
  {
   "cell_type": "markdown",
   "id": "406471cc",
   "metadata": {},
   "source": [
    " "
   ]
  },
  {
   "cell_type": "markdown",
   "id": "e668bf7b",
   "metadata": {},
   "source": [
    " "
   ]
  },
  {
   "cell_type": "markdown",
   "id": "a3e2fef3",
   "metadata": {},
   "source": [
    " "
   ]
  },
  {
   "cell_type": "markdown",
   "id": "b4e3943a",
   "metadata": {},
   "source": [
    " "
   ]
  },
  {
   "cell_type": "markdown",
   "id": "01ffec1c",
   "metadata": {},
   "source": [
    "# K-Nearest Neighbour"
   ]
  },
  {
   "cell_type": "markdown",
   "id": "f91a2eb2",
   "metadata": {},
   "source": [
    "\n",
    "# Standandardizing data"
   ]
  },
  {
   "cell_type": "code",
   "execution_count": 503,
   "id": "9041526b",
   "metadata": {},
   "outputs": [],
   "source": [
    "from sklearn.preprocessing import StandardScaler"
   ]
  },
  {
   "cell_type": "code",
   "execution_count": 504,
   "id": "e952834e",
   "metadata": {},
   "outputs": [
    {
     "data": {
      "text/plain": [
       "StandardScaler()"
      ]
     },
     "execution_count": 504,
     "metadata": {},
     "output_type": "execute_result"
    }
   ],
   "source": [
    "scaler = StandardScaler()\n",
    "scaler.fit(x_train)"
   ]
  },
  {
   "cell_type": "code",
   "execution_count": 505,
   "id": "3a1cd053",
   "metadata": {},
   "outputs": [],
   "source": [
    "x_train = scaler.transform(x_train)\n",
    "x_test = scaler.transform(x_test)"
   ]
  },
  {
   "cell_type": "markdown",
   "id": "fa388858",
   "metadata": {},
   "source": [
    " "
   ]
  },
  {
   "cell_type": "code",
   "execution_count": 507,
   "id": "fd742c94",
   "metadata": {},
   "outputs": [],
   "source": [
    "from sklearn.neighbors import KNeighborsClassifier"
   ]
  },
  {
   "cell_type": "code",
   "execution_count": 509,
   "id": "342a83f6",
   "metadata": {},
   "outputs": [],
   "source": [
    "KNeighborsClassifier?"
   ]
  },
  {
   "cell_type": "code",
   "execution_count": 508,
   "id": "1b8e13ed",
   "metadata": {},
   "outputs": [],
   "source": [
    "from sklearn.model_selection import GridSearchCV"
   ]
  },
  {
   "cell_type": "code",
   "execution_count": 510,
   "id": "51b12c86",
   "metadata": {},
   "outputs": [],
   "source": [
    "param = {'n_neighbors' : [1,2,3,4,5,6,7,8,9,10,11,12]}"
   ]
  },
  {
   "cell_type": "code",
   "execution_count": 515,
   "id": "5992392c",
   "metadata": {},
   "outputs": [],
   "source": [
    "grid_search = GridSearchCV(KNeighborsClassifier() , param , \"accuracy\")"
   ]
  },
  {
   "cell_type": "code",
   "execution_count": 516,
   "id": "97042b29",
   "metadata": {},
   "outputs": [
    {
     "data": {
      "text/plain": [
       "GridSearchCV(estimator=KNeighborsClassifier(),\n",
       "             param_grid={'n_neighbors': [1, 2, 3, 4, 5, 6, 7, 8, 9, 10, 11,\n",
       "                                         12]},\n",
       "             scoring='accuracy')"
      ]
     },
     "execution_count": 516,
     "metadata": {},
     "output_type": "execute_result"
    }
   ],
   "source": [
    "grid_search.fit(x_train , y_train)"
   ]
  },
  {
   "cell_type": "code",
   "execution_count": 517,
   "id": "a35ea433",
   "metadata": {},
   "outputs": [],
   "source": [
    "model_3 = grid_search.best_estimator_"
   ]
  },
  {
   "cell_type": "code",
   "execution_count": 518,
   "id": "8e8ad3d0",
   "metadata": {},
   "outputs": [],
   "source": [
    "y_pred = model_3.predict(x_test)"
   ]
  },
  {
   "cell_type": "markdown",
   "id": "f0c1f8b5",
   "metadata": {},
   "source": [
    " "
   ]
  },
  {
   "cell_type": "code",
   "execution_count": 519,
   "id": "26f21b9b",
   "metadata": {},
   "outputs": [
    {
     "name": "stdout",
     "output_type": "stream",
     "text": [
      "[[1322   25]\n",
      " [ 109   70]]\n"
     ]
    }
   ],
   "source": [
    "print(confusion_matrix(y_test , y_pred))"
   ]
  },
  {
   "cell_type": "code",
   "execution_count": 520,
   "id": "76bc8668",
   "metadata": {},
   "outputs": [
    {
     "name": "stdout",
     "output_type": "stream",
     "text": [
      "Accuracy : 0.912189%\n"
     ]
    }
   ],
   "source": [
    "score = accuracy_score(y_test , y_pred)\n",
    "print(\"Accuracy : %f%%\"%score)"
   ]
  },
  {
   "cell_type": "code",
   "execution_count": 521,
   "id": "e0dc077f",
   "metadata": {},
   "outputs": [
    {
     "name": "stdout",
     "output_type": "stream",
     "text": [
      "auc of roc :  0.6862508450394628\n"
     ]
    }
   ],
   "source": [
    "print(\"auc of roc : \",roc_auc_score(y_test,y_pred))"
   ]
  },
  {
   "cell_type": "code",
   "execution_count": null,
   "id": "26c64d67",
   "metadata": {},
   "outputs": [],
   "source": []
  }
 ],
 "metadata": {
  "kernelspec": {
   "display_name": "Python 3 (ipykernel)",
   "language": "python",
   "name": "python3"
  },
  "language_info": {
   "codemirror_mode": {
    "name": "ipython",
    "version": 3
   },
   "file_extension": ".py",
   "mimetype": "text/x-python",
   "name": "python",
   "nbconvert_exporter": "python",
   "pygments_lexer": "ipython3",
   "version": "3.8.11"
  }
 },
 "nbformat": 4,
 "nbformat_minor": 5
}
